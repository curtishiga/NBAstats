import pandas as pd
import numpy as np
from datetime import datetime
#import pytz
import scipy
import requests
import warnings
import json
import matplotlib.pyplot as plt
import matplotlib.dates as mdates
import seaborn as sns

warnings.filterwarnings('ignore')
pd.set_option('display.max_columns',None)





data_path = '/'.join(['.','Data',
                      'NBA Points Stats_2021-2023.xlsx'])

pts_data = pd.read_excel(data_path,
                         sheet_name = 'Points',
                         header = 0,
                         parse_dates = ['game_date'],
                        engine='openpyxl')


pts_data.head()





split_date = pts_data['game_date'].unique()[int(len(pts_data['game_date'].unique()) * 0.7)]


train = pts_data[pts_data['game_date'] <= split_date]
test = pts_data[pts_data['game_date'] > split_date]


X_cols = ['game_date',
                 'player_position','player_pts_per36_stand',
                 'team_off_ppg_stand','opp_def_ppg_stand']
y_cols = ['pts']





X_train = train[X_cols]
y_train = train[['pts']]



