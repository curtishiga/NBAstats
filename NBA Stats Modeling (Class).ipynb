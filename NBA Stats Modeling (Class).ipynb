{
 "cells": [
  {
   "cell_type": "code",
   "execution_count": 1,
   "id": "3b9aaee6-9032-4b6e-bf3d-72f52c25d714",
   "metadata": {},
   "outputs": [],
   "source": [
    "import pandas as pd\n",
    "import numpy as np\n",
    "from datetime import datetime\n",
    "#import pytz\n",
    "import scipy\n",
    "import requests\n",
    "import warnings\n",
    "import json\n",
    "import matplotlib.pyplot as plt\n",
    "import matplotlib.dates as mdates\n",
    "import seaborn as sns\n",
    "\n",
    "warnings.filterwarnings('ignore')\n",
    "pd.set_option('display.max_columns',None)\n",
    "\n",
    "import extract_nba_rolling_stats"
   ]
  },
  {
   "cell_type": "markdown",
   "id": "bfd2a20a-cb41-4885-904d-6cc3d7fb75fa",
   "metadata": {},
   "source": [
    "# Parameters and Data"
   ]
  },
  {
   "cell_type": "code",
   "execution_count": null,
   "id": "b03357e8-6add-43fb-a5f3-f7a5898de7e1",
   "metadata": {},
   "outputs": [],
   "source": [
    "eda_rolling_period = 25\n",
    "eda_stat_cats = ['pts']\n",
    "\n",
    "eda_params = extract_nba_rolling_stats.UserParameters(rolling_period = eda_rolling_period,\n",
    "                                                    stat_cats = eda_stat_cats)"
   ]
  },
  {
   "cell_type": "code",
   "execution_count": null,
   "id": "3e71c13d-9bec-4a29-b746-59619591e09f",
   "metadata": {},
   "outputs": [],
   "source": [
    "extracted_data = extract_nba_rolling_stats\\\n",
    "                        .run_extract(roll_period = eda_rolling_period,\n",
    "                                     categories = eda_stat_cats)\\\n",
    "                        .extracted_data\n",
    "\n",
    "rolling_data = extract_nba_rolling_stats\\\n",
    "                .get_rolling_stats(original_data = extracted_data,\n",
    "                                   p = eda_params\n",
    "                                  )\n",
    "\n",
    "standardized_data = extract_nba_rolling_stats\\\n",
    "                        .standardize_data(rolling_data,\n",
    "                                          eda_params.stat_cats)"
   ]
  },
  {
   "cell_type": "code",
   "execution_count": null,
   "id": "9f6b2baa-d9d2-424d-9c46-fdf5cad1c140",
   "metadata": {},
   "outputs": [],
   "source": [
    "standardized_data"
   ]
  },
  {
   "cell_type": "code",
   "execution_count": null,
   "id": "fc82fc36-bd96-492d-af88-2add1120fe1c",
   "metadata": {},
   "outputs": [],
   "source": []
  },
  {
   "cell_type": "code",
   "execution_count": 2,
   "id": "b5d5ab67-c123-4989-bdca-430282627bf5",
   "metadata": {},
   "outputs": [],
   "source": [
    "def pull_preprocess_data(rolling_period = 62,\n",
    "                         stat_cats = ['pts']):\n",
    "    user_params = extract_nba_rolling_stats\\\n",
    "                      .UserParameters(rolling_period = rolling_period,\n",
    "                                     stat_cats = stat_cats)\n",
    "    \n",
    "    def split_train_test(data):\n",
    "        split_date = data['game_date'].unique()[int(len(data['game_date'].unique()) * 0.7)]\n",
    "    \n",
    "        train = data[data['game_date'] <= split_date]\n",
    "        test = data[data['game_date'] > split_date]\n",
    "    \n",
    "        # Independent and Dependent variables\n",
    "        X_cols = [col for col in data.columns if ((col == 'min')\n",
    "                                                  | (('player_' in col)\n",
    "                                                     & ('_mean' in col))\n",
    "                                                  # | ('_stand' in col)\n",
    "                                                 )\n",
    "                 ]\n",
    "        y_cols = [col for col in data.columns if '_normed' in col]\n",
    "    \n",
    "        # Training set\n",
    "        X_train = train[X_cols].dropna()\n",
    "        y_train = train.loc[X_train.index,\n",
    "                            y_cols]\n",
    "    \n",
    "        # Test set\n",
    "        X_test = test[X_cols].dropna()\n",
    "        y_test = test.loc[X_test.index,\n",
    "                        y_cols]\n",
    "    \n",
    "        return X_train, X_test, y_train, y_test\n",
    "\n",
    "    \n",
    "    extracted_data = extract_nba_rolling_stats\\\n",
    "                            .run_extract(roll_period = rolling_period,\n",
    "                                         categories = stat_cats)\\\n",
    "                            .extracted_data\n",
    "    \n",
    "    rolling_data = extract_nba_rolling_stats\\\n",
    "                    .get_rolling_stats(original_data = extracted_data,\n",
    "                                       p = user_params\n",
    "                                      )\n",
    "\n",
    "    standardized_data = extract_nba_rolling_stats\\\n",
    "                            .standardize_data(rolling_data,\n",
    "                                              user_params.stat_cats)\n",
    "\n",
    "    \n",
    "    for cat in stat_cats:\n",
    "        standardized_data[cat+'_normed'] = standardized_data[cat].apply(lambda x: (x**(1/2)).real)\n",
    "        \n",
    "        # Remove Outliers\n",
    "        third_quart = np.percentile(standardized_data[cat], 75, method='midpoint')\n",
    "        first_quart = np.percentile(standardized_data[cat], 25, method='midpoint')\n",
    "\n",
    "        interquartile_range = third_quart - first_quart\n",
    "        \n",
    "        upper = third_quart + (1.5*interquartile_range)\n",
    "\n",
    "        standardized_data.drop(standardized_data[standardized_data[cat] > upper].index,\n",
    "                 inplace = True)\n",
    "\n",
    "        # Normalize Data\n",
    "        standardized_data[cat+'_normed'] = standardized_data[cat].apply(lambda x: (x**(1/2)).real)\n",
    "\n",
    "        # Categorize if average was met by player\n",
    "        standardized_data[cat+'_avg_met'] = (standardized_data['fpts'] >= standardized_data['player_fpts_mean']).apply(int)\n",
    "\n",
    "    # Dummify Data\n",
    "    data_dummied = pd.get_dummies(data = standardized_data.dropna(how = 'any'),\n",
    "                              columns= ['player_position'],\n",
    "                              dtype = int)\n",
    "\n",
    "    X_train, X_test, y_train, y_test = split_train_test(data_dummied)\n",
    "    \n",
    "    return data_dummied#X_train, X_test, y_train, y_test"
   ]
  },
  {
   "cell_type": "code",
   "execution_count": null,
   "id": "82aa0325-2ac8-4d8e-97e0-324ee5ef8460",
   "metadata": {},
   "outputs": [],
   "source": []
  },
  {
   "cell_type": "code",
   "execution_count": 3,
   "id": "18e3bc56-6beb-48c4-bb35-1693f6875131",
   "metadata": {
    "scrolled": true
   },
   "outputs": [
    {
     "name": "stdout",
     "output_type": "stream",
     "text": [
      "Calculating stats for ['fpts']\n",
      "Reading in Stats\n",
      "Reading in Games\n",
      "Reading in Players\n",
      "Calculating individual team rolling statistics...\n",
      "Shifting data...\n",
      "Calculating league team rolling statistics...\n",
      "Shifting data...\n",
      "Calculating individual player rolling statistics...\n",
      "Shifting data...\n",
      "Calculating league player rolling statistics...\n",
      "Shifting data...\n",
      "Merging all data...\n",
      "Standardizing data...\n",
      "Done!\n",
      "Calculating individual team rolling statistics...\n",
      "Shifting data...\n",
      "Calculating league team rolling statistics...\n",
      "Shifting data...\n",
      "Calculating individual player rolling statistics...\n",
      "Shifting data...\n",
      "Calculating league player rolling statistics...\n",
      "Shifting data...\n",
      "Merging all data...\n",
      "Standardizing data...\n",
      "Calculating stats for ['fpts']\n",
      "Reading in Stats\n",
      "Reading in Games\n",
      "Reading in Players\n",
      "Calculating individual team rolling statistics...\n",
      "Shifting data...\n",
      "Calculating league team rolling statistics...\n",
      "Shifting data...\n",
      "Calculating individual player rolling statistics...\n",
      "Shifting data...\n",
      "Calculating league player rolling statistics...\n",
      "Shifting data...\n",
      "Merging all data...\n",
      "Standardizing data...\n",
      "Done!\n",
      "Calculating individual team rolling statistics...\n",
      "Shifting data...\n",
      "Calculating league team rolling statistics...\n",
      "Shifting data...\n",
      "Calculating individual player rolling statistics...\n",
      "Shifting data...\n",
      "Calculating league player rolling statistics...\n",
      "Shifting data...\n",
      "Merging all data...\n",
      "Standardizing data...\n",
      "Calculating stats for ['fpts']\n",
      "Reading in Stats\n",
      "Reading in Games\n",
      "Reading in Players\n",
      "Calculating individual team rolling statistics...\n",
      "Shifting data...\n",
      "Calculating league team rolling statistics...\n",
      "Shifting data...\n",
      "Calculating individual player rolling statistics...\n",
      "Shifting data...\n",
      "Calculating league player rolling statistics...\n",
      "Shifting data...\n",
      "Merging all data...\n",
      "Standardizing data...\n",
      "Done!\n",
      "Calculating individual team rolling statistics...\n",
      "Shifting data...\n",
      "Calculating league team rolling statistics...\n",
      "Shifting data...\n",
      "Calculating individual player rolling statistics...\n",
      "Shifting data...\n",
      "Calculating league player rolling statistics...\n",
      "Shifting data...\n",
      "Merging all data...\n",
      "Standardizing data...\n",
      "Calculating stats for ['fpts']\n",
      "Reading in Stats\n",
      "Reading in Games\n",
      "Reading in Players\n",
      "Calculating individual team rolling statistics...\n",
      "Shifting data...\n",
      "Calculating league team rolling statistics...\n",
      "Shifting data...\n",
      "Calculating individual player rolling statistics...\n",
      "Shifting data...\n",
      "Calculating league player rolling statistics...\n",
      "Shifting data...\n",
      "Merging all data...\n",
      "Standardizing data...\n",
      "Done!\n",
      "Calculating individual team rolling statistics...\n",
      "Shifting data...\n",
      "Calculating league team rolling statistics...\n",
      "Shifting data...\n",
      "Calculating individual player rolling statistics...\n",
      "Shifting data...\n",
      "Calculating league player rolling statistics...\n",
      "Shifting data...\n",
      "Merging all data...\n",
      "Standardizing data...\n"
     ]
    }
   ],
   "source": [
    "for i in [82, 60, 75, 100]:\n",
    "    data = pull_preprocess_data(rolling_period = i,\n",
    "                                stat_cats = ['fpts'])\n",
    "\n",
    "    excel_path = '/'.join(['.','Data',\n",
    "                            'modeling_data_%i rp_fpts.xlsx' %i])\n",
    "\n",
    "    with pd.ExcelWriter(excel_path) as writer:\n",
    "        data.to_excel(writer,\n",
    "                      index = False)"
   ]
  },
  {
   "cell_type": "markdown",
   "id": "df9586b7-28f7-4708-936f-dda2a6bfb859",
   "metadata": {},
   "source": [
    "# Pipeline"
   ]
  },
  {
   "cell_type": "markdown",
   "id": "b06dad82-4817-49a4-8247-301222dba900",
   "metadata": {},
   "source": [
    "## Model Metrics"
   ]
  },
  {
   "cell_type": "code",
   "execution_count": 4,
   "id": "23431b56-9f0b-4201-b5df-67b9ed1bf7cf",
   "metadata": {},
   "outputs": [],
   "source": [
    "from sklearn.metrics import mean_squared_error, r2_score"
   ]
  },
  {
   "cell_type": "code",
   "execution_count": 5,
   "id": "6e155dc1-5617-4b18-ab69-59d20fed37a9",
   "metadata": {},
   "outputs": [],
   "source": [
    "from sklearn.metrics import confusion_matrix,ConfusionMatrixDisplay, roc_auc_score, classification_report"
   ]
  },
  {
   "cell_type": "markdown",
   "id": "3f0e6245-0676-450b-9782-0e4ac8ab27a7",
   "metadata": {},
   "source": [
    "## Random Forest Classifier"
   ]
  },
  {
   "cell_type": "code",
   "execution_count": null,
   "id": "e0c63802-d19f-43e0-adcf-1598c10937c7",
   "metadata": {},
   "outputs": [],
   "source": [
    "from sklearn.ensemble import RandomForestClassifier\n",
    "from sklearn.model_selection import RandomizedSearchCV"
   ]
  },
  {
   "cell_type": "code",
   "execution_count": 6,
   "id": "4c299961-c541-4f0c-97a9-bc5d1d5585af",
   "metadata": {},
   "outputs": [],
   "source": [
    "ran_state = 130"
   ]
  },
  {
   "cell_type": "code",
   "execution_count": 10,
   "id": "ae80465f-38ad-48c6-8ed0-fffe9a500b6d",
   "metadata": {},
   "outputs": [
    {
     "data": {
      "application/javascript": [
       "\n",
       "        if (window._pyforest_update_imports_cell) { window._pyforest_update_imports_cell('from sklearn.ensemble import RandomForestClassifier'); }\n",
       "    "
      ],
      "text/plain": [
       "<IPython.core.display.Javascript object>"
      ]
     },
     "metadata": {},
     "output_type": "display_data"
    }
   ],
   "source": [
    "rf_class = RandomForestClassifier(random_state = ran_state)"
   ]
  },
  {
   "cell_type": "code",
   "execution_count": null,
   "id": "1f9307d1-83aa-411b-9b65-95db3320c6bf",
   "metadata": {},
   "outputs": [],
   "source": []
  },
  {
   "cell_type": "code",
   "execution_count": 7,
   "id": "a98f9932-8042-416b-a8c7-5a99dbf683af",
   "metadata": {},
   "outputs": [],
   "source": [
    "def split_train_test(data):\n",
    "\n",
    "    unique_game_dates = data[data['game_date'] >= '2022-01-01']['game_date'].unique()\n",
    "\n",
    "    # Take 2023 and beyond to adjust for the rolling statistic\n",
    "    split_date = unique_game_dates[int(len(unique_game_dates) * 0.7)]\n",
    "    \n",
    "    train = data[data['game_date'] <= split_date]\n",
    "    test = data[data['game_date'] > split_date]\n",
    "        \n",
    "        # Independent and Dependent variables\n",
    "    ## Complete\n",
    "    # ((col == 'min')\n",
    "    #   | (('opponent_team_opp_' in col)\n",
    "    #      & ('_stand' in col))\n",
    "    #  )\n",
    "    # ((col == 'min')\n",
    "    #   | (('opponent_team_opp_' in col)\n",
    "    #      & ('_pg' in col))\n",
    "    #  )\n",
    "    ## Try\n",
    "    # ((('player_' in col)\n",
    "    #    & ('mean' in col)\n",
    "    #    & ('league' not in col))\n",
    "    #   | (('opponent_team_opp_' in col)\n",
    "    #      & ('_pg' in col))\n",
    "    #  )\n",
    "    X_cols = [col for col in data.columns if ((('_mean_stand' in col)\n",
    "                                               & ('league' not in col))\n",
    "                                              | (col == 'min_stand')\n",
    "                                              # | (('team_' in col)\n",
    "                                              #    & ('_pg_stand' in col)\n",
    "                                              #    & ('opp_' not in col))\n",
    "                                              | (('opponent_team_opp_pos_' in col)\n",
    "                                                 & ('_pg' in col)\n",
    "                                                & ('_stand' in col))\n",
    "                                             )\n",
    "             ]\n",
    "    y_cols = [col for col in data.columns if '_avg_met' in col]\n",
    "    \n",
    "    # Training set\n",
    "    X_train = train[X_cols].dropna()\n",
    "    y_train = train.loc[X_train.index,\n",
    "                        y_cols]\n",
    "    \n",
    "    # Test set\n",
    "    X_test = test[X_cols].dropna()\n",
    "    y_test = test.loc[X_test.index,\n",
    "                    y_cols]\n",
    "    \n",
    "    return X_train, X_test, y_train, y_test"
   ]
  },
  {
   "cell_type": "markdown",
   "id": "1060a159-96d8-4d67-9088-c3b9daf24c38",
   "metadata": {},
   "source": [
    "## RandomizedSearchCV"
   ]
  },
  {
   "cell_type": "code",
   "execution_count": null,
   "id": "11358cf8-e3d1-4515-a504-30738698d0dc",
   "metadata": {
    "scrolled": true
   },
   "outputs": [],
   "source": [
    "rf_performances = pd.DataFrame()\n",
    "\n",
    "for p in [60,15,30,82]:\n",
    "    print('Rolling period = %i' %p)\n",
    "\n",
    "    # Read in data\n",
    "    print('Reading data...')\n",
    "    excel_path = '/'.join(['.','Data',\n",
    "                            'modeling_data_%i rp_fpts.xlsx' %p])\n",
    "\n",
    "    data = pd.read_excel(excel_path,\n",
    "                         header = 0)\n",
    "\n",
    "    # Train-test split\n",
    "    X_train, X_test, y_train, y_test = split_train_test(data)\n",
    "\n",
    "    print(*X_train.columns, sep = ', ')\n",
    "    print(*y_train.columns, sep = ', ')\n",
    "    \n",
    "    # Randomized Search CV\n",
    "    print('Performing RandomSearchCV...')\n",
    "    ran_num_estimators = [50,100,300]\n",
    "    ran_depth = [5,10,20]\n",
    "    ran_sample_split = [2,3]\n",
    "    \n",
    "    ran_rf_params = {'n_estimators':ran_num_estimators,\n",
    "                     'max_depth':ran_depth,\n",
    "                     'min_samples_split':ran_sample_split}\n",
    "\n",
    "    rf_regress_ranCV = RandomizedSearchCV(rf_class,\n",
    "                                          ran_rf_params,\n",
    "                                          n_iter = 9,\n",
    "                                         cv = 3,\n",
    "                                         random_state = ran_state,\n",
    "                                         verbose = 3)\n",
    "\n",
    "    rf_regress_ranCV.fit(X_train,\n",
    "                         y_train)\n",
    "\n",
    "    ran_cv_performance = pd.DataFrame(rf_regress_ranCV.cv_results_).sort_values('rank_test_score')\n",
    "\n",
    "    ran_cv_performance['rolling_period'] = p\n",
    "\n",
    "    rf_performances = pd.concat([rf_performances,\n",
    "                                 ran_cv_performance])\n",
    "\n",
    "# Writer RandomSearchCV performance to excel\n",
    "print('Writing results to Excel...')\n",
    "ran_cv_performance_excel_path = '/'.join(['.','Data',\n",
    "                                        'Random Search CV Performance_classifier.xlsx'])\n",
    "\n",
    "with pd.ExcelWriter(ran_cv_performance_excel_path, mode = 'a') as writer:\n",
    "    rf_performances.to_excel(writer,\n",
    "                                sheet_name = 'FPTS All Stand',\n",
    "                                index = False)"
   ]
  },
  {
   "cell_type": "code",
   "execution_count": null,
   "id": "d75bb6a6-a3c5-49e7-91b3-3251e600b515",
   "metadata": {},
   "outputs": [],
   "source": []
  },
  {
   "cell_type": "code",
   "execution_count": null,
   "id": "f9c21f07-5f09-4fcf-9f01-1c51e82587f4",
   "metadata": {},
   "outputs": [],
   "source": [
    "best_model = rf_regress_ranCV.best_estimator_"
   ]
  },
  {
   "cell_type": "code",
   "execution_count": null,
   "id": "7f5a392b-dc56-4127-ae55-47ac06f7078f",
   "metadata": {},
   "outputs": [],
   "source": [
    "best_model_importances = best_model.feature_importances_"
   ]
  },
  {
   "cell_type": "code",
   "execution_count": null,
   "id": "3973f3a9-859c-4c6d-8f53-bfd6d283ccbf",
   "metadata": {},
   "outputs": [],
   "source": [
    "rf_regress_ranCV.best_params_"
   ]
  },
  {
   "cell_type": "code",
   "execution_count": null,
   "id": "33e35d68-d07c-4e11-b165-3f56a588039e",
   "metadata": {},
   "outputs": [],
   "source": [
    "feature_names = [i for i in X_train.columns]\n",
    "\n",
    "forest_importances = pd.Series(best_model_importances,\n",
    "                               index=feature_names)"
   ]
  },
  {
   "cell_type": "code",
   "execution_count": null,
   "id": "5e7f5c64-3870-4873-b98a-88cdf25c6942",
   "metadata": {},
   "outputs": [],
   "source": [
    "fig, ax = plt.subplots(figsize = (10,10))\n",
    "forest_importances.plot.bar()\n",
    "ax.set_title(\"Feature importances using MDI\")\n",
    "ax.set_ylabel(\"Mean decrease in impurity\")\n",
    "fig.tight_layout()"
   ]
  },
  {
   "cell_type": "code",
   "execution_count": null,
   "id": "7e2a0e7f-3ca2-4677-9db1-8d9370dc4e99",
   "metadata": {},
   "outputs": [],
   "source": []
  },
  {
   "cell_type": "code",
   "execution_count": null,
   "id": "754120e5-26cd-482c-80b5-de3b63a6ae22",
   "metadata": {},
   "outputs": [],
   "source": [
    "print('Test score = %.2f' %best_model.score(X_test,\n",
    "                                         y_test)\n",
    "     )"
   ]
  },
  {
   "cell_type": "code",
   "execution_count": null,
   "id": "7f640b01-98b5-4059-b068-9e71e5b7db78",
   "metadata": {},
   "outputs": [],
   "source": [
    "y_pred_class = best_model.predict(X_test)\n",
    "y_pred_proba = best_model.predict_proba(X_test)"
   ]
  },
  {
   "cell_type": "code",
   "execution_count": null,
   "id": "3644096f-95ae-4a25-ad33-7bfd1349fce9",
   "metadata": {},
   "outputs": [],
   "source": [
    "rf_class_cm = confusion_matrix(y_test,\n",
    "                                 y_pred_class)"
   ]
  },
  {
   "cell_type": "code",
   "execution_count": null,
   "id": "e942fb9a-8b74-495b-8192-27ed70dfbc80",
   "metadata": {},
   "outputs": [],
   "source": [
    "cm_plot = ConfusionMatrixDisplay(rf_class_cm)\n",
    "cm_plot.plot()"
   ]
  },
  {
   "cell_type": "code",
   "execution_count": null,
   "id": "e656da6b-6152-475e-b2be-881d23ef7075",
   "metadata": {},
   "outputs": [],
   "source": []
  },
  {
   "cell_type": "code",
   "execution_count": null,
   "id": "931c938f-445b-44e4-9058-0285c894e81f",
   "metadata": {},
   "outputs": [],
   "source": [
    "roc_auc_score(y_test, y_pred_proba[:, 1])"
   ]
  },
  {
   "cell_type": "code",
   "execution_count": null,
   "id": "61911cd6-83dc-4140-b7bb-a7c712b5fc03",
   "metadata": {},
   "outputs": [],
   "source": []
  },
  {
   "cell_type": "markdown",
   "id": "6649aac7-c1d2-4a3d-b771-20f249b2b4c5",
   "metadata": {},
   "source": [
    "## GridSearchCV"
   ]
  },
  {
   "cell_type": "code",
   "execution_count": 8,
   "id": "67e726d0-a002-4869-a287-17a1ee587f52",
   "metadata": {},
   "outputs": [],
   "source": [
    "from sklearn.model_selection import GridSearchCV"
   ]
  },
  {
   "cell_type": "code",
   "execution_count": 11,
   "id": "63d3252b-e437-4edb-9947-5952e2566116",
   "metadata": {
    "scrolled": true
   },
   "outputs": [
    {
     "name": "stdout",
     "output_type": "stream",
     "text": [
      "Rolling period = 82\n",
      "Reading data...\n",
      "Performing GridSearchCV...\n",
      "Fitting 3 folds for each of 9 candidates, totalling 27 fits\n",
      "[CV 1/3] END max_depth=8, min_samples_split=3, n_estimators=35;, score=0.696 total time=   2.0s\n",
      "[CV 2/3] END max_depth=8, min_samples_split=3, n_estimators=35;, score=0.730 total time=   1.8s\n",
      "[CV 3/3] END max_depth=8, min_samples_split=3, n_estimators=35;, score=0.723 total time=   1.9s\n",
      "[CV 1/3] END max_depth=8, min_samples_split=3, n_estimators=50;, score=0.696 total time=   2.7s\n",
      "[CV 2/3] END max_depth=8, min_samples_split=3, n_estimators=50;, score=0.731 total time=   2.8s\n",
      "[CV 3/3] END max_depth=8, min_samples_split=3, n_estimators=50;, score=0.721 total time=   2.7s\n",
      "[CV 1/3] END max_depth=8, min_samples_split=3, n_estimators=65;, score=0.695 total time=   3.6s\n",
      "[CV 2/3] END max_depth=8, min_samples_split=3, n_estimators=65;, score=0.729 total time=   3.5s\n",
      "[CV 3/3] END max_depth=8, min_samples_split=3, n_estimators=65;, score=0.722 total time=   3.5s\n",
      "[CV 1/3] END max_depth=10, min_samples_split=3, n_estimators=35;, score=0.699 total time=   2.5s\n",
      "[CV 2/3] END max_depth=10, min_samples_split=3, n_estimators=35;, score=0.731 total time=   2.3s\n",
      "[CV 3/3] END max_depth=10, min_samples_split=3, n_estimators=35;, score=0.722 total time=   2.3s\n",
      "[CV 1/3] END max_depth=10, min_samples_split=3, n_estimators=50;, score=0.698 total time=   3.4s\n",
      "[CV 2/3] END max_depth=10, min_samples_split=3, n_estimators=50;, score=0.732 total time=   3.3s\n",
      "[CV 3/3] END max_depth=10, min_samples_split=3, n_estimators=50;, score=0.722 total time=   3.3s\n",
      "[CV 1/3] END max_depth=10, min_samples_split=3, n_estimators=65;, score=0.698 total time=   4.4s\n",
      "[CV 2/3] END max_depth=10, min_samples_split=3, n_estimators=65;, score=0.732 total time=   4.4s\n",
      "[CV 3/3] END max_depth=10, min_samples_split=3, n_estimators=65;, score=0.722 total time=   4.3s\n",
      "[CV 1/3] END max_depth=12, min_samples_split=3, n_estimators=35;, score=0.698 total time=   2.8s\n",
      "[CV 2/3] END max_depth=12, min_samples_split=3, n_estimators=35;, score=0.729 total time=   2.7s\n",
      "[CV 3/3] END max_depth=12, min_samples_split=3, n_estimators=35;, score=0.720 total time=   2.8s\n",
      "[CV 1/3] END max_depth=12, min_samples_split=3, n_estimators=50;, score=0.699 total time=   4.0s\n",
      "[CV 2/3] END max_depth=12, min_samples_split=3, n_estimators=50;, score=0.731 total time=   3.9s\n",
      "[CV 3/3] END max_depth=12, min_samples_split=3, n_estimators=50;, score=0.722 total time=   3.9s\n",
      "[CV 1/3] END max_depth=12, min_samples_split=3, n_estimators=65;, score=0.699 total time=   5.2s\n",
      "[CV 2/3] END max_depth=12, min_samples_split=3, n_estimators=65;, score=0.729 total time=   5.5s\n",
      "[CV 3/3] END max_depth=12, min_samples_split=3, n_estimators=65;, score=0.723 total time=   5.2s\n",
      "Rolling period = 60\n",
      "Reading data...\n",
      "Performing GridSearchCV...\n",
      "Fitting 3 folds for each of 9 candidates, totalling 27 fits\n",
      "[CV 1/3] END max_depth=8, min_samples_split=3, n_estimators=35;, score=0.690 total time=   2.1s\n",
      "[CV 2/3] END max_depth=8, min_samples_split=3, n_estimators=35;, score=0.733 total time=   1.9s\n",
      "[CV 3/3] END max_depth=8, min_samples_split=3, n_estimators=35;, score=0.719 total time=   1.9s\n",
      "[CV 1/3] END max_depth=8, min_samples_split=3, n_estimators=50;, score=0.693 total time=   2.8s\n",
      "[CV 2/3] END max_depth=8, min_samples_split=3, n_estimators=50;, score=0.732 total time=   2.8s\n",
      "[CV 3/3] END max_depth=8, min_samples_split=3, n_estimators=50;, score=0.718 total time=   2.9s\n",
      "[CV 1/3] END max_depth=8, min_samples_split=3, n_estimators=65;, score=0.693 total time=   3.5s\n",
      "[CV 2/3] END max_depth=8, min_samples_split=3, n_estimators=65;, score=0.731 total time=   3.5s\n",
      "[CV 3/3] END max_depth=8, min_samples_split=3, n_estimators=65;, score=0.717 total time=   3.6s\n",
      "[CV 1/3] END max_depth=10, min_samples_split=3, n_estimators=35;, score=0.699 total time=   2.3s\n",
      "[CV 2/3] END max_depth=10, min_samples_split=3, n_estimators=35;, score=0.733 total time=   2.4s\n",
      "[CV 3/3] END max_depth=10, min_samples_split=3, n_estimators=35;, score=0.721 total time=   2.4s\n",
      "[CV 1/3] END max_depth=10, min_samples_split=3, n_estimators=50;, score=0.702 total time=   3.4s\n",
      "[CV 2/3] END max_depth=10, min_samples_split=3, n_estimators=50;, score=0.733 total time=   3.4s\n",
      "[CV 3/3] END max_depth=10, min_samples_split=3, n_estimators=50;, score=0.721 total time=   3.4s\n",
      "[CV 1/3] END max_depth=10, min_samples_split=3, n_estimators=65;, score=0.701 total time=   4.4s\n",
      "[CV 2/3] END max_depth=10, min_samples_split=3, n_estimators=65;, score=0.733 total time=   4.3s\n",
      "[CV 3/3] END max_depth=10, min_samples_split=3, n_estimators=65;, score=0.721 total time=   4.3s\n",
      "[CV 1/3] END max_depth=12, min_samples_split=3, n_estimators=35;, score=0.698 total time=   2.8s\n",
      "[CV 2/3] END max_depth=12, min_samples_split=3, n_estimators=35;, score=0.729 total time=   2.8s\n",
      "[CV 3/3] END max_depth=12, min_samples_split=3, n_estimators=35;, score=0.718 total time=   2.7s\n",
      "[CV 1/3] END max_depth=12, min_samples_split=3, n_estimators=50;, score=0.699 total time=   4.0s\n",
      "[CV 2/3] END max_depth=12, min_samples_split=3, n_estimators=50;, score=0.730 total time=   4.2s\n",
      "[CV 3/3] END max_depth=12, min_samples_split=3, n_estimators=50;, score=0.720 total time=   4.1s\n",
      "[CV 1/3] END max_depth=12, min_samples_split=3, n_estimators=65;, score=0.700 total time=   5.1s\n",
      "[CV 2/3] END max_depth=12, min_samples_split=3, n_estimators=65;, score=0.730 total time=   5.3s\n",
      "[CV 3/3] END max_depth=12, min_samples_split=3, n_estimators=65;, score=0.719 total time=   5.3s\n",
      "Rolling period = 75\n",
      "Reading data...\n",
      "Performing GridSearchCV...\n",
      "Fitting 3 folds for each of 9 candidates, totalling 27 fits\n",
      "[CV 1/3] END max_depth=8, min_samples_split=3, n_estimators=35;, score=0.689 total time=   1.9s\n",
      "[CV 2/3] END max_depth=8, min_samples_split=3, n_estimators=35;, score=0.729 total time=   1.8s\n",
      "[CV 3/3] END max_depth=8, min_samples_split=3, n_estimators=35;, score=0.721 total time=   1.9s\n",
      "[CV 1/3] END max_depth=8, min_samples_split=3, n_estimators=50;, score=0.692 total time=   2.8s\n",
      "[CV 2/3] END max_depth=8, min_samples_split=3, n_estimators=50;, score=0.731 total time=   2.6s\n",
      "[CV 3/3] END max_depth=8, min_samples_split=3, n_estimators=50;, score=0.721 total time=   2.6s\n",
      "[CV 1/3] END max_depth=8, min_samples_split=3, n_estimators=65;, score=0.693 total time=   3.8s\n",
      "[CV 2/3] END max_depth=8, min_samples_split=3, n_estimators=65;, score=0.733 total time=   3.5s\n",
      "[CV 3/3] END max_depth=8, min_samples_split=3, n_estimators=65;, score=0.721 total time=   3.5s\n",
      "[CV 1/3] END max_depth=10, min_samples_split=3, n_estimators=35;, score=0.698 total time=   2.4s\n",
      "[CV 2/3] END max_depth=10, min_samples_split=3, n_estimators=35;, score=0.733 total time=   2.3s\n",
      "[CV 3/3] END max_depth=10, min_samples_split=3, n_estimators=35;, score=0.721 total time=   2.3s\n",
      "[CV 1/3] END max_depth=10, min_samples_split=3, n_estimators=50;, score=0.699 total time=   3.4s\n",
      "[CV 2/3] END max_depth=10, min_samples_split=3, n_estimators=50;, score=0.732 total time=   3.3s\n",
      "[CV 3/3] END max_depth=10, min_samples_split=3, n_estimators=50;, score=0.723 total time=   3.3s\n",
      "[CV 1/3] END max_depth=10, min_samples_split=3, n_estimators=65;, score=0.700 total time=   4.5s\n",
      "[CV 2/3] END max_depth=10, min_samples_split=3, n_estimators=65;, score=0.730 total time=   4.3s\n",
      "[CV 3/3] END max_depth=10, min_samples_split=3, n_estimators=65;, score=0.723 total time=   4.3s\n",
      "[CV 1/3] END max_depth=12, min_samples_split=3, n_estimators=35;, score=0.694 total time=   2.8s\n",
      "[CV 2/3] END max_depth=12, min_samples_split=3, n_estimators=35;, score=0.729 total time=   2.7s\n",
      "[CV 3/3] END max_depth=12, min_samples_split=3, n_estimators=35;, score=0.720 total time=   2.8s\n",
      "[CV 1/3] END max_depth=12, min_samples_split=3, n_estimators=50;, score=0.695 total time=   4.0s\n",
      "[CV 2/3] END max_depth=12, min_samples_split=3, n_estimators=50;, score=0.730 total time=   4.0s\n",
      "[CV 3/3] END max_depth=12, min_samples_split=3, n_estimators=50;, score=0.721 total time=   4.1s\n",
      "[CV 1/3] END max_depth=12, min_samples_split=3, n_estimators=65;, score=0.697 total time=   5.4s\n",
      "[CV 2/3] END max_depth=12, min_samples_split=3, n_estimators=65;, score=0.730 total time=   5.3s\n",
      "[CV 3/3] END max_depth=12, min_samples_split=3, n_estimators=65;, score=0.721 total time=   5.2s\n",
      "Rolling period = 100\n",
      "Reading data...\n",
      "Performing GridSearchCV...\n",
      "Fitting 3 folds for each of 9 candidates, totalling 27 fits\n",
      "[CV 1/3] END max_depth=8, min_samples_split=3, n_estimators=35;, score=0.694 total time=   1.9s\n",
      "[CV 2/3] END max_depth=8, min_samples_split=3, n_estimators=35;, score=0.731 total time=   1.9s\n",
      "[CV 3/3] END max_depth=8, min_samples_split=3, n_estimators=35;, score=0.725 total time=   1.8s\n",
      "[CV 1/3] END max_depth=8, min_samples_split=3, n_estimators=50;, score=0.693 total time=   2.9s\n",
      "[CV 2/3] END max_depth=8, min_samples_split=3, n_estimators=50;, score=0.731 total time=   2.8s\n",
      "[CV 3/3] END max_depth=8, min_samples_split=3, n_estimators=50;, score=0.724 total time=   2.7s\n",
      "[CV 1/3] END max_depth=8, min_samples_split=3, n_estimators=65;, score=0.693 total time=   3.6s\n",
      "[CV 2/3] END max_depth=8, min_samples_split=3, n_estimators=65;, score=0.731 total time=   3.5s\n",
      "[CV 3/3] END max_depth=8, min_samples_split=3, n_estimators=65;, score=0.725 total time=   3.5s\n",
      "[CV 1/3] END max_depth=10, min_samples_split=3, n_estimators=35;, score=0.698 total time=   2.4s\n",
      "[CV 2/3] END max_depth=10, min_samples_split=3, n_estimators=35;, score=0.732 total time=   2.3s\n",
      "[CV 3/3] END max_depth=10, min_samples_split=3, n_estimators=35;, score=0.723 total time=   2.3s\n",
      "[CV 1/3] END max_depth=10, min_samples_split=3, n_estimators=50;, score=0.698 total time=   3.4s\n",
      "[CV 2/3] END max_depth=10, min_samples_split=3, n_estimators=50;, score=0.733 total time=   3.3s\n",
      "[CV 3/3] END max_depth=10, min_samples_split=3, n_estimators=50;, score=0.724 total time=   3.3s\n",
      "[CV 1/3] END max_depth=10, min_samples_split=3, n_estimators=65;, score=0.699 total time=   4.4s\n",
      "[CV 2/3] END max_depth=10, min_samples_split=3, n_estimators=65;, score=0.732 total time=   4.3s\n",
      "[CV 3/3] END max_depth=10, min_samples_split=3, n_estimators=65;, score=0.724 total time=   4.4s\n",
      "[CV 1/3] END max_depth=12, min_samples_split=3, n_estimators=35;, score=0.697 total time=   2.9s\n",
      "[CV 2/3] END max_depth=12, min_samples_split=3, n_estimators=35;, score=0.731 total time=   2.8s\n",
      "[CV 3/3] END max_depth=12, min_samples_split=3, n_estimators=35;, score=0.722 total time=   2.8s\n",
      "[CV 1/3] END max_depth=12, min_samples_split=3, n_estimators=50;, score=0.699 total time=   4.1s\n",
      "[CV 2/3] END max_depth=12, min_samples_split=3, n_estimators=50;, score=0.732 total time=   3.9s\n",
      "[CV 3/3] END max_depth=12, min_samples_split=3, n_estimators=50;, score=0.722 total time=   4.0s\n",
      "[CV 1/3] END max_depth=12, min_samples_split=3, n_estimators=65;, score=0.697 total time=   5.2s\n",
      "[CV 2/3] END max_depth=12, min_samples_split=3, n_estimators=65;, score=0.731 total time=   5.0s\n",
      "[CV 3/3] END max_depth=12, min_samples_split=3, n_estimators=65;, score=0.722 total time=   5.2s\n",
      "Writing results to Excel...\n"
     ]
    }
   ],
   "source": [
    "gs_performances = pd.DataFrame()\n",
    "\n",
    "for p in [82, 60, 75, 100]:\n",
    "    print('Rolling period = %i' %p)\n",
    "\n",
    "    # Read in data\n",
    "    print('Reading data...')\n",
    "    excel_path = '/'.join(['.','Data',\n",
    "                            'modeling_data_%i rp_fpts.xlsx' %p])\n",
    "\n",
    "    data = pd.read_excel(excel_path,\n",
    "                         header = 0)\n",
    "\n",
    "    # Train-test split\n",
    "    X_train, X_test, y_train, y_test = split_train_test(data)\n",
    "\n",
    "    # Randomized Search CV\n",
    "    print('Performing GridSearchCV...')\n",
    "    gs_num_estimators = [35,50,65]\n",
    "    gs_depth = [8,10,12]\n",
    "    gs_sample_split = [3]\n",
    "    \n",
    "    gs_rf_params = {'n_estimators':gs_num_estimators,\n",
    "                 'max_depth':gs_depth,\n",
    "                 'min_samples_split':gs_sample_split}\n",
    "\n",
    "    rf_class_gsCV = GridSearchCV(rf_class,\n",
    "                                          gs_rf_params,\n",
    "                                         cv = 3,\n",
    "                                         verbose = 3)\n",
    "\n",
    "    rf_class_gsCV.fit(X_train,\n",
    "                         y_train)\n",
    "\n",
    "    gs_cv_performance = pd.DataFrame(rf_class_gsCV.cv_results_).sort_values('rank_test_score')\n",
    "\n",
    "    gs_cv_performance['rolling_period'] = p\n",
    "\n",
    "    gs_performances = pd.concat([gs_performances,\n",
    "                                 gs_cv_performance])\n",
    "\n",
    "# Writer RandomSearchCV performance to excel\n",
    "print('Writing results to Excel...')\n",
    "gs_cv_performance_excel_path = '/'.join(['.','Data',\n",
    "                                        'GridSearch CV Performance_classifier.xlsx'])\n",
    "\n",
    "with pd.ExcelWriter(gs_cv_performance_excel_path, mode = 'a') as writer:\n",
    "    gs_performances.to_excel(writer,\n",
    "                                sheet_name = 'FPTS All Stand Min True',\n",
    "                                index = False)"
   ]
  },
  {
   "cell_type": "code",
   "execution_count": null,
   "id": "19c7fabe-c2f2-4f0a-882d-0d6b4b72daec",
   "metadata": {},
   "outputs": [],
   "source": []
  },
  {
   "cell_type": "code",
   "execution_count": null,
   "id": "19b210d3-5987-4f56-9378-e45aad25a691",
   "metadata": {},
   "outputs": [],
   "source": []
  },
  {
   "cell_type": "markdown",
   "id": "3f0f849a-982a-40e7-a25f-2e51cef429f3",
   "metadata": {},
   "source": [
    "## Final Params"
   ]
  },
  {
   "cell_type": "code",
   "execution_count": null,
   "id": "1e1028bc-729d-4902-8a55-9fb6c3569692",
   "metadata": {},
   "outputs": [],
   "source": [
    "# For rolling_period = 62\n",
    "final_max_depth = 10\n",
    "final_min_samples_split = 3\n",
    "final_n_estimators = 50"
   ]
  },
  {
   "cell_type": "code",
   "execution_count": null,
   "id": "8b36ab05-8e6a-428d-aa63-c1244722e115",
   "metadata": {},
   "outputs": [],
   "source": [
    "final_rf_class = RandomForestClassifier(max_depth = final_max_depth,\n",
    "                                         min_samples_split = final_min_samples_split,\n",
    "                                         n_estimators = final_n_estimators,\n",
    "                                         random_state = ran_state)"
   ]
  },
  {
   "cell_type": "code",
   "execution_count": null,
   "id": "ed826abd-5ba6-440f-8127-18bc3f012f10",
   "metadata": {},
   "outputs": [],
   "source": [
    "final_rolling_period = 60\n",
    "\n",
    "excel_path = '/'.join(['.','Data',\n",
    "                        'modeling_data_%i rp_fpts.xlsx' %final_rolling_period])\n",
    "\n",
    "final_data = pd.read_excel(excel_path,\n",
    "                     header = 0)"
   ]
  },
  {
   "cell_type": "code",
   "execution_count": null,
   "id": "dfecd7eb-4777-4a61-818d-aed799e1e4da",
   "metadata": {},
   "outputs": [],
   "source": [
    "X_train, X_test, y_train, y_test = split_train_test(final_data)"
   ]
  },
  {
   "cell_type": "code",
   "execution_count": null,
   "id": "560cca53-116f-48be-848f-05cc6edc0d24",
   "metadata": {},
   "outputs": [],
   "source": [
    "final_rf_class.fit(X_train,\n",
    "                     y_train)"
   ]
  },
  {
   "cell_type": "markdown",
   "id": "5257200c-3804-4781-a760-8b8077077e42",
   "metadata": {},
   "source": [
    "### Export Model"
   ]
  },
  {
   "cell_type": "code",
   "execution_count": null,
   "id": "c994d11f-3515-48c6-9008-36068059489e",
   "metadata": {},
   "outputs": [],
   "source": [
    "# Save trained model\n",
    "import pickle\n",
    "\n",
    "model_file_name = './Models/rf_class_model_fpts.pkl'"
   ]
  },
  {
   "cell_type": "code",
   "execution_count": null,
   "id": "f438cbed-617d-4e4f-81eb-2e733081ceb2",
   "metadata": {},
   "outputs": [],
   "source": [
    "with open(model_file_name, 'wb') as file:\n",
    "    pickle.dump(final_rf_class,\n",
    "                file)"
   ]
  },
  {
   "cell_type": "markdown",
   "id": "ff3805d9-adf3-47d8-91de-60a4ff9c7b68",
   "metadata": {},
   "source": [
    "## Model Evaluation"
   ]
  },
  {
   "cell_type": "code",
   "execution_count": null,
   "id": "70d65570-8cb0-435c-be2b-1134abf39e84",
   "metadata": {},
   "outputs": [],
   "source": [
    "# Save trained model\n",
    "import pickle\n",
    "\n",
    "model_file_name = 'rf_class_model_fpts.pkl'\n",
    "\n",
    "with open(model_file_name, 'rb') as file:\n",
    "    final_rf_class = pickle.load(file)"
   ]
  },
  {
   "cell_type": "code",
   "execution_count": null,
   "id": "893be547-0a2d-4c58-a54c-103e9da5ea76",
   "metadata": {},
   "outputs": [],
   "source": [
    "y_pred_rf = pd.DataFrame(final_rf_class.predict(X_test),\n",
    "                      columns = ['fpts_avg_met'])"
   ]
  },
  {
   "cell_type": "code",
   "execution_count": null,
   "id": "39eeafc1-109e-4d6e-9ec1-47ea208d4858",
   "metadata": {},
   "outputs": [],
   "source": []
  },
  {
   "cell_type": "code",
   "execution_count": null,
   "id": "74240630-e104-4fe1-aec8-d5576a844bd7",
   "metadata": {},
   "outputs": [],
   "source": [
    "y_pred_class = final_rf_class.predict(X_test)\n",
    "y_pred_proba = final_rf_class.predict_proba(X_test)"
   ]
  },
  {
   "cell_type": "code",
   "execution_count": null,
   "id": "21701a5f-a78e-4890-93a7-8da96dad263d",
   "metadata": {},
   "outputs": [],
   "source": [
    "rf_class_cm = confusion_matrix(y_test,\n",
    "                                 y_pred_class)"
   ]
  },
  {
   "cell_type": "code",
   "execution_count": null,
   "id": "3b166ee1-a3d0-4247-b3c3-ea2e186710e1",
   "metadata": {},
   "outputs": [],
   "source": [
    "cm_plot = ConfusionMatrixDisplay(rf_class_cm)\n",
    "cm_plot.plot()"
   ]
  },
  {
   "cell_type": "code",
   "execution_count": null,
   "id": "032ab2c2-3924-4ea2-a392-23fb913c840e",
   "metadata": {},
   "outputs": [],
   "source": [
    "print(classification_report(y_test, y_pred_class))"
   ]
  },
  {
   "cell_type": "code",
   "execution_count": null,
   "id": "7ca1f9c7-ae9a-431a-9c94-d3595d98f3eb",
   "metadata": {},
   "outputs": [],
   "source": [
    "roc_auc_score(y_test, y_pred_proba[:, 1])"
   ]
  },
  {
   "cell_type": "code",
   "execution_count": null,
   "id": "b36a9fb8-07be-425c-b69c-78f337ec1042",
   "metadata": {},
   "outputs": [],
   "source": []
  },
  {
   "cell_type": "code",
   "execution_count": null,
   "id": "6ea58c0d-ea77-4648-a330-85e5a8e57b5b",
   "metadata": {},
   "outputs": [],
   "source": [
    "tp,fp,fn,tn = rf_class_cm.ravel()"
   ]
  },
  {
   "cell_type": "code",
   "execution_count": null,
   "id": "3fffef29-06e0-4e45-83be-6ac61b818554",
   "metadata": {},
   "outputs": [],
   "source": [
    "sensitivity = tp/(tp+fn)\n",
    "specificity = tn/(tn+fp)"
   ]
  },
  {
   "cell_type": "code",
   "execution_count": null,
   "id": "849360b8-4beb-4a9b-a029-10a8e8ca812e",
   "metadata": {},
   "outputs": [],
   "source": [
    "precision = tp/(tp+fp)"
   ]
  },
  {
   "cell_type": "code",
   "execution_count": null,
   "id": "293833e7-d1ee-44b2-b0db-ee9c49eeb8f4",
   "metadata": {},
   "outputs": [],
   "source": [
    "sensitivity"
   ]
  },
  {
   "cell_type": "code",
   "execution_count": null,
   "id": "0f044281-9799-41e9-8dba-bedd08938e11",
   "metadata": {},
   "outputs": [],
   "source": [
    "specificity"
   ]
  },
  {
   "cell_type": "code",
   "execution_count": null,
   "id": "779a40a9-c76d-4a42-99a9-dc4b2a9d593a",
   "metadata": {},
   "outputs": [],
   "source": [
    "precision"
   ]
  },
  {
   "cell_type": "code",
   "execution_count": null,
   "id": "0530030d-3451-4aae-8984-84c51ee62726",
   "metadata": {},
   "outputs": [],
   "source": []
  },
  {
   "cell_type": "code",
   "execution_count": null,
   "id": "72337c08-fb9e-474a-b186-b320f703c333",
   "metadata": {},
   "outputs": [],
   "source": []
  }
 ],
 "metadata": {
  "kernelspec": {
   "display_name": "Python 3 (ipykernel)",
   "language": "python",
   "name": "python3"
  },
  "language_info": {
   "codemirror_mode": {
    "name": "ipython",
    "version": 3
   },
   "file_extension": ".py",
   "mimetype": "text/x-python",
   "name": "python",
   "nbconvert_exporter": "python",
   "pygments_lexer": "ipython3",
   "version": "3.8.18"
  }
 },
 "nbformat": 4,
 "nbformat_minor": 5
}
