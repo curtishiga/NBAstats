{
 "cells": [
  {
   "cell_type": "code",
   "execution_count": 1,
   "metadata": {},
   "outputs": [],
   "source": [
    "import pandas as pd\n",
    "import numpy as np\n",
    "from datetime import datetime\n",
    "#import pytz\n",
    "import scipy\n",
    "import requests\n",
    "import warnings\n",
    "import json\n",
    "import matplotlib.pyplot as plt\n",
    "import matplotlib.dates as mdates\n",
    "import seaborn as sns\n",
    "\n",
    "warnings.filterwarnings('ignore')\n",
    "pd.set_option('display.max_columns',None)"
   ]
  },
  {
   "cell_type": "code",
   "execution_count": null,
   "metadata": {},
   "outputs": [],
   "source": []
  },
  {
   "cell_type": "markdown",
   "metadata": {
    "jp-MarkdownHeadingCollapsed": true
   },
   "source": [
    "# Read in Excel Data"
   ]
  },
  {
   "cell_type": "code",
   "execution_count": 20,
   "metadata": {},
   "outputs": [],
   "source": [
    "class NBAData:\n",
    "    def __init__(self, sheet_name):\n",
    "        self.sheet_name = sheet_name\n",
    "    \n",
    "    def data(self):\n",
    "        excel_path = excel_path = '/'.join(['.','Data',\n",
    "                                            'NBA Stats_2021-2023_01292024.xlsx'])\n",
    "        \n",
    "        excel_sheet_name = self.sheet_name.title()\n",
    "\n",
    "        sheet_index_cols = {'Players':'player_id',\n",
    "                            'Teams':'team_id',\n",
    "                            'Stats':None,\n",
    "                            'Games':'game_id'}\n",
    "\n",
    "        print('Reading in %s' %excel_sheet_name)\n",
    "        raw_data = pd.read_excel(excel_path,\n",
    "                             sheet_name = excel_sheet_name,\n",
    "                             header = 0,\n",
    "                             index_col = sheet_index_cols[excel_sheet_name],\n",
    "                             engine = 'openpyxl')\n",
    "\n",
    "        if excel_sheet_name == 'Stats':\n",
    "            # Clean stats data and add column for fantasy points\n",
    "            # Convert 'min' to numeric and fill NaN with 0\n",
    "            raw_data['min'] = pd.to_numeric(raw_data['min'],\n",
    "                                        errors = 'coerce')\\\n",
    "                            .fillna(0)\n",
    "\n",
    "            # Shorthand turnover column\n",
    "            raw_data.rename(columns = {'turnover':'to'},\n",
    "                        inplace = True)\n",
    "\n",
    "            # Fantasy points (PrizePicks)\n",
    "            ## Points = 1\n",
    "            ## Rebound = 1.2\n",
    "            ## Assists = 1.5\n",
    "            ## Block = 3\n",
    "            ## Steals = 3\n",
    "            ## Turnover = -1\n",
    "            raw_data['fpts'] = raw_data['pts']\\\n",
    "                            + (1.2 * raw_data['reb'])\\\n",
    "                            + (1.5 * raw_data['ast'])\\\n",
    "                            + (3 * raw_data['blk'])\\\n",
    "                            + (3 * raw_data['stl'])\\\n",
    "                            + (-1 * raw_data['to'])\n",
    "        elif excel_sheet_name == 'Games':\n",
    "            raw_data['game_date'] == pd.to_datetime(raw_data['game_date'],\n",
    "                                                errors = 'coerce')\n",
    "\n",
    "        return raw_data"
   ]
  },
  {
   "cell_type": "code",
   "execution_count": 21,
   "metadata": {},
   "outputs": [
    {
     "name": "stdout",
     "output_type": "stream",
     "text": [
      "Reading in Stats\n"
     ]
    }
   ],
   "source": [
    "stats_data = NBAData('stats').data()"
   ]
  },
  {
   "cell_type": "code",
   "execution_count": 22,
   "metadata": {},
   "outputs": [
    {
     "name": "stdout",
     "output_type": "stream",
     "text": [
      "Reading in Games\n"
     ]
    }
   ],
   "source": [
    "games_data = NBAData('games').data()"
   ]
  },
  {
   "cell_type": "code",
   "execution_count": 23,
   "metadata": {},
   "outputs": [
    {
     "name": "stdout",
     "output_type": "stream",
     "text": [
      "Reading in Players\n"
     ]
    }
   ],
   "source": [
    "players_data = NBAData('players').data()"
   ]
  },
  {
   "cell_type": "code",
   "execution_count": null,
   "metadata": {},
   "outputs": [],
   "source": []
  },
  {
   "cell_type": "markdown",
   "metadata": {
    "jp-MarkdownHeadingCollapsed": true
   },
   "source": [
    "## Merge Game and Position Data"
   ]
  },
  {
   "cell_type": "code",
   "execution_count": null,
   "metadata": {},
   "outputs": [],
   "source": [
    "# Merge date of games\n",
    "stats_dates = pd.merge(stats,\n",
    "                      games[['game_date']],\n",
    "                      how = 'left',\n",
    "                      left_on = 'game_id',\n",
    "                      right_index = True)\\\n",
    "                .sort_values(['game_date','player_id'])"
   ]
  },
  {
   "cell_type": "code",
   "execution_count": null,
   "metadata": {},
   "outputs": [],
   "source": [
    "# Merge player positions\n",
    "stats_dates_pos = pd.merge(stats_dates,\n",
    "                           players[['player_position']],\n",
    "                           how = 'left',\n",
    "                           left_on = 'player_id',\n",
    "                           right_index = True)"
   ]
  },
  {
   "cell_type": "code",
   "execution_count": null,
   "metadata": {},
   "outputs": [],
   "source": []
  },
  {
   "cell_type": "markdown",
   "metadata": {
    "jp-MarkdownHeadingCollapsed": true
   },
   "source": [
    "# Parameters"
   ]
  },
  {
   "cell_type": "code",
   "execution_count": null,
   "metadata": {},
   "outputs": [],
   "source": [
    "class Parameters:\n",
    "    '''Class object to store specified parameters and\n",
    "    return objects useful for script'''\n",
    "\n",
    "    def __init__(self, rolling_period, stat_cats):\n",
    "        self.rolling_period = rolling_period\n",
    "        self.stat_cats = stat_cats\n",
    "\n",
    "    valid_cats = ['fga','fgm',\n",
    "                    'fta','ftm',\n",
    "                    'fg3a','fg3m',\n",
    "                    'oreb','dreb','reb',\n",
    "                    'pts','ast',\n",
    "                    'stl','blk',\n",
    "                    'pf','to']\n",
    "    \n",
    "    # Check if specified rolling period is a valid integer\n",
    "    try:\n",
    "        int(self.rolling_period)\n",
    "    except TypeError:\n",
    "        print('Specified rolling period not of type integer')\n",
    "        sys.exit()\n",
    "\n",
    "    if len(self.stat_cats.split(',')) > 0:\n",
    "        specified_stats = [cat.strip()\n",
    "                           for cat in self.stat_cats.split(',')]\n",
    "\n",
    "        invalid_cats = [cat\n",
    "                        for cat in specified_stats\n",
    "                        if cat not in valid_cats]\n",
    "\n",
    "        if len(invalid_cats) > 0:\n",
    "            raise KeyError('Invalid statistical category provided')\n",
    "    \n",
    "    def per36stat_col_names(self):\n",
    "        return [cat+'_per36' for cat in self.stat_cats]\n",
    "\n",
    "    def pergamestat_col_names(self):\n",
    "        return {cat:cat+'_pg'\n",
    "                for cat in valid_cats}"
   ]
  },
  {
   "cell_type": "code",
   "execution_count": null,
   "metadata": {},
   "outputs": [],
   "source": []
  },
  {
   "cell_type": "code",
   "execution_count": null,
   "metadata": {},
   "outputs": [],
   "source": [
    "# Determine rolling_period on rolling metrics for entire analysis\n",
    "rolling_period = 62    # Based on number of observations/games, not number of days\n",
    "\n",
    "# rolling_period_days = '120D'    # Based on number of days, not number of observations/games"
   ]
  },
  {
   "cell_type": "code",
   "execution_count": null,
   "metadata": {},
   "outputs": [],
   "source": [
    "stat_cats = ['pts']"
   ]
  },
  {
   "cell_type": "code",
   "execution_count": null,
   "metadata": {},
   "outputs": [],
   "source": [
    "valid_cats = ['fga','fgm',\n",
    "              'fta','ftm',\n",
    "              'fg3a','fg3m',\n",
    "              'oreb','dreb','reb',\n",
    "              'pts','ast',\n",
    "              'stl','blk',\n",
    "              'pf','to']\n",
    "\n",
    "invalid_cats = [cat for cat in stat_cats if cat not in valid_cats]\n",
    "\n",
    "if len(invalid_cats) > 0:\n",
    "    raise KeyError('Invalid statistical category provided')"
   ]
  },
  {
   "cell_type": "code",
   "execution_count": null,
   "metadata": {},
   "outputs": [],
   "source": [
    "cats_pergame_name_map = {cat:cat+'_pg' for cat in valid_cats}"
   ]
  },
  {
   "cell_type": "markdown",
   "metadata": {
    "jp-MarkdownHeadingCollapsed": true
   },
   "source": [
    "# Add/Impute Statistics"
   ]
  },
  {
   "cell_type": "markdown",
   "metadata": {
    "jp-MarkdownHeadingCollapsed": true
   },
   "source": [
    "## Team Stats"
   ]
  },
  {
   "cell_type": "code",
   "execution_count": null,
   "metadata": {
    "tags": []
   },
   "outputs": [],
   "source": [
    "stats_dates_pos.head()"
   ]
  },
  {
   "cell_type": "code",
   "execution_count": null,
   "metadata": {
    "tags": []
   },
   "outputs": [],
   "source": [
    "def team_rolling_mean(group):\n",
    "    group_indexed = group.set_index('game_date')\n",
    "    \n",
    "    rolling_group = group_indexed\\\n",
    "                    [stat_cats]\\\n",
    "                    .rolling(rolling_period,\n",
    "                             min_periods = 1)\\\n",
    "                    .mean()\\\n",
    "                    .rename(columns = cats_pergame_name_map)\n",
    "    \n",
    "    return rolling_group"
   ]
  },
  {
   "cell_type": "markdown",
   "metadata": {},
   "source": [
    "### Defensive Efficiency by Position"
   ]
  },
  {
   "cell_type": "code",
   "execution_count": null,
   "metadata": {
    "tags": []
   },
   "outputs": [],
   "source": [
    "team_def_eff_pos = stats_dates_pos\\\n",
    "                        .groupby(['opponent_team_id','game_date','player_position'])\\\n",
    "                        [stat_cats]\\\n",
    "                        .sum()\\\n",
    "                        .reset_index()"
   ]
  },
  {
   "cell_type": "code",
   "execution_count": null,
   "metadata": {
    "tags": []
   },
   "outputs": [],
   "source": [
    "team_stats_rolling_def_eff = team_def_eff_pos.groupby(['opponent_team_id','player_position'])\\\n",
    "                            .apply(team_rolling_mean)\\\n",
    "                            .reset_index()\\\n",
    "                            .rename(columns = {'opponent_team_id':'team_id'})\n",
    "\n",
    "team_stats_rolling_def_eff.rename(columns = {value:'opp_'+value\n",
    "                                             for key,value in cats_pergame_name_map.items()},\n",
    "                                 inplace = True)"
   ]
  },
  {
   "cell_type": "code",
   "execution_count": null,
   "metadata": {},
   "outputs": [],
   "source": []
  },
  {
   "cell_type": "code",
   "execution_count": null,
   "metadata": {},
   "outputs": [],
   "source": [
    "player_position = 'F'\n",
    "\n",
    "fig = plt.figure(figsize = (20,20))\n",
    "ax = plt.subplot(2,1,1)\n",
    "sns.lineplot(data = team_stats_rolling_def_eff[team_stats_rolling_def_eff['player_position'] == player_position],\n",
    "                  x = 'game_date',\n",
    "                  y = 'opp_pts_pg',\n",
    "                  hue = 'team_id',\n",
    "                  palette = sns.color_palette(),\n",
    "                  ci = None)\n",
    "ax2 = sns.lineplot(data = team_stats_rolling_def_eff[team_stats_rolling_def_eff['player_position'] == player_position]\\\n",
    "                           .groupby('game_date')\\\n",
    "                           [['opp_pts_pg']]\\\n",
    "                           .mean()\\\n",
    "                           .reset_index(),\n",
    "                  x = 'game_date',\n",
    "                  y = 'opp_pts_pg',\n",
    "                   color = 'red',\n",
    "                  dashes = True)\n",
    "plt.legend(loc = 'upper right')\n",
    "\n",
    "ax = plt.subplot(2,1,2)\n",
    "ax2 = sns.lineplot(data = team_stats_rolling_def_eff[team_stats_rolling_def_eff['player_position'] == player_position]\\\n",
    "                           .groupby('game_date')\\\n",
    "                           [['opp_pts_pg']]\\\n",
    "                           .std()\\\n",
    "                           .reset_index(),\n",
    "                  x = 'game_date',\n",
    "                  y = 'opp_pts_pg',\n",
    "                   color = 'red',\n",
    "                  dashes = True)\n",
    "\n",
    "fig.show()"
   ]
  },
  {
   "cell_type": "code",
   "execution_count": null,
   "metadata": {},
   "outputs": [],
   "source": []
  },
  {
   "cell_type": "code",
   "execution_count": null,
   "metadata": {},
   "outputs": [],
   "source": []
  },
  {
   "cell_type": "markdown",
   "metadata": {},
   "source": [
    "#### Ranking Team Defensive Capability by Position"
   ]
  },
  {
   "cell_type": "code",
   "execution_count": null,
   "metadata": {},
   "outputs": [],
   "source": [
    "team_def_eff_resampled = team_stats_rolling_def_eff.set_index('game_date')\\\n",
    "                            .groupby(['team_id',\n",
    "                                      'player_position'])\\\n",
    "                            .resample('1D')\\\n",
    "                            [['opp_pts_pg']]\\\n",
    "                            .ffill()\\\n",
    "                            .reset_index()"
   ]
  },
  {
   "cell_type": "code",
   "execution_count": null,
   "metadata": {},
   "outputs": [],
   "source": [
    "team_def_eff_ranked = team_def_eff_resampled.groupby(['game_date','player_position'])\\\n",
    "                        .apply(lambda x: x.set_index('team_id')\n",
    "                                           [['opp_pts_pg']]\\\n",
    "                                           .rank(method = 'min',\n",
    "                                                 na_option = 'bottom')\\\n",
    "                              )\\\n",
    "                        .reset_index()"
   ]
  },
  {
   "cell_type": "code",
   "execution_count": null,
   "metadata": {},
   "outputs": [],
   "source": [
    "team_def_eff_pos_mean = team_def_eff_ranked.groupby(['team_id','player_position'])[['opp_pts_pg']].mean().reset_index()\n",
    "team_def_eff_pos_mean_pivoted = pd.pivot_table(team_def_eff_pos_mean,\n",
    "                                               index = 'player_position',\n",
    "                                               columns = 'team_id')"
   ]
  },
  {
   "cell_type": "code",
   "execution_count": null,
   "metadata": {},
   "outputs": [],
   "source": [
    "team_def_eff_pos_mean_pivoted"
   ]
  },
  {
   "cell_type": "code",
   "execution_count": null,
   "metadata": {},
   "outputs": [],
   "source": [
    "player_position = 'G-F'\n",
    "\n",
    "fig = plt.figure(figsize = (20,10))\n",
    "ax = sns.lineplot(data = team_def_eff_ranked[(team_def_eff_ranked['player_position'] == player_position)\n",
    "                                              & (team_def_eff_ranked['team_id'] == 14)],\n",
    "                  x = 'game_date',\n",
    "                  y = 'opp_pts_pg',\n",
    "                  hue = 'team_id',\n",
    "                  palette = sns.color_palette(),\n",
    "                  ci = None)\n",
    "plt.legend(loc = 'upper right')\n",
    "fig.show()"
   ]
  },
  {
   "cell_type": "code",
   "execution_count": null,
   "metadata": {},
   "outputs": [],
   "source": []
  },
  {
   "cell_type": "code",
   "execution_count": null,
   "metadata": {},
   "outputs": [],
   "source": []
  },
  {
   "cell_type": "code",
   "execution_count": null,
   "metadata": {},
   "outputs": [],
   "source": []
  },
  {
   "cell_type": "markdown",
   "metadata": {},
   "source": [
    "### Offensive Efficiency by Position"
   ]
  },
  {
   "cell_type": "code",
   "execution_count": null,
   "metadata": {
    "tags": []
   },
   "outputs": [],
   "source": [
    "team_off_eff_pos = stats_dates_pos\\\n",
    "                        .groupby(['team_id','game_date','player_position'])\\\n",
    "                        [stat_cats]\\\n",
    "                        .sum()\\\n",
    "                        .reset_index()"
   ]
  },
  {
   "cell_type": "code",
   "execution_count": null,
   "metadata": {},
   "outputs": [],
   "source": []
  },
  {
   "cell_type": "code",
   "execution_count": null,
   "metadata": {
    "tags": []
   },
   "outputs": [],
   "source": [
    "team_stats_rolling_off_eff = team_off_eff_pos.groupby(['team_id','player_position'])\\\n",
    "                            .apply(team_rolling_mean)\\\n",
    "                            .reset_index()"
   ]
  },
  {
   "cell_type": "markdown",
   "metadata": {},
   "source": [
    "### Merge Team Defensive and Offensive Efficiency by Position"
   ]
  },
  {
   "cell_type": "code",
   "execution_count": null,
   "metadata": {},
   "outputs": [],
   "source": [
    "team_eff_pos = pd.merge(team_stats_rolling_off_eff,\n",
    "                        team_stats_rolling_def_eff,\n",
    "                        how = 'outer',\n",
    "                        left_on = ['team_id','game_date','player_position'],\n",
    "                        right_on = ['team_id','game_date','player_position'])"
   ]
  },
  {
   "cell_type": "markdown",
   "metadata": {},
   "source": [
    "### League Team Averages"
   ]
  },
  {
   "cell_type": "code",
   "execution_count": null,
   "metadata": {},
   "outputs": [],
   "source": [
    "def league_team_stats(group):\n",
    "    '''\n",
    "    Grouping function to get standard deviation of stat per36 for each player on a given date\n",
    "    Need to account for offseason/days where there are no games\n",
    "    '''\n",
    "    team_stat_cats = ['_'.join([cat,'pg']) for cat in stat_cats]\n",
    "    opp_stat_cats = ['_'.join(['opp',cat,'pg']) for cat in stat_cats]\n",
    "\n",
    "    resample_stat_cats = team_stat_cats + opp_stat_cats\n",
    "    \n",
    "    # Sort by date and player prior to resampling\n",
    "    group_sorted = group.sort_values(['game_date','team_id'])\\\n",
    "                        .set_index(['game_date'])\n",
    "    \n",
    "    # Resample data to daily by each player\n",
    "    ## Forward fill blank values\n",
    "    group_resampled = group_sorted.groupby('team_id')\\\n",
    "                        .resample('1D')\\\n",
    "                        [resample_stat_cats]\\\n",
    "                        .last()\n",
    "    \n",
    "    # Were games played on date\n",
    "    ## Due to resample, dates in the off season were added\n",
    "    ## Need to remove; will cause calculations over at the beginning of each season\n",
    "    date_no_minutes = group_resampled.groupby(level = 1)\\\n",
    "                        .apply(lambda x: x.isna()\\\n",
    "                                           .all()\n",
    "                              )\n",
    "    \n",
    "    # Drop dates with no games\n",
    "    ## Includes in-season breaks\n",
    "    date_no_games = date_no_minutes[(date_no_minutes == True).all(axis = 1)].index\n",
    "    \n",
    "    group_resampled.drop(index = date_no_games,\n",
    "                        level = 1,\n",
    "                        inplace = True)\n",
    "    \n",
    "    # Forward fill values by player\n",
    "    final_group_resampled = group_resampled.groupby(level = [0])[resample_stat_cats].ffill()\n",
    "    \n",
    "    # Calculate the standard deviation of pts_per36 for all players by date\n",
    "    final_rolling_stats = final_group_resampled.groupby(level = 1).agg(['mean',\n",
    "                                                                        'std'])\n",
    "    \n",
    "    return final_rolling_stats"
   ]
  },
  {
   "cell_type": "code",
   "execution_count": null,
   "metadata": {},
   "outputs": [],
   "source": []
  },
  {
   "cell_type": "code",
   "execution_count": null,
   "metadata": {},
   "outputs": [],
   "source": [
    "# Calculate teams offensive pts production by position per game\n",
    "team_pos_off_total = stats_dates_pos.groupby(['game_date',\n",
    "                                                  'player_position',\n",
    "                                                  'team_id'])\\\n",
    "                            [stat_cats]\\\n",
    "                            .sum()\\\n",
    "                            .reset_index()\\\n",
    "                            .rename(columns = cats_pergame_name_map)\n",
    "\n",
    "# Calculate teams defensive pts production by position per game\n",
    "team_pos_def_total = stats_dates_pos.groupby(['game_date',\n",
    "                                                  'player_position',\n",
    "                                                  'opponent_team_id'])\\\n",
    "                            [stat_cats]\\\n",
    "                            .sum()\\\n",
    "                            .reset_index()\\\n",
    "                            .rename(columns = {'opponent_team_id':'team_id'})\n",
    "\n",
    "team_pos_def_total.rename(columns = {key:'opp_'+value\n",
    "                                         for key,value in cats_pergame_name_map.items()},\n",
    "                             inplace = True)\n",
    "\n",
    "# Merge teams offensive and defensive production by position\n",
    "team_pos_eff_total = pd.merge(team_pos_off_total,\n",
    "                               team_pos_def_total,\n",
    "                               how = 'outer',\n",
    "                               left_on = ['game_date','team_id','player_position'],\n",
    "                               right_on = ['game_date','team_id','player_position'])"
   ]
  },
  {
   "cell_type": "code",
   "execution_count": null,
   "metadata": {},
   "outputs": [],
   "source": [
    "team_pos_rolling_eff = team_pos_eff_total\\\n",
    "                        .groupby('player_position')\\\n",
    "                        .apply(league_team_stats)"
   ]
  },
  {
   "cell_type": "code",
   "execution_count": null,
   "metadata": {},
   "outputs": [],
   "source": []
  },
  {
   "cell_type": "code",
   "execution_count": null,
   "metadata": {},
   "outputs": [],
   "source": [
    "team_pos_rolling_eff.columns = ['_'.join(i) for i in team_pos_rolling_eff.columns]"
   ]
  },
  {
   "cell_type": "code",
   "execution_count": null,
   "metadata": {},
   "outputs": [],
   "source": [
    "team_pos_rolling_eff.reset_index(inplace = True)"
   ]
  },
  {
   "cell_type": "code",
   "execution_count": null,
   "metadata": {},
   "outputs": [],
   "source": []
  },
  {
   "cell_type": "markdown",
   "metadata": {
    "jp-MarkdownHeadingCollapsed": true,
    "tags": []
   },
   "source": [
    "## Player Stats"
   ]
  },
  {
   "cell_type": "markdown",
   "metadata": {},
   "source": [
    "### Individual Player Efficiency"
   ]
  },
  {
   "cell_type": "code",
   "execution_count": null,
   "metadata": {},
   "outputs": [],
   "source": [
    "player_stat_cats = stat_cats + ['min']"
   ]
  },
  {
   "cell_type": "code",
   "execution_count": null,
   "metadata": {},
   "outputs": [],
   "source": [
    "def player_rolling_sum(group):\n",
    "    group_indexed = group.sort_values('game_date')\\\n",
    "                    .set_index('game_date')\n",
    "    \n",
    "    rolling_group = group_indexed\\\n",
    "                        [player_stat_cats]\\\n",
    "                       .rolling(rolling_period,\n",
    "                                min_periods = 1)\\\n",
    "                       .sum()\n",
    "    \n",
    "    rolling_min_mean = group_indexed\\\n",
    "                        [['min']]\\\n",
    "                        .rolling(rolling_period,\n",
    "                                 min_periods = 1)\\\n",
    "                        .mean()\n",
    "    \n",
    "    rolling_merged = pd.merge(rolling_min_mean,\n",
    "                              rolling_group,\n",
    "                              how = 'outer',\n",
    "                              left_index = True,\n",
    "                              right_index = True,\n",
    "                             suffixes = ['_mean','_cumsum'])\n",
    "    \n",
    "    return rolling_merged"
   ]
  },
  {
   "cell_type": "code",
   "execution_count": null,
   "metadata": {},
   "outputs": [],
   "source": [
    "player_stats_rolling_eff = stats_dates.groupby('player_id')\\\n",
    "                            .apply(player_rolling_sum)"
   ]
  },
  {
   "cell_type": "code",
   "execution_count": null,
   "metadata": {},
   "outputs": [],
   "source": [
    "player_stats_rolling_eff"
   ]
  },
  {
   "cell_type": "code",
   "execution_count": null,
   "metadata": {},
   "outputs": [],
   "source": []
  },
  {
   "cell_type": "code",
   "execution_count": null,
   "metadata": {},
   "outputs": [],
   "source": [
    "for cat in stat_cats:\n",
    "    player_stats_rolling_eff[cat+'_per36'] = player_stats_rolling_eff[cat] * (36/player_stats_rolling_eff['min_cumsum'])"
   ]
  },
  {
   "cell_type": "code",
   "execution_count": null,
   "metadata": {},
   "outputs": [],
   "source": [
    "actual_eff_merged = pd.merge(stats_dates_pos[['game_date','player_id','player_position',\n",
    "                                              'min'] + stat_cats],\n",
    "                             player_stats_rolling_eff.reset_index()\\\n",
    "                                 .drop(stat_cats + ['min_cumsum'],\n",
    "                                      axis = 1),\n",
    "                             how = 'left',\n",
    "                             left_on = ['player_id','game_date'],\n",
    "                             right_on = ['player_id','game_date'])#\\\n",
    "                    #.sort_values(['player_id','game_date'])"
   ]
  },
  {
   "cell_type": "code",
   "execution_count": null,
   "metadata": {},
   "outputs": [],
   "source": []
  },
  {
   "cell_type": "code",
   "execution_count": null,
   "metadata": {},
   "outputs": [],
   "source": []
  },
  {
   "cell_type": "code",
   "execution_count": null,
   "metadata": {},
   "outputs": [],
   "source": [
    "per36_stat_cols = [i for i in actual_eff_merged.columns if ('_per36' in i)]"
   ]
  },
  {
   "cell_type": "markdown",
   "metadata": {},
   "source": [
    "### League Position Average"
   ]
  },
  {
   "cell_type": "code",
   "execution_count": null,
   "metadata": {},
   "outputs": [],
   "source": [
    "def league_player_pts_stats(group):\n",
    "    '''\n",
    "    Grouping function to get standard deviation of pts_per36 for each player on a given date\n",
    "    Need to account for offseason/days where there are no games\n",
    "    '''\n",
    "    # Sort by date and player prior to resampling\n",
    "    group_sorted = group.sort_values(['game_date','player_id'])\\\n",
    "                        .set_index(['game_date'])\n",
    "    \n",
    "    # Resample data to daily by each player\n",
    "    ## Forward fill blank values\n",
    "    group_resampled = group_sorted.groupby(['player_id',\n",
    "                                           ])\\\n",
    "                        .resample('1D')\\\n",
    "                        [per36_stat_cols]\\\n",
    "                        .last()\n",
    "    \n",
    "    # Were games played on date\n",
    "    ## Due to resample, dates in the off season were added\n",
    "    ## Need to remove; will cause calculations over at the beginning of each season\n",
    "    date_no_minutes = group_resampled.groupby(level = 1)\\\n",
    "                        .apply(lambda x: x.isna()\\\n",
    "                                           .all()\n",
    "                              )\n",
    "    \n",
    "    # Drop dates with no games\n",
    "    ## Includes in-season breaks\n",
    "    date_no_games = date_no_minutes[(date_no_minutes[per36_stat_cols] == True).all(axis = 1)].index\n",
    "    \n",
    "    group_resampled.drop(index = date_no_games,\n",
    "                        level = 1,\n",
    "                        inplace = True)\n",
    "    \n",
    "    # Forward fill values by player\n",
    "    final_group_resampled = group_resampled.groupby(level = [0])[per36_stat_cols].ffill()\n",
    "    \n",
    "    # Calculate the standard deviation of pts_per36 for all players by date\n",
    "    final_rolling_stats = final_group_resampled.groupby(level = [1]).agg(['mean',\n",
    "                                                                          'std'])\n",
    "    final_rolling_stats.columns = ['_'.join(i) for i in final_rolling_stats.columns]\n",
    "    \n",
    "    return final_rolling_stats"
   ]
  },
  {
   "cell_type": "code",
   "execution_count": null,
   "metadata": {},
   "outputs": [],
   "source": [
    "league_player_rolling_stats = actual_eff_merged.groupby('player_position',\n",
    "                                                       dropna = False)\\\n",
    "                                .apply(league_player_pts_stats)"
   ]
  },
  {
   "cell_type": "code",
   "execution_count": null,
   "metadata": {
    "scrolled": true
   },
   "outputs": [],
   "source": [
    "league_player_rolling_stats"
   ]
  },
  {
   "cell_type": "code",
   "execution_count": null,
   "metadata": {},
   "outputs": [],
   "source": []
  },
  {
   "cell_type": "code",
   "execution_count": null,
   "metadata": {},
   "outputs": [],
   "source": [
    "league_player_rolling_stats.reset_index(inplace = True)"
   ]
  },
  {
   "cell_type": "markdown",
   "metadata": {
    "jp-MarkdownHeadingCollapsed": true
   },
   "source": [
    "## Shift Data\n",
    "Need to shift team efficiency, player efficiency, and league rolling data down a row so they can be used as dependent variables on the actual predictor variable"
   ]
  },
  {
   "cell_type": "code",
   "execution_count": null,
   "metadata": {},
   "outputs": [],
   "source": [
    "team_eff_pos_shifted = team_eff_pos.groupby(['team_id','player_position'])\\\n",
    "                        .apply(lambda x: x.sort_values('game_date')\\\n",
    "                                           .set_index('game_date')\\\n",
    "                                           [[col for col in team_eff_pos.columns if col.endswith('_pg')]]\\\n",
    "                                           .shift(1))\\\n",
    "                        .reset_index()"
   ]
  },
  {
   "cell_type": "code",
   "execution_count": null,
   "metadata": {},
   "outputs": [],
   "source": []
  },
  {
   "cell_type": "code",
   "execution_count": null,
   "metadata": {},
   "outputs": [],
   "source": [
    "team_pos_rolling_eff_shifted = team_pos_rolling_eff.groupby('player_position')\\\n",
    "                                .apply(lambda x: x.sort_values('game_date')\\\n",
    "                                                   .set_index('game_date')\\\n",
    "                                                   [[col for col in team_pos_rolling_eff.columns if '_pg_' in col]]\\\n",
    "                                                   .shift(1))\\\n",
    "                                .reset_index()"
   ]
  },
  {
   "cell_type": "code",
   "execution_count": null,
   "metadata": {},
   "outputs": [],
   "source": []
  },
  {
   "cell_type": "code",
   "execution_count": null,
   "metadata": {},
   "outputs": [],
   "source": [
    "actual_eff_merged_shifted = actual_eff_merged.groupby(['player_id','player_position'])\\\n",
    "                                .apply(lambda x: x.sort_values('game_date')\\\n",
    "                                                   .set_index('game_date')\\\n",
    "                                                   [per36_stat_cols + ['min_mean']]\\\n",
    "                                                   .shift(1))\\\n",
    "                                .reset_index()"
   ]
  },
  {
   "cell_type": "code",
   "execution_count": null,
   "metadata": {},
   "outputs": [],
   "source": []
  },
  {
   "cell_type": "code",
   "execution_count": null,
   "metadata": {},
   "outputs": [],
   "source": [
    "league_player_rolling_stats_shifted = league_player_rolling_stats.groupby('player_position')\\\n",
    "                                        .apply(lambda x: x.sort_values('game_date')\\\n",
    "                                                           .set_index('game_date')\\\n",
    "                                                           [[col for col in league_player_rolling_stats.columns if '_per36_' in col]]\\\n",
    "                                                           .shift(1))\\\n",
    "                                        .reset_index()"
   ]
  },
  {
   "cell_type": "markdown",
   "metadata": {
    "jp-MarkdownHeadingCollapsed": true
   },
   "source": [
    "## Merge Data"
   ]
  },
  {
   "cell_type": "markdown",
   "metadata": {},
   "source": [
    "### Merge Team Stats"
   ]
  },
  {
   "cell_type": "code",
   "execution_count": null,
   "metadata": {},
   "outputs": [],
   "source": [
    "rolling_stats_teams = pd.merge(team_eff_pos_shifted.rename(columns = {col:'team_'+col\n",
    "                                                                      for col in team_eff_pos_shifted.columns\n",
    "                                                                      if col.endswith('_pg')}),\n",
    "                               team_pos_rolling_eff_shifted.rename(columns = {col:'league_'+col\n",
    "                                                                              for col in team_pos_rolling_eff_shifted.columns\n",
    "                                                                              if '_pg_' in col}),\n",
    "                               how = 'outer',\n",
    "                               left_on = ['player_position','game_date'],\n",
    "                               right_on = ['player_position','game_date'])\\\n",
    "                        .sort_values(['game_date','player_position','team_id'])"
   ]
  },
  {
   "cell_type": "markdown",
   "metadata": {},
   "source": [
    "### Merge Player Stats"
   ]
  },
  {
   "cell_type": "code",
   "execution_count": null,
   "metadata": {},
   "outputs": [],
   "source": [
    "rolling_stats_players = pd.merge(actual_eff_merged_shifted.rename(columns = {**{'min_mean':'player_avg_min'},\\\n",
    "                                                                             **{col:'player_'+col for col in per36_stat_cols}\n",
    "                                                                            }),\n",
    "                                 league_player_rolling_stats_shifted.rename(columns = {col:'league_player_'+col\n",
    "                                                                                       for col in league_player_rolling_stats_shifted\n",
    "                                                                                       if '_per36_' in col}),\n",
    "                                 how = 'outer',\n",
    "                                 left_on = ['player_position','game_date'],\n",
    "                                 right_on = ['player_position','game_date'])\\\n",
    "                        .sort_values(['game_date','player_position','player_id'])"
   ]
  },
  {
   "cell_type": "markdown",
   "metadata": {},
   "source": [
    "### Merge Player and Team Stats to Relevant Stats"
   ]
  },
  {
   "cell_type": "code",
   "execution_count": null,
   "metadata": {},
   "outputs": [],
   "source": [
    "# Table of relevant fields from original data\n",
    "rel_stats = stats_dates_pos[['game_date',\n",
    "                             'player_id','player_position',\n",
    "                             'team_id','opponent_team_id',\n",
    "                             'min']\n",
    "                            + stat_cats]"
   ]
  },
  {
   "cell_type": "code",
   "execution_count": null,
   "metadata": {},
   "outputs": [],
   "source": []
  },
  {
   "cell_type": "code",
   "execution_count": null,
   "metadata": {},
   "outputs": [],
   "source": [
    "rel_rolling_players = pd.merge(rel_stats,\n",
    "                               rolling_stats_players,\n",
    "                               how = 'outer',\n",
    "                               left_on = ['game_date','player_id','player_position'],\n",
    "                               right_on = ['game_date','player_id','player_position'])"
   ]
  },
  {
   "cell_type": "code",
   "execution_count": null,
   "metadata": {},
   "outputs": [],
   "source": []
  },
  {
   "cell_type": "code",
   "execution_count": null,
   "metadata": {},
   "outputs": [],
   "source": [
    "rolling_stats_teams"
   ]
  },
  {
   "cell_type": "code",
   "execution_count": null,
   "metadata": {},
   "outputs": [],
   "source": [
    "rel_rolling_team_off = pd.merge(rel_rolling_players,\n",
    "                                rolling_stats_teams[['team_id','player_position','game_date']\n",
    "                                                    + [col for col in rolling_stats_teams if (('_pg' in col)\n",
    "                                                                                              & ('_opp_' not in col))]],\n",
    "                                how = 'left',\n",
    "                                left_on = ['game_date','team_id','player_position'],\n",
    "                                right_on = ['game_date','team_id','player_position'])"
   ]
  },
  {
   "cell_type": "code",
   "execution_count": null,
   "metadata": {},
   "outputs": [],
   "source": [
    "rel_rolling_team_opp = pd.merge(rel_rolling_team_off,\n",
    "                                rolling_stats_teams[['team_id','player_position','game_date']\n",
    "                                                    + [col for col in rolling_stats_teams if (('_pg' in col)\n",
    "                                                                                              & ('_opp_' in col))]]\\\n",
    "                                    .rename(columns = {col:'opponent_'+col\n",
    "                                                       for col in rolling_stats_teams.columns\n",
    "                                                       if ('team_opp_' in col)}),\n",
    "                                how = 'left',\n",
    "                                left_on = ['game_date','opponent_team_id','player_position'],\n",
    "                                right_on = ['game_date','team_id','player_position'],\n",
    "                               suffixes = ['','_y'])\\\n",
    "                        .drop('team_id_y',\n",
    "                              axis = 1)"
   ]
  },
  {
   "cell_type": "code",
   "execution_count": null,
   "metadata": {},
   "outputs": [],
   "source": []
  },
  {
   "cell_type": "markdown",
   "metadata": {},
   "source": [
    "### Standardize Data"
   ]
  },
  {
   "cell_type": "code",
   "execution_count": null,
   "metadata": {},
   "outputs": [],
   "source": [
    "for cat in stat_cats:\n",
    "    # Team Data Standardization\n",
    "    rel_rolling_team_opp['team_'+cat+'_pg_stand'] = (rel_rolling_team_opp['team_'+cat+'_pg'] - rel_rolling_team_opp['league_'+cat+'_pg_mean'])/rel_rolling_team_opp['league_'+cat+'_pg_std']\n",
    "\n",
    "    # Opponent Team Data Standardization\n",
    "    rel_rolling_team_opp['opponent_team_'+cat+'_pg_stand'] = (rel_rolling_team_opp['opponent_team_opp_'+cat+'_pg'] - rel_rolling_team_opp['league_opp_'+cat+'_pg_mean'])/rel_rolling_team_opp['league_opp_'+cat+'_pg_std']\n",
    "    \n",
    "    # Player Data Standardization\n",
    "    rel_rolling_team_opp['player_'+cat+'_per36_stand'] = (rel_rolling_team_opp['player_'+cat+'_per36'] - rel_rolling_team_opp['league_player_'+cat+'_per36_mean'])/rel_rolling_team_opp['league_player_'+cat+'_per36_std']"
   ]
  },
  {
   "cell_type": "code",
   "execution_count": null,
   "metadata": {},
   "outputs": [],
   "source": [
    "rel_rolling_team_opp"
   ]
  },
  {
   "cell_type": "code",
   "execution_count": null,
   "metadata": {},
   "outputs": [],
   "source": []
  },
  {
   "cell_type": "markdown",
   "metadata": {
    "jp-MarkdownHeadingCollapsed": true
   },
   "source": [
    "## Plotting"
   ]
  },
  {
   "cell_type": "markdown",
   "metadata": {},
   "source": [
    "### Team Data"
   ]
  },
  {
   "cell_type": "code",
   "execution_count": null,
   "metadata": {},
   "outputs": [],
   "source": [
    "rel_rolling_team_opp[(rel_rolling_team_opp['game_date'] > '2021-12-01')\n",
    "                        & (rel_rolling_team_opp['player_position'] != 'UNK')]['opp_def_ppg_stand'].max()"
   ]
  },
  {
   "cell_type": "code",
   "execution_count": null,
   "metadata": {},
   "outputs": [],
   "source": [
    "rel_rolling_team_opp[rel_rolling_team_opp['opp_def_ppg_stand'] == rel_rolling_team_opp[(rel_rolling_team_opp['game_date'] > '2021-12-01')\n",
    "                        & (rel_rolling_team_opp['player_position'] != 'UNK')]['opp_def_ppg_stand'].max()]"
   ]
  },
  {
   "cell_type": "code",
   "execution_count": null,
   "metadata": {},
   "outputs": [],
   "source": [
    "rel_rolling_team_opp[(rel_rolling_team_opp['opponent_team_id'] == 2)\n",
    "                        & (rel_rolling_team_opp['player_position'] == 'G-F')]\\\n",
    "    [['game_date','opp_def_ppg_stand']]\\\n",
    "    .drop_duplicates()"
   ]
  },
  {
   "cell_type": "code",
   "execution_count": null,
   "metadata": {},
   "outputs": [],
   "source": []
  },
  {
   "cell_type": "code",
   "execution_count": null,
   "metadata": {},
   "outputs": [],
   "source": []
  },
  {
   "cell_type": "code",
   "execution_count": null,
   "metadata": {},
   "outputs": [],
   "source": [
    "opponent_team_id = 6\n",
    "opponent_team_name = teams[teams.index == opponent_team_id]['team_name'][opponent_team_id]\n",
    "player_position = 'G-F'\n",
    "\n",
    "fig = plt.figure(figsize = (20,10))\n",
    "ax = sns.pointplot(data = rel_rolling_team_opp[(rel_rolling_team_opp['opponent_team_id'] == opponent_team_id)\n",
    "                                               & (rel_rolling_team_opp['player_position'] == player_position)]\\\n",
    "                            [['game_date','opp_def_ppg_stand']]\\\n",
    "                            .drop_duplicates(),\n",
    "                   x = 'game_date',\n",
    "                   y = 'opp_def_ppg_stand',\n",
    "                  ci = None)\n",
    "ax.set_title('%s vs. %s' %(opponent_team_name, player_position))\n",
    "ax.set_xlabel('Game Date')\n",
    "ax.set_ylabel('Standard Deviation')\n",
    "\n",
    "# xaxis_date_format = mdates.DateFormatter('%y-%m')\n",
    "# plt.gca().xaxis.set_major_formatter(xaxis_date_format)\n",
    "\n",
    "plt.xticks(rotation=90)\n",
    "# fig.tight_layout()\n",
    "fig.show()"
   ]
  },
  {
   "cell_type": "code",
   "execution_count": null,
   "metadata": {},
   "outputs": [],
   "source": []
  },
  {
   "cell_type": "code",
   "execution_count": null,
   "metadata": {},
   "outputs": [],
   "source": []
  },
  {
   "cell_type": "code",
   "execution_count": null,
   "metadata": {},
   "outputs": [],
   "source": [
    "team_id = 10\n",
    "team_name = teams[teams.index == team_id]['team_name'][team_id]\n",
    "player_position = 'G'\n",
    "\n",
    "fig = plt.figure(figsize = (20,10))\n",
    "ax = sns.pointplot(data = rel_rolling_team_opp[(rel_rolling_team_opp['team_id'] == team_id)\n",
    "                                               & (rel_rolling_team_opp['player_position'] == player_position)]\\\n",
    "                            [['game_date','team_off_ppg_stand']]\\\n",
    "                            .drop_duplicates(),\n",
    "                   x = 'game_date',\n",
    "                   y = 'team_off_ppg_stand',\n",
    "                  ci = None)\n",
    "ax.set_title('%s %s vs. League' %(team_name, player_position))\n",
    "ax.set_xlabel('Game Date')\n",
    "ax.set_ylabel('Standard Deviation')\n",
    "\n",
    "# xaxis_date_format = mdates.DateFormatter('%y-%m')\n",
    "# plt.gca().xaxis.set_major_formatter(xaxis_date_format)\n",
    "\n",
    "plt.xticks(rotation=90)\n",
    "# fig.tight_layout()\n",
    "fig.show()"
   ]
  },
  {
   "cell_type": "code",
   "execution_count": null,
   "metadata": {},
   "outputs": [],
   "source": []
  },
  {
   "cell_type": "code",
   "execution_count": null,
   "metadata": {},
   "outputs": [],
   "source": []
  },
  {
   "cell_type": "markdown",
   "metadata": {},
   "source": [
    "### Player Data"
   ]
  },
  {
   "cell_type": "code",
   "execution_count": null,
   "metadata": {},
   "outputs": [],
   "source": [
    "rel_rolling_team_opp[rel_rolling_team_opp['player_id'] == 175]"
   ]
  },
  {
   "cell_type": "code",
   "execution_count": null,
   "metadata": {},
   "outputs": [],
   "source": []
  },
  {
   "cell_type": "code",
   "execution_count": null,
   "metadata": {},
   "outputs": [],
   "source": [
    "player_id = 37\n",
    "\n",
    "fig = plt.figure(figsize = [30,10])\n",
    "ax = sns.pointplot(data = rel_rolling_team_opp[rel_rolling_team_opp['player_id'] == player_id],\n",
    "                 x = 'game_date',\n",
    "                 y = 'player_pts_per36_stand',\n",
    "                ci = None # Confidence Interval\n",
    "                )\n",
    "ax.set_title(players[players.index == player_id]['player_full_name'][player_id])\n",
    "ax.set_xlabel('Game Date')\n",
    "ax.set_ylabel('Player Points per 36min Standard Dev')\n",
    "\n",
    "xaxis_date_format = mdates.DateFormatter('%y-%m')\n",
    "plt.gca().xaxis.set_major_formatter(xaxis_date_format)\n",
    "\n",
    "plt.xticks(rotation=90)\n",
    "# fig.tight_layout()\n",
    "fig.show()"
   ]
  },
  {
   "cell_type": "code",
   "execution_count": null,
   "metadata": {},
   "outputs": [],
   "source": []
  },
  {
   "cell_type": "code",
   "execution_count": null,
   "metadata": {},
   "outputs": [],
   "source": []
  },
  {
   "cell_type": "code",
   "execution_count": null,
   "metadata": {},
   "outputs": [],
   "source": [
    "players[players['player_last_name'] == 'Beal']"
   ]
  },
  {
   "cell_type": "code",
   "execution_count": null,
   "metadata": {},
   "outputs": [],
   "source": [
    "teams[teams.index == 24]"
   ]
  },
  {
   "cell_type": "code",
   "execution_count": null,
   "metadata": {},
   "outputs": [],
   "source": []
  },
  {
   "cell_type": "markdown",
   "metadata": {},
   "source": [
    "# Export Data"
   ]
  },
  {
   "cell_type": "code",
   "execution_count": null,
   "metadata": {},
   "outputs": [],
   "source": [
    "excel_export_path = '/'.join(['.','Data',\n",
    "                              'NBA Stats_2021-2023.xlsx'])\n",
    "\n",
    "for cat in stat_cats:\n",
    "    category_rolling_stats = rel_rolling_team_opp[['game_date','player_id','player_position',\n",
    "                                                   'team_id','opponent_team_id',\n",
    "                                                   'min']\n",
    "                                                    + [col for col in rel_rolling_team_opp.columns if cat in col]\n",
    "                                                    ]\n",
    "    \n",
    "    category_rolling_stats.to_excel(excel_export_path,\n",
    "                                  sheet_name = cat,\n",
    "                                  index = False)"
   ]
  },
  {
   "cell_type": "code",
   "execution_count": null,
   "metadata": {},
   "outputs": [],
   "source": []
  },
  {
   "cell_type": "code",
   "execution_count": null,
   "metadata": {},
   "outputs": [],
   "source": []
  },
  {
   "cell_type": "code",
   "execution_count": null,
   "metadata": {},
   "outputs": [],
   "source": []
  },
  {
   "cell_type": "code",
   "execution_count": null,
   "metadata": {},
   "outputs": [],
   "source": []
  },
  {
   "cell_type": "code",
   "execution_count": null,
   "metadata": {},
   "outputs": [],
   "source": []
  },
  {
   "cell_type": "code",
   "execution_count": null,
   "metadata": {},
   "outputs": [],
   "source": []
  },
  {
   "cell_type": "code",
   "execution_count": null,
   "metadata": {},
   "outputs": [],
   "source": []
  },
  {
   "cell_type": "code",
   "execution_count": null,
   "metadata": {},
   "outputs": [],
   "source": []
  },
  {
   "cell_type": "code",
   "execution_count": null,
   "metadata": {},
   "outputs": [],
   "source": []
  },
  {
   "cell_type": "code",
   "execution_count": null,
   "metadata": {},
   "outputs": [],
   "source": []
  },
  {
   "cell_type": "code",
   "execution_count": null,
   "metadata": {},
   "outputs": [],
   "source": []
  },
  {
   "cell_type": "code",
   "execution_count": null,
   "metadata": {},
   "outputs": [],
   "source": []
  },
  {
   "cell_type": "code",
   "execution_count": null,
   "metadata": {},
   "outputs": [],
   "source": []
  }
 ],
 "metadata": {
  "kernelspec": {
   "display_name": "Python 3 (ipykernel)",
   "language": "python",
   "name": "python3"
  },
  "language_info": {
   "codemirror_mode": {
    "name": "ipython",
    "version": 3
   },
   "file_extension": ".py",
   "mimetype": "text/x-python",
   "name": "python",
   "nbconvert_exporter": "python",
   "pygments_lexer": "ipython3",
   "version": "3.8.18"
  }
 },
 "nbformat": 4,
 "nbformat_minor": 4
}
