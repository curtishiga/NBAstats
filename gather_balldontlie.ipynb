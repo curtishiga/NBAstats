{
 "cells": [
  {
   "cell_type": "code",
   "execution_count": 1,
   "id": "de94414d",
   "metadata": {},
   "outputs": [],
   "source": [
    "import pandas as pd\n",
    "import numpy as np\n",
    "from datetime import datetime\n",
    "import requests\n",
    "import warnings\n",
    "\n",
    "warnings.filterwarnings('ignore')\n",
    "pd.set_option('display.max_columns',None)"
   ]
  },
  {
   "cell_type": "markdown",
   "id": "1776dead",
   "metadata": {},
   "source": [
    "# Pull from API"
   ]
  },
  {
   "cell_type": "code",
   "execution_count": 32,
   "id": "deff2544",
   "metadata": {},
   "outputs": [],
   "source": [
    "page = range(400)\n",
    "per_page = '100'\n",
    "postseason = 'false'"
   ]
  },
  {
   "cell_type": "markdown",
   "id": "52a84f38",
   "metadata": {},
   "source": [
    "Extract all data for the 2021-2023/24 seasons to date\n",
    "- done on 1/22/24"
   ]
  },
  {
   "cell_type": "code",
   "execution_count": 3,
   "id": "3f34c446",
   "metadata": {},
   "outputs": [],
   "source": [
    "all_data = pd.DataFrame()"
   ]
  },
  {
   "cell_type": "code",
   "execution_count": 4,
   "id": "db1f3ac2",
   "metadata": {},
   "outputs": [],
   "source": [
    "# split 'game','player', and 'team' columns into individual columns\n",
    "# these fields contain meta-data as a dictionary\n",
    "dict_cols = ['game',\n",
    "             'player',\n",
    "             'team'\n",
    "            ]"
   ]
  },
  {
   "cell_type": "code",
   "execution_count": 33,
   "id": "a4cbab8a",
   "metadata": {},
   "outputs": [
    {
     "name": "stdout",
     "output_type": "stream",
     "text": [
      "No more data\n"
     ]
    }
   ],
   "source": [
    "for j in page:\n",
    "    get_req = 'https://balldontlie.io/api/v1/stats?per_page=100&page=%d&seasons[]=2023&postseason=false&start_date=2023-10-24' %(j)\n",
    "\n",
    "    req = requests\\\n",
    "        .get(get_req)\n",
    "\n",
    "    req_status_code = req.status_code\n",
    "    \n",
    "    if req_status_code == 200:\n",
    "        req_json = req.json()    \n",
    "\n",
    "        data = pd.DataFrame().from_dict(req_json['data'])\n",
    "        \n",
    "        if len(data) == 0:\n",
    "            print('No more data')\n",
    "            break\n",
    "        else:\n",
    "            data.dropna(subset = ['game','player','team'],\n",
    "                       inplace = True)\n",
    "\n",
    "            data.reset_index(drop = True,\n",
    "                            inplace = True)\n",
    "\n",
    "            for col in dict_cols:\n",
    "                sub_df = pd.DataFrame(data[col].to_list())\n",
    "\n",
    "                sub_df.columns = ['_'.join([col,c])\n",
    "                                   for c in sub_df.columns]\n",
    "\n",
    "                data = pd.concat([data,\n",
    "                                      sub_df],\n",
    "                                     axis = 1)\n",
    "\n",
    "            all_data = pd.concat([all_data,\n",
    "                                 data])\n",
    "\n",
    "    elif req_status_code == 429:\n",
    "        print('Too many Requests. Stopped at: %d' %j)\n",
    "        page = range(j,500)\n",
    "        break\n",
    "    else:\n",
    "        print('Error: %d' %req_status_code)\n",
    "        break"
   ]
  },
  {
   "cell_type": "code",
   "execution_count": 34,
   "id": "0f6f0561",
   "metadata": {},
   "outputs": [
    {
     "data": {
      "text/plain": [
       "range(0, 400)"
      ]
     },
     "execution_count": 34,
     "metadata": {},
     "output_type": "execute_result"
    }
   ],
   "source": [
    "page"
   ]
  },
  {
   "cell_type": "code",
   "execution_count": 35,
   "id": "9d378a4b",
   "metadata": {},
   "outputs": [
    {
     "data": {
      "text/plain": [
       "247"
      ]
     },
     "execution_count": 35,
     "metadata": {},
     "output_type": "execute_result"
    }
   ],
   "source": [
    "j"
   ]
  },
  {
   "cell_type": "code",
   "execution_count": 36,
   "id": "fbb0cc68",
   "metadata": {},
   "outputs": [
    {
     "data": {
      "text/plain": [
       "200"
      ]
     },
     "execution_count": 36,
     "metadata": {},
     "output_type": "execute_result"
    }
   ],
   "source": [
    "req_status_code"
   ]
  },
  {
   "cell_type": "code",
   "execution_count": 37,
   "id": "8cb9cae5",
   "metadata": {},
   "outputs": [
    {
     "data": {
      "text/plain": [
       "97409"
      ]
     },
     "execution_count": 37,
     "metadata": {},
     "output_type": "execute_result"
    }
   ],
   "source": [
    "#31630\n",
    "# 72859\n",
    "len(all_data)"
   ]
  },
  {
   "cell_type": "code",
   "execution_count": 38,
   "id": "b32537bf",
   "metadata": {},
   "outputs": [
    {
     "data": {
      "text/html": [
       "<div>\n",
       "<style scoped>\n",
       "    .dataframe tbody tr th:only-of-type {\n",
       "        vertical-align: middle;\n",
       "    }\n",
       "\n",
       "    .dataframe tbody tr th {\n",
       "        vertical-align: top;\n",
       "    }\n",
       "\n",
       "    .dataframe thead th {\n",
       "        text-align: right;\n",
       "    }\n",
       "</style>\n",
       "<table border=\"1\" class=\"dataframe\">\n",
       "  <thead>\n",
       "    <tr style=\"text-align: right;\">\n",
       "      <th></th>\n",
       "      <th>id</th>\n",
       "      <th>ast</th>\n",
       "      <th>blk</th>\n",
       "      <th>dreb</th>\n",
       "      <th>fg3_pct</th>\n",
       "      <th>fg3a</th>\n",
       "      <th>fg3m</th>\n",
       "      <th>fg_pct</th>\n",
       "      <th>fga</th>\n",
       "      <th>fgm</th>\n",
       "      <th>ft_pct</th>\n",
       "      <th>fta</th>\n",
       "      <th>ftm</th>\n",
       "      <th>game</th>\n",
       "      <th>min</th>\n",
       "      <th>oreb</th>\n",
       "      <th>pf</th>\n",
       "      <th>player</th>\n",
       "      <th>pts</th>\n",
       "      <th>reb</th>\n",
       "      <th>stl</th>\n",
       "      <th>team</th>\n",
       "      <th>turnover</th>\n",
       "      <th>game_id</th>\n",
       "      <th>game_date</th>\n",
       "      <th>game_home_team_id</th>\n",
       "      <th>game_home_team_score</th>\n",
       "      <th>game_period</th>\n",
       "      <th>game_postseason</th>\n",
       "      <th>game_season</th>\n",
       "      <th>game_status</th>\n",
       "      <th>game_time</th>\n",
       "      <th>game_visitor_team_id</th>\n",
       "      <th>game_visitor_team_score</th>\n",
       "      <th>player_id</th>\n",
       "      <th>player_first_name</th>\n",
       "      <th>player_height_feet</th>\n",
       "      <th>player_height_inches</th>\n",
       "      <th>player_last_name</th>\n",
       "      <th>player_position</th>\n",
       "      <th>player_team_id</th>\n",
       "      <th>player_weight_pounds</th>\n",
       "      <th>team_id</th>\n",
       "      <th>team_abbreviation</th>\n",
       "      <th>team_city</th>\n",
       "      <th>team_conference</th>\n",
       "      <th>team_division</th>\n",
       "      <th>team_full_name</th>\n",
       "      <th>team_name</th>\n",
       "    </tr>\n",
       "  </thead>\n",
       "  <tbody>\n",
       "    <tr>\n",
       "      <th>62</th>\n",
       "      <td>14174040</td>\n",
       "      <td>0</td>\n",
       "      <td>0</td>\n",
       "      <td>0</td>\n",
       "      <td>0.0</td>\n",
       "      <td>0</td>\n",
       "      <td>0</td>\n",
       "      <td>0.0</td>\n",
       "      <td>0</td>\n",
       "      <td>0</td>\n",
       "      <td>0.0</td>\n",
       "      <td>0</td>\n",
       "      <td>0</td>\n",
       "      <td>{'id': 1037945, 'date': '2023-12-18T00:00:00.0...</td>\n",
       "      <td>00</td>\n",
       "      <td>0</td>\n",
       "      <td>0</td>\n",
       "      <td>{'id': 38017700, 'first_name': 'Wendell', 'hei...</td>\n",
       "      <td>0</td>\n",
       "      <td>0</td>\n",
       "      <td>0</td>\n",
       "      <td>{'id': 18, 'abbreviation': 'MIN', 'city': 'Min...</td>\n",
       "      <td>0</td>\n",
       "      <td>1037945</td>\n",
       "      <td>2023-12-18T00:00:00.000Z</td>\n",
       "      <td>16</td>\n",
       "      <td>108</td>\n",
       "      <td>4</td>\n",
       "      <td>False</td>\n",
       "      <td>2023</td>\n",
       "      <td>Final</td>\n",
       "      <td>Final</td>\n",
       "      <td>18</td>\n",
       "      <td>112</td>\n",
       "      <td>38017700</td>\n",
       "      <td>Wendell</td>\n",
       "      <td>NaN</td>\n",
       "      <td>NaN</td>\n",
       "      <td>Moore Jr.</td>\n",
       "      <td>G</td>\n",
       "      <td>18</td>\n",
       "      <td>NaN</td>\n",
       "      <td>18</td>\n",
       "      <td>MIN</td>\n",
       "      <td>Minnesota</td>\n",
       "      <td>West</td>\n",
       "      <td>Northwest</td>\n",
       "      <td>Minnesota Timberwolves</td>\n",
       "      <td>Timberwolves</td>\n",
       "    </tr>\n",
       "    <tr>\n",
       "      <th>63</th>\n",
       "      <td>14174042</td>\n",
       "      <td>0</td>\n",
       "      <td>0</td>\n",
       "      <td>0</td>\n",
       "      <td>0.0</td>\n",
       "      <td>0</td>\n",
       "      <td>0</td>\n",
       "      <td>0.0</td>\n",
       "      <td>0</td>\n",
       "      <td>0</td>\n",
       "      <td>0.0</td>\n",
       "      <td>0</td>\n",
       "      <td>0</td>\n",
       "      <td>{'id': 1037945, 'date': '2023-12-18T00:00:00.0...</td>\n",
       "      <td>00</td>\n",
       "      <td>0</td>\n",
       "      <td>0</td>\n",
       "      <td>{'id': 56677851, 'first_name': 'Jaylen', 'heig...</td>\n",
       "      <td>0</td>\n",
       "      <td>0</td>\n",
       "      <td>0</td>\n",
       "      <td>{'id': 18, 'abbreviation': 'MIN', 'city': 'Min...</td>\n",
       "      <td>0</td>\n",
       "      <td>1037945</td>\n",
       "      <td>2023-12-18T00:00:00.000Z</td>\n",
       "      <td>16</td>\n",
       "      <td>108</td>\n",
       "      <td>4</td>\n",
       "      <td>False</td>\n",
       "      <td>2023</td>\n",
       "      <td>Final</td>\n",
       "      <td>Final</td>\n",
       "      <td>18</td>\n",
       "      <td>112</td>\n",
       "      <td>56677851</td>\n",
       "      <td>Jaylen</td>\n",
       "      <td>NaN</td>\n",
       "      <td>NaN</td>\n",
       "      <td>Clark</td>\n",
       "      <td>G</td>\n",
       "      <td>18</td>\n",
       "      <td>NaN</td>\n",
       "      <td>18</td>\n",
       "      <td>MIN</td>\n",
       "      <td>Minnesota</td>\n",
       "      <td>West</td>\n",
       "      <td>Northwest</td>\n",
       "      <td>Minnesota Timberwolves</td>\n",
       "      <td>Timberwolves</td>\n",
       "    </tr>\n",
       "    <tr>\n",
       "      <th>64</th>\n",
       "      <td>14174043</td>\n",
       "      <td>0</td>\n",
       "      <td>0</td>\n",
       "      <td>0</td>\n",
       "      <td>0.0</td>\n",
       "      <td>0</td>\n",
       "      <td>0</td>\n",
       "      <td>0.0</td>\n",
       "      <td>0</td>\n",
       "      <td>0</td>\n",
       "      <td>0.0</td>\n",
       "      <td>0</td>\n",
       "      <td>0</td>\n",
       "      <td>{'id': 1037945, 'date': '2023-12-18T00:00:00.0...</td>\n",
       "      <td>00</td>\n",
       "      <td>0</td>\n",
       "      <td>0</td>\n",
       "      <td>{'id': 17896056, 'first_name': 'Luka', 'height...</td>\n",
       "      <td>0</td>\n",
       "      <td>0</td>\n",
       "      <td>0</td>\n",
       "      <td>{'id': 18, 'abbreviation': 'MIN', 'city': 'Min...</td>\n",
       "      <td>0</td>\n",
       "      <td>1037945</td>\n",
       "      <td>2023-12-18T00:00:00.000Z</td>\n",
       "      <td>16</td>\n",
       "      <td>108</td>\n",
       "      <td>4</td>\n",
       "      <td>False</td>\n",
       "      <td>2023</td>\n",
       "      <td>Final</td>\n",
       "      <td>Final</td>\n",
       "      <td>18</td>\n",
       "      <td>112</td>\n",
       "      <td>17896056</td>\n",
       "      <td>Luka</td>\n",
       "      <td>NaN</td>\n",
       "      <td>NaN</td>\n",
       "      <td>Garza</td>\n",
       "      <td>C</td>\n",
       "      <td>18</td>\n",
       "      <td>NaN</td>\n",
       "      <td>18</td>\n",
       "      <td>MIN</td>\n",
       "      <td>Minnesota</td>\n",
       "      <td>West</td>\n",
       "      <td>Northwest</td>\n",
       "      <td>Minnesota Timberwolves</td>\n",
       "      <td>Timberwolves</td>\n",
       "    </tr>\n",
       "    <tr>\n",
       "      <th>65</th>\n",
       "      <td>14174044</td>\n",
       "      <td>0</td>\n",
       "      <td>0</td>\n",
       "      <td>0</td>\n",
       "      <td>0.0</td>\n",
       "      <td>0</td>\n",
       "      <td>0</td>\n",
       "      <td>0.0</td>\n",
       "      <td>0</td>\n",
       "      <td>0</td>\n",
       "      <td>0.0</td>\n",
       "      <td>0</td>\n",
       "      <td>0</td>\n",
       "      <td>{'id': 1037945, 'date': '2023-12-18T00:00:00.0...</td>\n",
       "      <td>00</td>\n",
       "      <td>0</td>\n",
       "      <td>0</td>\n",
       "      <td>{'id': 56677782, 'first_name': 'Leonard', 'hei...</td>\n",
       "      <td>0</td>\n",
       "      <td>0</td>\n",
       "      <td>0</td>\n",
       "      <td>{'id': 18, 'abbreviation': 'MIN', 'city': 'Min...</td>\n",
       "      <td>0</td>\n",
       "      <td>1037945</td>\n",
       "      <td>2023-12-18T00:00:00.000Z</td>\n",
       "      <td>16</td>\n",
       "      <td>108</td>\n",
       "      <td>4</td>\n",
       "      <td>False</td>\n",
       "      <td>2023</td>\n",
       "      <td>Final</td>\n",
       "      <td>Final</td>\n",
       "      <td>18</td>\n",
       "      <td>112</td>\n",
       "      <td>56677782</td>\n",
       "      <td>Leonard</td>\n",
       "      <td>NaN</td>\n",
       "      <td>NaN</td>\n",
       "      <td>Miller</td>\n",
       "      <td>F</td>\n",
       "      <td>18</td>\n",
       "      <td>NaN</td>\n",
       "      <td>18</td>\n",
       "      <td>MIN</td>\n",
       "      <td>Minnesota</td>\n",
       "      <td>West</td>\n",
       "      <td>Northwest</td>\n",
       "      <td>Minnesota Timberwolves</td>\n",
       "      <td>Timberwolves</td>\n",
       "    </tr>\n",
       "    <tr>\n",
       "      <th>66</th>\n",
       "      <td>14174045</td>\n",
       "      <td>0</td>\n",
       "      <td>0</td>\n",
       "      <td>0</td>\n",
       "      <td>0.0</td>\n",
       "      <td>0</td>\n",
       "      <td>0</td>\n",
       "      <td>0.0</td>\n",
       "      <td>0</td>\n",
       "      <td>0</td>\n",
       "      <td>0.0</td>\n",
       "      <td>0</td>\n",
       "      <td>0</td>\n",
       "      <td>{'id': 1037945, 'date': '2023-12-18T00:00:00.0...</td>\n",
       "      <td>00</td>\n",
       "      <td>0</td>\n",
       "      <td>0</td>\n",
       "      <td>{'id': 17895968, 'first_name': 'Daishen', 'hei...</td>\n",
       "      <td>0</td>\n",
       "      <td>0</td>\n",
       "      <td>0</td>\n",
       "      <td>{'id': 18, 'abbreviation': 'MIN', 'city': 'Min...</td>\n",
       "      <td>0</td>\n",
       "      <td>1037945</td>\n",
       "      <td>2023-12-18T00:00:00.000Z</td>\n",
       "      <td>16</td>\n",
       "      <td>108</td>\n",
       "      <td>4</td>\n",
       "      <td>False</td>\n",
       "      <td>2023</td>\n",
       "      <td>Final</td>\n",
       "      <td>Final</td>\n",
       "      <td>18</td>\n",
       "      <td>112</td>\n",
       "      <td>17895968</td>\n",
       "      <td>Daishen</td>\n",
       "      <td>NaN</td>\n",
       "      <td>NaN</td>\n",
       "      <td>Nix</td>\n",
       "      <td>F</td>\n",
       "      <td>18</td>\n",
       "      <td>NaN</td>\n",
       "      <td>18</td>\n",
       "      <td>MIN</td>\n",
       "      <td>Minnesota</td>\n",
       "      <td>West</td>\n",
       "      <td>Northwest</td>\n",
       "      <td>Minnesota Timberwolves</td>\n",
       "      <td>Timberwolves</td>\n",
       "    </tr>\n",
       "  </tbody>\n",
       "</table>\n",
       "</div>"
      ],
      "text/plain": [
       "          id  ast  blk  dreb  fg3_pct  fg3a  fg3m  fg_pct  fga  fgm  ft_pct  \\\n",
       "62  14174040    0    0     0      0.0     0     0     0.0    0    0     0.0   \n",
       "63  14174042    0    0     0      0.0     0     0     0.0    0    0     0.0   \n",
       "64  14174043    0    0     0      0.0     0     0     0.0    0    0     0.0   \n",
       "65  14174044    0    0     0      0.0     0     0     0.0    0    0     0.0   \n",
       "66  14174045    0    0     0      0.0     0     0     0.0    0    0     0.0   \n",
       "\n",
       "    fta  ftm                                               game min  oreb  pf  \\\n",
       "62    0    0  {'id': 1037945, 'date': '2023-12-18T00:00:00.0...  00     0   0   \n",
       "63    0    0  {'id': 1037945, 'date': '2023-12-18T00:00:00.0...  00     0   0   \n",
       "64    0    0  {'id': 1037945, 'date': '2023-12-18T00:00:00.0...  00     0   0   \n",
       "65    0    0  {'id': 1037945, 'date': '2023-12-18T00:00:00.0...  00     0   0   \n",
       "66    0    0  {'id': 1037945, 'date': '2023-12-18T00:00:00.0...  00     0   0   \n",
       "\n",
       "                                               player  pts  reb  stl  \\\n",
       "62  {'id': 38017700, 'first_name': 'Wendell', 'hei...    0    0    0   \n",
       "63  {'id': 56677851, 'first_name': 'Jaylen', 'heig...    0    0    0   \n",
       "64  {'id': 17896056, 'first_name': 'Luka', 'height...    0    0    0   \n",
       "65  {'id': 56677782, 'first_name': 'Leonard', 'hei...    0    0    0   \n",
       "66  {'id': 17895968, 'first_name': 'Daishen', 'hei...    0    0    0   \n",
       "\n",
       "                                                 team  turnover  game_id  \\\n",
       "62  {'id': 18, 'abbreviation': 'MIN', 'city': 'Min...         0  1037945   \n",
       "63  {'id': 18, 'abbreviation': 'MIN', 'city': 'Min...         0  1037945   \n",
       "64  {'id': 18, 'abbreviation': 'MIN', 'city': 'Min...         0  1037945   \n",
       "65  {'id': 18, 'abbreviation': 'MIN', 'city': 'Min...         0  1037945   \n",
       "66  {'id': 18, 'abbreviation': 'MIN', 'city': 'Min...         0  1037945   \n",
       "\n",
       "                   game_date  game_home_team_id  game_home_team_score  \\\n",
       "62  2023-12-18T00:00:00.000Z                 16                   108   \n",
       "63  2023-12-18T00:00:00.000Z                 16                   108   \n",
       "64  2023-12-18T00:00:00.000Z                 16                   108   \n",
       "65  2023-12-18T00:00:00.000Z                 16                   108   \n",
       "66  2023-12-18T00:00:00.000Z                 16                   108   \n",
       "\n",
       "    game_period  game_postseason  game_season game_status game_time  \\\n",
       "62            4            False         2023       Final     Final   \n",
       "63            4            False         2023       Final     Final   \n",
       "64            4            False         2023       Final     Final   \n",
       "65            4            False         2023       Final     Final   \n",
       "66            4            False         2023       Final     Final   \n",
       "\n",
       "    game_visitor_team_id  game_visitor_team_score  player_id  \\\n",
       "62                    18                      112   38017700   \n",
       "63                    18                      112   56677851   \n",
       "64                    18                      112   17896056   \n",
       "65                    18                      112   56677782   \n",
       "66                    18                      112   17895968   \n",
       "\n",
       "   player_first_name  player_height_feet  player_height_inches  \\\n",
       "62           Wendell                 NaN                   NaN   \n",
       "63            Jaylen                 NaN                   NaN   \n",
       "64              Luka                 NaN                   NaN   \n",
       "65           Leonard                 NaN                   NaN   \n",
       "66           Daishen                 NaN                   NaN   \n",
       "\n",
       "   player_last_name player_position  player_team_id  player_weight_pounds  \\\n",
       "62        Moore Jr.               G              18                   NaN   \n",
       "63            Clark               G              18                   NaN   \n",
       "64            Garza               C              18                   NaN   \n",
       "65           Miller               F              18                   NaN   \n",
       "66              Nix               F              18                   NaN   \n",
       "\n",
       "    team_id team_abbreviation  team_city team_conference team_division  \\\n",
       "62       18               MIN  Minnesota            West     Northwest   \n",
       "63       18               MIN  Minnesota            West     Northwest   \n",
       "64       18               MIN  Minnesota            West     Northwest   \n",
       "65       18               MIN  Minnesota            West     Northwest   \n",
       "66       18               MIN  Minnesota            West     Northwest   \n",
       "\n",
       "            team_full_name     team_name  \n",
       "62  Minnesota Timberwolves  Timberwolves  \n",
       "63  Minnesota Timberwolves  Timberwolves  \n",
       "64  Minnesota Timberwolves  Timberwolves  \n",
       "65  Minnesota Timberwolves  Timberwolves  \n",
       "66  Minnesota Timberwolves  Timberwolves  "
      ]
     },
     "execution_count": 38,
     "metadata": {},
     "output_type": "execute_result"
    }
   ],
   "source": [
    "all_data.tail()"
   ]
  },
  {
   "cell_type": "code",
   "execution_count": null,
   "id": "d04c4cb1",
   "metadata": {},
   "outputs": [],
   "source": []
  },
  {
   "cell_type": "code",
   "execution_count": null,
   "id": "28d3620a",
   "metadata": {},
   "outputs": [],
   "source": [
    "data"
   ]
  },
  {
   "cell_type": "code",
   "execution_count": null,
   "id": "bf5a88f1",
   "metadata": {},
   "outputs": [],
   "source": []
  },
  {
   "cell_type": "code",
   "execution_count": null,
   "id": "70087982",
   "metadata": {},
   "outputs": [],
   "source": [
    "test = pd.DataFrame().from_dict(req_json['data'])"
   ]
  },
  {
   "cell_type": "code",
   "execution_count": null,
   "id": "f45a5a89",
   "metadata": {},
   "outputs": [],
   "source": [
    "data.dropna(subset=['player'],\n",
    "           inplace = True)"
   ]
  },
  {
   "cell_type": "code",
   "execution_count": null,
   "id": "3cac19d5",
   "metadata": {},
   "outputs": [],
   "source": [
    "test_df = pd.DataFrame(data['player'].to_list())"
   ]
  },
  {
   "cell_type": "code",
   "execution_count": null,
   "id": "7266c5ec",
   "metadata": {},
   "outputs": [],
   "source": [
    "test_df[test_df['first_name'].isna()]"
   ]
  },
  {
   "cell_type": "markdown",
   "id": "e5126180",
   "metadata": {},
   "source": [
    "# Clean Data"
   ]
  },
  {
   "cell_type": "code",
   "execution_count": null,
   "id": "d9632a22",
   "metadata": {},
   "outputs": [],
   "source": [
    "final_data = pd.concat([all_data_local,\n",
    "                       all_data],\n",
    "                      ignore_index = True)"
   ]
  },
  {
   "cell_type": "code",
   "execution_count": null,
   "id": "f89fe846",
   "metadata": {},
   "outputs": [],
   "source": []
  },
  {
   "cell_type": "markdown",
   "id": "48092ca3",
   "metadata": {},
   "source": [
    "## Label Pre-season Games\n",
    "It appears pre-season games are present in the data.\n",
    "Need to flag and remove from data as these games are typically non-competitive"
   ]
  },
  {
   "cell_type": "code",
   "execution_count": null,
   "id": "00398070",
   "metadata": {},
   "outputs": [],
   "source": [
    "# convert 'game_date' into datetime\n",
    "all_data['game_date'] = pd.to_datetime(all_data['game_date'])"
   ]
  },
  {
   "cell_type": "code",
   "execution_count": null,
   "id": "6bdee4ce",
   "metadata": {},
   "outputs": [],
   "source": [
    "all_data.loc[((all_data['game_date'].dt.date >= datetime.strptime('2021-10-19','%Y-%m-%d').date())\n",
    "              & (all_data['game_date'].dt.date <= datetime.strptime('2022-04-10','%Y-%m-%d').date()))\n",
    "            | ((all_data['game_date'].dt.date >= datetime.strptime('2022-10-18','%Y-%m-%d').date())\n",
    "               & (all_data['game_date'].dt.date <= datetime.strptime('2023-04-09','%Y-%m-%d').date()))\n",
    "            | ((all_data['game_date'].dt.date >= datetime.strptime('2023-10-24','%Y-%m-%d').date())),\n",
    "            'game_preseason'] = 'N'"
   ]
  },
  {
   "cell_type": "code",
   "execution_count": null,
   "id": "628de4c6",
   "metadata": {},
   "outputs": [],
   "source": [
    "all_data['game_preseason'].fillna('Y',\n",
    "                                 inplace = True)"
   ]
  },
  {
   "cell_type": "code",
   "execution_count": null,
   "id": "0c1e0590",
   "metadata": {},
   "outputs": [],
   "source": [
    "all_data.drop(all_data[all_data['game_preseason'] == 'Y'].index,\n",
    "             inplace = True)"
   ]
  },
  {
   "cell_type": "markdown",
   "id": "0f4c3a3b",
   "metadata": {},
   "source": [
    "## Ensure all data has been gathered"
   ]
  },
  {
   "cell_type": "code",
   "execution_count": null,
   "id": "64dc1d7f",
   "metadata": {},
   "outputs": [],
   "source": [
    "all_data['game_id'] = all_data['game_id'].astype(int)\n",
    "all_data['team_id'] = all_data['team_id'].astype(int)"
   ]
  },
  {
   "cell_type": "code",
   "execution_count": null,
   "id": "3cf9a6db",
   "metadata": {},
   "outputs": [],
   "source": [
    "# Each game should have 2 teams\n",
    "teams_per_game = all_data.groupby('game_id')[['team_abbreviation']].nunique()\n",
    "\n",
    "missing_data_games = teams_per_game[teams_per_game['team_abbreviation'] != 2].index"
   ]
  },
  {
   "cell_type": "code",
   "execution_count": null,
   "id": "c1adfe63",
   "metadata": {},
   "outputs": [],
   "source": [
    "missing_data_games"
   ]
  },
  {
   "cell_type": "code",
   "execution_count": null,
   "id": "c14d73ba",
   "metadata": {},
   "outputs": [],
   "source": [
    "teams_per_game[teams_per_game['team_abbreviation'] != 2]"
   ]
  },
  {
   "cell_type": "code",
   "execution_count": null,
   "id": "ee2bd9b7",
   "metadata": {},
   "outputs": [],
   "source": [
    "all_data[all_data['game_id'] == 473442]"
   ]
  },
  {
   "cell_type": "code",
   "execution_count": null,
   "id": "573f5881",
   "metadata": {},
   "outputs": [],
   "source": [
    "all_data = pd.DataFrame()\n",
    "\n",
    "for i in missing_data_games:\n",
    "    get_req = 'https://balldontlie.io/api/v1/stats?per_page=%s&game_ids[]=%s' %(per_page,\n",
    "                                                                                str(i))\n",
    "    \n",
    "    req = requests\\\n",
    "        .get(get_req)\n",
    "    \n",
    "    req_status_code = req.status_code\n",
    "    \n",
    "    if req_status_code == 200:\n",
    "        req_json = req.json()    \n",
    "        \n",
    "        data = req_json['data']\n",
    "        \n",
    "        all_data = pd.concat([all_data,\n",
    "                              pd.DataFrame().from_dict(data)\n",
    "                             ]\n",
    "                            )"
   ]
  },
  {
   "cell_type": "code",
   "execution_count": null,
   "id": "680d71fd",
   "metadata": {},
   "outputs": [],
   "source": []
  },
  {
   "cell_type": "code",
   "execution_count": null,
   "id": "86269ff1",
   "metadata": {},
   "outputs": [],
   "source": [
    "# combine first and last name of players\n",
    "all_data['player_full_name'] = all_data['player_first_name'] + ' ' + all_data['player_last_name']"
   ]
  },
  {
   "cell_type": "code",
   "execution_count": null,
   "id": "fd1b97a6",
   "metadata": {},
   "outputs": [],
   "source": [
    "# Drop duplicate rows\n",
    "## May have arisen due to pulling too many pages\n",
    "all_data.drop_duplicates(inplace = True)"
   ]
  },
  {
   "cell_type": "markdown",
   "id": "e3311951",
   "metadata": {},
   "source": [
    "## Player Positions\n",
    "### Investigate blank player positions"
   ]
  },
  {
   "cell_type": "code",
   "execution_count": null,
   "id": "ecb80ab4",
   "metadata": {},
   "outputs": [],
   "source": [
    "all_data[all_data['player_position'].isna()]['player_full_name'].unique()"
   ]
  },
  {
   "cell_type": "markdown",
   "id": "16128e32",
   "metadata": {},
   "source": [
    "Do players with blank positions have positions in other games\n"
   ]
  },
  {
   "cell_type": "code",
   "execution_count": null,
   "id": "c22c947a",
   "metadata": {},
   "outputs": [],
   "source": [
    "blank_pos_player_map = all_data[(all_data['player_full_name'].isin(all_data[all_data['player_position'] == '']['player_full_name'].unique()))\n",
    "                                & (all_data['player_position'] != '')]\\\n",
    "                        [['player_full_name','player_position']]\\\n",
    "                        .drop_duplicates()\\\n",
    "                        .set_index('player_full_name')\\\n",
    "                        .to_dict()\\\n",
    "                        ['player_position']"
   ]
  },
  {
   "cell_type": "markdown",
   "id": "184c717f",
   "metadata": {},
   "source": [
    "Only 3 players have position values. Use them to fill blank values"
   ]
  },
  {
   "cell_type": "code",
   "execution_count": null,
   "id": "53b5998e",
   "metadata": {},
   "outputs": [],
   "source": [
    "all_data['player_position'].replace('',np.nan,\n",
    "                                   inplace = True)"
   ]
  },
  {
   "cell_type": "code",
   "execution_count": null,
   "id": "c0713850",
   "metadata": {},
   "outputs": [],
   "source": [
    "all_data['player_position'].fillna(all_data['player_full_name'].map(blank_pos_player_map),\n",
    "                                  inplace = True)"
   ]
  },
  {
   "cell_type": "markdown",
   "id": "3fe145b9",
   "metadata": {},
   "source": [
    "Confirm mapping worked"
   ]
  },
  {
   "cell_type": "code",
   "execution_count": null,
   "id": "236938e7",
   "metadata": {},
   "outputs": [],
   "source": [
    "all_data[all_data['player_full_name'].isin(list(blank_pos_player_map.keys()))][['player_full_name','player_position']].drop_duplicates()"
   ]
  },
  {
   "cell_type": "markdown",
   "id": "5718fbe5",
   "metadata": {},
   "source": [
    "Which player remain without a position?"
   ]
  },
  {
   "cell_type": "code",
   "execution_count": null,
   "id": "203dea9e",
   "metadata": {},
   "outputs": [],
   "source": [
    "all_data[all_data['player_position'].isna()]['player_full_name'].unique()"
   ]
  },
  {
   "cell_type": "markdown",
   "id": "531e6b20",
   "metadata": {},
   "source": [
    "### Reversible Positions"
   ]
  },
  {
   "cell_type": "code",
   "execution_count": null,
   "id": "2eae859c",
   "metadata": {},
   "outputs": [],
   "source": [
    "all_data['player_position'].unique()"
   ]
  },
  {
   "cell_type": "markdown",
   "id": "48cfd20c",
   "metadata": {},
   "source": [
    "Dual positions, like 'G-F', are reversible."
   ]
  },
  {
   "cell_type": "code",
   "execution_count": null,
   "id": "d87ffa7f",
   "metadata": {},
   "outputs": [],
   "source": [
    "all_data['player_position'].replace({'F-G':'G-F',\n",
    "                                    'C-F':'F-C',\n",
    "                                    np.nan:'UNK'},\n",
    "                                   inplace = True)"
   ]
  },
  {
   "cell_type": "code",
   "execution_count": null,
   "id": "2dd1b5c9",
   "metadata": {},
   "outputs": [],
   "source": [
    "all_data['player_position'].unique()"
   ]
  },
  {
   "cell_type": "markdown",
   "id": "8051ad83",
   "metadata": {},
   "source": [
    "## Input Opponent fields\n",
    "\n",
    "Use 'game_home_team_id', 'game_visitor_team_id', and team_id fields to determine who the opponents per player was"
   ]
  },
  {
   "cell_type": "code",
   "execution_count": null,
   "id": "f997dee5",
   "metadata": {},
   "outputs": [],
   "source": [
    "team_by_id = all_data.groupby('team_id')\\\n",
    "                [['team_abbreviation','team_city',\n",
    "                  'team_conference','team_division']]\\\n",
    "                .first()"
   ]
  },
  {
   "cell_type": "code",
   "execution_count": null,
   "id": "8cd24e05",
   "metadata": {},
   "outputs": [],
   "source": [
    "# Create 'opponent_team_id' field by summing 'game_home_team_id' and 'game_visitor_team_id' and subtracting the team_id\n",
    "all_data['opponent_team_id'] = all_data[['game_home_team_id','game_visitor_team_id']].sum(axis = 1) - all_data['team_id']"
   ]
  },
  {
   "cell_type": "code",
   "execution_count": null,
   "id": "1569e7b1",
   "metadata": {},
   "outputs": [],
   "source": [
    "team_stats_by_game = all_data.groupby(['game_season',\n",
    "                                       'game_id',\n",
    "                                       'team_abbreviation',\n",
    "                                       'player_position'])\\\n",
    "                        [['fga','fgm','fta','ftm','fg3a','fg3m','dreb','oreb','reb','ast','stl','blk','turnover','pf','pts']]\\\n",
    "                        .sum()\\\n",
    "                        .reset_index()"
   ]
  },
  {
   "cell_type": "code",
   "execution_count": null,
   "id": "828a9104",
   "metadata": {},
   "outputs": [],
   "source": [
    "team_stats_by_game[team_stats_by_game['game_id'] == 473409]"
   ]
  },
  {
   "cell_type": "code",
   "execution_count": null,
   "id": "97298a44",
   "metadata": {},
   "outputs": [],
   "source": []
  },
  {
   "cell_type": "code",
   "execution_count": null,
   "id": "6427e4e9",
   "metadata": {},
   "outputs": [],
   "source": []
  },
  {
   "cell_type": "code",
   "execution_count": 39,
   "id": "2d94575f",
   "metadata": {},
   "outputs": [],
   "source": [
    "# save data locally to avoid pulling from API\n",
    "all_data.to_csv('./Data/api_extract_all_data.csv',\n",
    "               index = False)"
   ]
  },
  {
   "cell_type": "code",
   "execution_count": null,
   "id": "b596a7d0",
   "metadata": {},
   "outputs": [],
   "source": []
  },
  {
   "cell_type": "markdown",
   "id": "f1d61dfc",
   "metadata": {},
   "source": [
    "# Read from CSV"
   ]
  },
  {
   "cell_type": "code",
   "execution_count": null,
   "id": "8b8269a2",
   "metadata": {},
   "outputs": [],
   "source": [
    "# save data locally to avoid pulling from API\n",
    "all_data_local = pd.read_csv('./Data/api_extract_all_data.csv',\n",
    "                       header = 0)\\\n",
    "                    .drop_duplicates()"
   ]
  },
  {
   "cell_type": "code",
   "execution_count": null,
   "id": "0e40b3e0",
   "metadata": {},
   "outputs": [],
   "source": []
  },
  {
   "cell_type": "code",
   "execution_count": null,
   "id": "0ada7fce",
   "metadata": {},
   "outputs": [],
   "source": [
    "combined = pd.concat([all_data,\n",
    "                     all_data_local,\n",
    "                     combined])"
   ]
  },
  {
   "cell_type": "code",
   "execution_count": null,
   "id": "48974b4f",
   "metadata": {},
   "outputs": [],
   "source": [
    "len(combined.drop_duplicates())"
   ]
  },
  {
   "cell_type": "code",
   "execution_count": null,
   "id": "b6e363a6",
   "metadata": {},
   "outputs": [],
   "source": [
    "len(all_data_local)"
   ]
  },
  {
   "cell_type": "code",
   "execution_count": null,
   "id": "eb107203",
   "metadata": {},
   "outputs": [],
   "source": [
    "combined"
   ]
  },
  {
   "cell_type": "code",
   "execution_count": null,
   "id": "479f29fd",
   "metadata": {},
   "outputs": [],
   "source": [
    "games_per_season_by_team = all_data_local.groupby(['game_season','team_abbreviation'])[['game_id']].nunique()"
   ]
  },
  {
   "cell_type": "code",
   "execution_count": null,
   "id": "c2907a43",
   "metadata": {},
   "outputs": [],
   "source": [
    "games_per_season_by_team[games_per_season_by_team['game_id'] != 82]"
   ]
  },
  {
   "cell_type": "code",
   "execution_count": null,
   "id": "e3f61c00",
   "metadata": {},
   "outputs": [],
   "source": []
  },
  {
   "cell_type": "markdown",
   "id": "3b130f94",
   "metadata": {},
   "source": [
    "# Analysis"
   ]
  },
  {
   "cell_type": "code",
   "execution_count": null,
   "id": "abb2a16b",
   "metadata": {},
   "outputs": [],
   "source": [
    "team_by_id = all_data_local.groupby('team_id')\\\n",
    "                [['team_abbreviation','team_city',\n",
    "                  'team_conference','team_division']]\\\n",
    "                .first()"
   ]
  },
  {
   "cell_type": "code",
   "execution_count": null,
   "id": "fd2c92ff",
   "metadata": {},
   "outputs": [],
   "source": []
  },
  {
   "cell_type": "code",
   "execution_count": null,
   "id": "a11de54b",
   "metadata": {},
   "outputs": [],
   "source": [
    "season_team_position_by_game = all_data_local.groupby(['game_season',\n",
    "                                                         'team_id',\n",
    "                                                         'player_position',\n",
    "                                                        'game_id'])\\\n",
    "                                    [['fga','fgm','fta','ftm','fg3a','fg3m',\n",
    "                                      'dreb','oreb','reb','ast','stl','blk',\n",
    "                                      'turnover','pf','pts']]\\\n",
    "                                    .sum()\\\n",
    "                                    .reset_index()"
   ]
  },
  {
   "cell_type": "code",
   "execution_count": null,
   "id": "7234c883",
   "metadata": {},
   "outputs": [],
   "source": [
    "season_opp_position_by_game = all_data_local.groupby(['game_season',\n",
    "                                                         'opponent_team_id',\n",
    "                                                         'player_position',\n",
    "                                                        'game_id'])\\\n",
    "                                    [['fga','fgm','fta','ftm','fg3a','fg3m',\n",
    "                                      'dreb','oreb','reb','ast','stl','blk',\n",
    "                                      'turnover','pf','pts']]\\\n",
    "                                    .sum()\\\n",
    "                                    .reset_index()"
   ]
  },
  {
   "cell_type": "code",
   "execution_count": null,
   "id": "a40d578a",
   "metadata": {},
   "outputs": [],
   "source": []
  },
  {
   "cell_type": "code",
   "execution_count": null,
   "id": "19e2e4c5",
   "metadata": {},
   "outputs": [],
   "source": []
  },
  {
   "cell_type": "code",
   "execution_count": null,
   "id": "40b57f4e",
   "metadata": {},
   "outputs": [],
   "source": [
    "# Get number of games each team faced a position\n",
    "season_opp_games_by_pos = season_opp_position_by_game.groupby(['game_season',\n",
    "                                                              'player_position',\n",
    "                                                              'opponent_team_id'])\\\n",
    "                            [['game_id']]\\\n",
    "                            .nunique()\n",
    "\n",
    "# Get avg stats by position per team\n",
    "season_opp_stats_by_pos = season_opp_position_by_game.groupby(['game_season',\n",
    "                                                               'player_position',\n",
    "                                                               'opponent_team_id'])\\\n",
    "                                    [['fga','fgm','fta','ftm','fg3a','fg3m',\n",
    "                                      'dreb','oreb','reb','ast','stl','blk',\n",
    "                                      'turnover','pf','pts']]\\\n",
    "                                    .agg(['mean','std'])\n",
    "\n",
    "season_opp_stats_by_pos.columns = ['_'.join(i) for i in season_opp_stats_by_pos.columns]\n",
    "\n",
    "# Combine games per position per team and avg stats per position per team\n",
    "season_opp_position_stats = pd.merge(season_opp_games_by_pos,\n",
    "                                         season_opp_stats_by_pos,\n",
    "                                         how = 'outer',\n",
    "                                         left_index = True,\n",
    "                                         right_index = True)\\\n",
    "                                .reset_index()"
   ]
  },
  {
   "cell_type": "code",
   "execution_count": null,
   "id": "5eced029",
   "metadata": {},
   "outputs": [],
   "source": []
  },
  {
   "cell_type": "code",
   "execution_count": null,
   "id": "92e7b213",
   "metadata": {},
   "outputs": [],
   "source": [
    "# Represents opponent_team_id defensive ability by position\n",
    "season_opp_position_stats"
   ]
  },
  {
   "cell_type": "code",
   "execution_count": null,
   "id": "9c7d89f2",
   "metadata": {},
   "outputs": [],
   "source": []
  },
  {
   "cell_type": "code",
   "execution_count": null,
   "id": "937623f7",
   "metadata": {},
   "outputs": [],
   "source": [
    "# Get number of games each team faced a position\n",
    "season_team_games_by_pos = season_team_position_by_game.groupby(['game_season',\n",
    "                                                              'player_position',\n",
    "                                                              'team_id'])\\\n",
    "                            [['game_id']]\\\n",
    "                            .nunique()\n",
    "\n",
    "# Get avg stats by position per team\n",
    "season_team_stats_by_pos = season_team_position_by_game.groupby(['game_season',\n",
    "                                                               'player_position',\n",
    "                                                               'team_id'])\\\n",
    "                                    [['fg3m','reb','ast','stl','blk',\n",
    "                                      'turnover','pf','pts']]\\\n",
    "                                    .agg(['mean','std'])\n",
    "\n",
    "season_team_stats_by_pos.columns = ['_'.join(i) for i in season_team_stats_by_pos.columns]\n",
    "\n",
    "# Combine games per position per team and avg stats per position per team\n",
    "season_team_position_stats = pd.merge(season_team_games_by_pos,\n",
    "                                         season_team_stats_by_pos,\n",
    "                                         how = 'outer',\n",
    "                                         left_index = True,\n",
    "                                         right_index = True)\\\n",
    "                                .reset_index()"
   ]
  },
  {
   "cell_type": "code",
   "execution_count": null,
   "id": "f6bdb0a3",
   "metadata": {},
   "outputs": [],
   "source": [
    "season_league_games_by_position = season_team_position_by_game.groupby(['game_season',\n",
    "                                                                        'player_position'])\\\n",
    "                                    [['game_id']]\\\n",
    "                                    .nunique()\n",
    "\n",
    "season_league_counting_stats_by_position = season_team_position_by_game.groupby(['game_season',\n",
    "                                                                        'player_position'])\\\n",
    "                                    [['fg3m','reb','ast','stl','blk',\n",
    "                                      'turnover','pf','pts']]\\\n",
    "                                    .agg(['mean','std'])\n",
    "season_league_counting_stats_by_position.columns = ['_'.join(i) for i in season_league_counting_stats_by_position.columns]\n",
    "\n",
    "season_league_stats_by_position = pd.merge(season_league_games_by_position,\n",
    "                                          season_league_counting_stats_by_position,\n",
    "                                          how = 'outer',\n",
    "                                          left_index = True,\n",
    "                                          right_index = True)"
   ]
  },
  {
   "cell_type": "code",
   "execution_count": null,
   "id": "405ac9b4",
   "metadata": {},
   "outputs": [],
   "source": [
    "season_team_stats_by_pos[(season_team_stats_by_pos.index.get_level_values(1) == 'G')\n",
    "                        & (season_team_stats_by_pos.index.get_level_values(0) == 2021)]['pts_mean'].mean()"
   ]
  },
  {
   "cell_type": "code",
   "execution_count": null,
   "id": "6274f018",
   "metadata": {},
   "outputs": [],
   "source": [
    "season_league_stats_by_position"
   ]
  },
  {
   "cell_type": "code",
   "execution_count": null,
   "id": "44fdcd74",
   "metadata": {},
   "outputs": [],
   "source": []
  },
  {
   "cell_type": "code",
   "execution_count": null,
   "id": "6b685583",
   "metadata": {},
   "outputs": [],
   "source": [
    "# Represents opponent_team_id offensive ability by position\n",
    "season_team_position_stats[season_team_position_stats['team_id'] == 10]"
   ]
  },
  {
   "cell_type": "code",
   "execution_count": null,
   "id": "faf9a9dd",
   "metadata": {},
   "outputs": [],
   "source": []
  },
  {
   "cell_type": "code",
   "execution_count": null,
   "id": "f4115275",
   "metadata": {},
   "outputs": [],
   "source": []
  }
 ],
 "metadata": {
  "kernelspec": {
   "display_name": "Python 3",
   "language": "python",
   "name": "python3"
  },
  "language_info": {
   "codemirror_mode": {
    "name": "ipython",
    "version": 3
   },
   "file_extension": ".py",
   "mimetype": "text/x-python",
   "name": "python",
   "nbconvert_exporter": "python",
   "pygments_lexer": "ipython3",
   "version": "3.6.13"
  }
 },
 "nbformat": 4,
 "nbformat_minor": 5
}
