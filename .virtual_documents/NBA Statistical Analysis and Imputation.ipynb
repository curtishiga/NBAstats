import pandas as pd
import numpy as np
from datetime import datetime
#import pytz
import scipy
import requests
import warnings
import json
import matplotlib.pyplot as plt
import matplotlib.dates as mdates
import seaborn as sns

warnings.filterwarnings('ignore')
pd.set_option('display.max_columns',None)








def read_in_data():
    excel_path = '/'.join(['.','Data',
                          'NBA Stats_2021-2023_01292024.xlsx'])
    
    print('  Reading in games...')
    games = pd.read_excel(excel_path,
                         sheet_name = 'Games',
                         header = 0,
                         index_col = 'game_id',
                         parse_dates = ['game_date'],
                         engine='openpyxl')
    
    print('  Reading in players...')
    players = pd.read_excel(excel_path,
                         sheet_name = 'Players',
                         header = 0,
                           index_col = 'player_id',
                           engine='openpyxl')
    
    print('  Reading in teams...')
    teams = pd.read_excel(excel_path,
                         sheet_name = 'Teams',
                         header = 0,
                         index_col = 'team_id',
                         engine='openpyxl')
    
    print('  Reading in stats...')
    stats = pd.read_excel(excel_path,
                         sheet_name = 'Stats',
                         header = 0,
                         engine='openpyxl')

    
    # Clean stats data and add column for fantasy points
    # Convert 'min' to numeric and fill NaN with 0
    stats['min'] = pd.to_numeric(stats['min'],
                                 errors = 'coerce')\
                    .fillna(0)

    # Shorthand turnover column
    stats.rename(columns = {'turnover':'to'},
                inplace = True)

    # Fantasy points (PrizePicks)
    ## Points = 1
    ## Rebound = 1.2
    ## Assists = 1.5
    ## Block = 3
    ## Steals = 3
    ## Turnover = -1
    stats['fpts'] = stats['pts']\
                    + (1.2 * stats['reb'])\
                    + (1.5 * stats['ast'])\
                    + (3 * stats['blk'])\
                    + (3 * stats['stl'])\
                    + (-1 * stats['to'])
    
    return games, players, teams, stats


games, players, teams, stats = read_in_data()


games.head()


players.head()


stats.head()





# Merge date of games
stats_dates = pd.merge(stats,
                      games[['game_date']],
                      how = 'left',
                      left_on = 'game_id',
                      right_index = True)\
                .sort_values(['game_date','player_id'])


# Merge player positions
stats_dates_pos = pd.merge(stats_dates,
                           players[['player_position']],
                           how = 'left',
                           left_on = 'player_id',
                           right_index = True)








# Determine rolling_period on rolling metrics for entire analysis
rolling_period = 62    # Based on number of observations/games, not number of days

# rolling_period_days = '120D'    # Based on number of days, not number of observations/games


stat_cats = ['pts']


valid_cats = ['fga','fgm',
              'fta','ftm',
              'fg3a','fg3m',
              'oreb','dreb','reb',
              'pts','ast',
              'stl','blk',
              'pf','to']

invalid_cats = [cat for cat in stat_cats if cat not in valid_cats]

if len(invalid_cats) > 0:
    raise KeyError('Invalid statistical category provided')


cats_pergame_name_map = {cat:cat+'_pg' for cat in valid_cats}








stats_dates_pos.head()


def team_rolling_mean(group):
    group_indexed = group.set_index('game_date')
    
    rolling_group = group_indexed\
                    [stat_cats]\
                    .rolling(rolling_period,
                             min_periods = 1)\
                    .mean()\
                    .rename(columns = cats_pergame_name_map)
    
    return rolling_group





team_def_eff_pos = stats_dates_pos\
                        .groupby(['opponent_team_id','game_date','player_position'])\
                        [stat_cats]\
                        .sum()\
                        .reset_index()


team_stats_rolling_def_eff = team_def_eff_pos.groupby(['opponent_team_id','player_position'])\
                            .apply(team_rolling_mean)\
                            .reset_index()\
                            .rename(columns = {'opponent_team_id':'team_id'})

team_stats_rolling_def_eff.rename(columns = {value:'opp_'+value
                                             for key,value in cats_pergame_name_map.items()},
                                 inplace = True)





player_position = 'F'

fig = plt.figure(figsize = (20,20))
ax = plt.subplot(2,1,1)
sns.lineplot(data = team_stats_rolling_def_eff[team_stats_rolling_def_eff['player_position'] == player_position],
                  x = 'game_date',
                  y = 'opp_pts_pg',
                  hue = 'team_id',
                  palette = sns.color_palette(),
                  ci = None)
ax2 = sns.lineplot(data = team_stats_rolling_def_eff[team_stats_rolling_def_eff['player_position'] == player_position]\
                           .groupby('game_date')\
                           [['opp_pts_pg']]\
                           .mean()\
                           .reset_index(),
                  x = 'game_date',
                  y = 'opp_pts_pg',
                   color = 'red',
                  dashes = True)
plt.legend(loc = 'upper right')

ax = plt.subplot(2,1,2)
ax2 = sns.lineplot(data = team_stats_rolling_def_eff[team_stats_rolling_def_eff['player_position'] == player_position]\
                           .groupby('game_date')\
                           [['opp_pts_pg']]\
                           .std()\
                           .reset_index(),
                  x = 'game_date',
                  y = 'opp_pts_pg',
                   color = 'red',
                  dashes = True)

fig.show()











team_def_eff_resampled = team_stats_rolling_def_eff.set_index('game_date')\
                            .groupby(['team_id',
                                      'player_position'])\
                            .resample('1D')\
                            [['opp_pts_pg']]\
                            .ffill()\
                            .reset_index()


team_def_eff_ranked = team_def_eff_resampled.groupby(['game_date','player_position'])\
                        .apply(lambda x: x.set_index('team_id')
                                           [['opp_pts_pg']]\
                                           .rank(method = 'min',
                                                 na_option = 'bottom')\
                              )\
                        .reset_index()


team_def_eff_pos_mean = team_def_eff_ranked.groupby(['team_id','player_position'])[['opp_pts_pg']].mean().reset_index()
team_def_eff_pos_mean_pivoted = pd.pivot_table(team_def_eff_pos_mean,
                                               index = 'player_position',
                                               columns = 'team_id')


team_def_eff_pos_mean_pivoted


player_position = 'G-F'

fig = plt.figure(figsize = (20,10))
ax = sns.lineplot(data = team_def_eff_ranked[(team_def_eff_ranked['player_position'] == player_position)
                                              & (team_def_eff_ranked['team_id'] == 14)],
                  x = 'game_date',
                  y = 'opp_pts_pg',
                  hue = 'team_id',
                  palette = sns.color_palette(),
                  ci = None)
plt.legend(loc = 'upper right')
fig.show()














team_off_eff_pos = stats_dates_pos\
                        .groupby(['team_id','game_date','player_position'])\
                        [stat_cats]\
                        .sum()\
                        .reset_index()





team_stats_rolling_off_eff = team_off_eff_pos.groupby(['team_id','player_position'])\
                            .apply(team_rolling_mean)\
                            .reset_index()





team_eff_pos = pd.merge(team_stats_rolling_off_eff,
                        team_stats_rolling_def_eff,
                        how = 'outer',
                        left_on = ['team_id','game_date','player_position'],
                        right_on = ['team_id','game_date','player_position'])





def league_team_stats(group):
    '''
    Grouping function to get standard deviation of stat per36 for each player on a given date
    Need to account for offseason/days where there are no games
    '''
    team_stat_cats = ['_'.join([cat,'pg']) for cat in stat_cats]
    opp_stat_cats = ['_'.join(['opp',cat,'pg']) for cat in stat_cats]

    resample_stat_cats = team_stat_cats + opp_stat_cats
    
    # Sort by date and player prior to resampling
    group_sorted = group.sort_values(['game_date','team_id'])\
                        .set_index(['game_date'])
    
    # Resample data to daily by each player
    ## Forward fill blank values
    group_resampled = group_sorted.groupby('team_id')\
                        .resample('1D')\
                        [resample_stat_cats]\
                        .last()
    
    # Were games played on date
    ## Due to resample, dates in the off season were added
    ## Need to remove; will cause calculations over at the beginning of each season
    date_no_minutes = group_resampled.groupby(level = 1)\
                        .apply(lambda x: x.isna()\
                                           .all()
                              )
    
    # Drop dates with no games
    ## Includes in-season breaks
    date_no_games = date_no_minutes[(date_no_minutes == True).all(axis = 1)].index
    
    group_resampled.drop(index = date_no_games,
                        level = 1,
                        inplace = True)
    
    # Forward fill values by player
    final_group_resampled = group_resampled.groupby(level = [0])[resample_stat_cats].ffill()
    
    # Calculate the standard deviation of pts_per36 for all players by date
    final_rolling_stats = final_group_resampled.groupby(level = 1).agg(['mean',
                                                                        'std'])
    
    return final_rolling_stats





# Calculate teams offensive pts production by position per game
team_pos_off_total = stats_dates_pos.groupby(['game_date',
                                                  'player_position',
                                                  'team_id'])\
                            [stat_cats]\
                            .sum()\
                            .reset_index()\
                            .rename(columns = cats_pergame_name_map)

# Calculate teams defensive pts production by position per game
team_pos_def_total = stats_dates_pos.groupby(['game_date',
                                                  'player_position',
                                                  'opponent_team_id'])\
                            [stat_cats]\
                            .sum()\
                            .reset_index()\
                            .rename(columns = {'opponent_team_id':'team_id'})

team_pos_def_total.rename(columns = {key:'opp_'+value
                                         for key,value in cats_pergame_name_map.items()},
                             inplace = True)

# Merge teams offensive and defensive production by position
team_pos_eff_total = pd.merge(team_pos_off_total,
                               team_pos_def_total,
                               how = 'outer',
                               left_on = ['game_date','team_id','player_position'],
                               right_on = ['game_date','team_id','player_position'])


team_pos_rolling_eff = team_pos_eff_total\
                        .groupby('player_position')\
                        .apply(league_team_stats)





team_pos_rolling_eff.columns = ['_'.join(i) for i in team_pos_rolling_eff.columns]


team_pos_rolling_eff.reset_index(inplace = True)











player_stat_cats = stat_cats + ['min']


def player_rolling_sum(group):
    group_indexed = group.sort_values('game_date')\
                    .set_index('game_date')
    
    rolling_group = group_indexed\
                        [player_stat_cats]\
                       .rolling(rolling_period,
                                min_periods = 1)\
                       .sum()
    
    rolling_min_mean = group_indexed\
                        [['min']]\
                        .rolling(rolling_period,
                                 min_periods = 1)\
                        .mean()
    
    rolling_merged = pd.merge(rolling_min_mean,
                              rolling_group,
                              how = 'outer',
                              left_index = True,
                              right_index = True,
                             suffixes = ['_mean','_cumsum'])
    
    return rolling_merged


player_stats_rolling_eff = stats_dates.groupby('player_id')\
                            .apply(player_rolling_sum)


player_stats_rolling_eff





for cat in stat_cats:
    player_stats_rolling_eff[cat+'_per36'] = player_stats_rolling_eff[cat] * (36/player_stats_rolling_eff['min_cumsum'])


actual_eff_merged = pd.merge(stats_dates_pos[['game_date','player_id','player_position',
                                              'min'] + stat_cats],
                             player_stats_rolling_eff.reset_index()\
                                 .drop(stat_cats + ['min_cumsum'],
                                      axis = 1),
                             how = 'left',
                             left_on = ['player_id','game_date'],
                             right_on = ['player_id','game_date'])#\
                    #.sort_values(['player_id','game_date'])








per36_stat_cols = [i for i in actual_eff_merged.columns if ('_per36' in i)]





def league_player_pts_stats(group):
    '''
    Grouping function to get standard deviation of pts_per36 for each player on a given date
    Need to account for offseason/days where there are no games
    '''
    # Sort by date and player prior to resampling
    group_sorted = group.sort_values(['game_date','player_id'])\
                        .set_index(['game_date'])
    
    # Resample data to daily by each player
    ## Forward fill blank values
    group_resampled = group_sorted.groupby(['player_id',
                                           ])\
                        .resample('1D')\
                        [per36_stat_cols]\
                        .last()
    
    # Were games played on date
    ## Due to resample, dates in the off season were added
    ## Need to remove; will cause calculations over at the beginning of each season
    date_no_minutes = group_resampled.groupby(level = 1)\
                        .apply(lambda x: x.isna()\
                                           .all()
                              )
    
    # Drop dates with no games
    ## Includes in-season breaks
    date_no_games = date_no_minutes[(date_no_minutes[per36_stat_cols] == True).all(axis = 1)].index
    
    group_resampled.drop(index = date_no_games,
                        level = 1,
                        inplace = True)
    
    # Forward fill values by player
    final_group_resampled = group_resampled.groupby(level = [0])[per36_stat_cols].ffill()
    
    # Calculate the standard deviation of pts_per36 for all players by date
    final_rolling_stats = final_group_resampled.groupby(level = [1]).agg(['mean',
                                                                          'std'])
    final_rolling_stats.columns = ['_'.join(i) for i in final_rolling_stats.columns]
    
    return final_rolling_stats


league_player_rolling_stats = actual_eff_merged.groupby('player_position',
                                                       dropna = False)\
                                .apply(league_player_pts_stats)


league_player_rolling_stats





league_player_rolling_stats.reset_index(inplace = True)





team_eff_pos_shifted = team_eff_pos.groupby(['team_id','player_position'])\
                        .apply(lambda x: x.sort_values('game_date')\
                                           .set_index('game_date')\
                                           [[col for col in team_eff_pos.columns if col.endswith('_pg')]]\
                                           .shift(1))\
                        .reset_index()





team_pos_rolling_eff_shifted = team_pos_rolling_eff.groupby('player_position')\
                                .apply(lambda x: x.sort_values('game_date')\
                                                   .set_index('game_date')\
                                                   [[col for col in team_pos_rolling_eff.columns if '_pg_' in col]]\
                                                   .shift(1))\
                                .reset_index()





actual_eff_merged_shifted = actual_eff_merged.groupby(['player_id','player_position'])\
                                .apply(lambda x: x.sort_values('game_date')\
                                                   .set_index('game_date')\
                                                   [per36_stat_cols + ['min_mean']]\
                                                   .shift(1))\
                                .reset_index()





league_player_rolling_stats_shifted = league_player_rolling_stats.groupby('player_position')\
                                        .apply(lambda x: x.sort_values('game_date')\
                                                           .set_index('game_date')\
                                                           [[col for col in league_player_rolling_stats.columns if '_per36_' in col]]\
                                                           .shift(1))\
                                        .reset_index()








rolling_stats_teams = pd.merge(team_eff_pos_shifted.rename(columns = {col:'team_'+col
                                                                      for col in team_eff_pos_shifted.columns
                                                                      if col.endswith('_pg')}),
                               team_pos_rolling_eff_shifted.rename(columns = {col:'league_'+col
                                                                              for col in team_pos_rolling_eff_shifted.columns
                                                                              if '_pg_' in col}),
                               how = 'outer',
                               left_on = ['player_position','game_date'],
                               right_on = ['player_position','game_date'])\
                        .sort_values(['game_date','player_position','team_id'])





rolling_stats_players = pd.merge(actual_eff_merged_shifted.rename(columns = {**{'min_mean':'player_avg_min'},\
                                                                             **{col:'player_'+col for col in per36_stat_cols}
                                                                            }),
                                 league_player_rolling_stats_shifted.rename(columns = {col:'league_player_'+col
                                                                                       for col in league_player_rolling_stats_shifted
                                                                                       if '_per36_' in col}),
                                 how = 'outer',
                                 left_on = ['player_position','game_date'],
                                 right_on = ['player_position','game_date'])\
                        .sort_values(['game_date','player_position','player_id'])





# Table of relevant fields from original data
rel_stats = stats_dates_pos[['game_date',
                             'player_id','player_position',
                             'team_id','opponent_team_id',
                             'min']
                            + stat_cats]





rel_rolling_players = pd.merge(rel_stats,
                               rolling_stats_players,
                               how = 'outer',
                               left_on = ['game_date','player_id','player_position'],
                               right_on = ['game_date','player_id','player_position'])
                         





rolling_stats_teams


rel_rolling_team_off = pd.merge(rel_rolling_players,
                                rolling_stats_teams[['team_id','player_position','game_date']
                                                    + [col for col in rolling_stats_teams if (('_pg' in col)
                                                                                              & ('_opp_' not in col))]],
                                how = 'left',
                                left_on = ['game_date','team_id','player_position'],
                                right_on = ['game_date','team_id','player_position'])


rel_rolling_team_opp = pd.merge(rel_rolling_team_off,
                                rolling_stats_teams[['team_id','player_position','game_date']
                                                    + [col for col in rolling_stats_teams if (('_pg' in col)
                                                                                              & ('_opp_' in col))]]\
                                    .rename(columns = {col:'opponent_'+col
                                                       for col in rolling_stats_teams.columns
                                                       if ('team_opp_' in col)}),
                                how = 'left',
                                left_on = ['game_date','opponent_team_id','player_position'],
                                right_on = ['game_date','team_id','player_position'],
                               suffixes = ['','_y'])\
                        .drop('team_id_y',
                              axis = 1)





rolling_stats_teams





for cat in stat_cats:
    # Team Data Standardization
    rel_rolling_team_opp['team_'+cat+'_pg_stand'] = (rel_rolling_team_opp['team_'+cat+'_pg'] - rel_rolling_team_opp['league_'+cat+'_pg_mean'])/rel_rolling_team_opp['league_'+cat+'_pg_std']

    # Opponent Team Data Standardization
    rel_rolling_team_opp['opponent_team_'+cat+'_pg_stand'] = (rel_rolling_team_opp['opponent_team_'+cat+'_pg'] - rel_rolling_team_opp['league_opp_'+cat+'_pg_mean'])/rel_rolling_team_opp['league_opp_'+cat+'_pg_mean']
    
    # Player Data Standardization
    rel_rolling_team_opp['player_'+cat+'_per36_stand'] = (rel_rolling_team_opp['player_'+cat+'_per36'] - rel_rolling_team_opp['league_player_'+cat+'_per36_mean'])/rel_rolling_team_opp['league_player_'+cat+'_per36_std']











rel_rolling_team_opp[(rel_rolling_team_opp['game_date'] > '2021-12-01')
                        & (rel_rolling_team_opp['player_position'] != 'UNK')]['opp_def_ppg_stand'].max()


rel_rolling_team_opp[rel_rolling_team_opp['opp_def_ppg_stand'] == rel_rolling_team_opp[(rel_rolling_team_opp['game_date'] > '2021-12-01')
                        & (rel_rolling_team_opp['player_position'] != 'UNK')]['opp_def_ppg_stand'].max()]


rel_rolling_team_opp[(rel_rolling_team_opp['opponent_team_id'] == 2)
                        & (rel_rolling_team_opp['player_position'] == 'G-F')]\
    [['game_date','opp_def_ppg_stand']]\
    .drop_duplicates()








opponent_team_id = 6
opponent_team_name = teams[teams.index == opponent_team_id]['team_name'][opponent_team_id]
player_position = 'G-F'

fig = plt.figure(figsize = (20,10))
ax = sns.pointplot(data = rel_rolling_team_opp[(rel_rolling_team_opp['opponent_team_id'] == opponent_team_id)
                                               & (rel_rolling_team_opp['player_position'] == player_position)]\
                            [['game_date','opp_def_ppg_stand']]\
                            .drop_duplicates(),
                   x = 'game_date',
                   y = 'opp_def_ppg_stand',
                  ci = None)
ax.set_title('%s vs. %s' %(opponent_team_name, player_position))
ax.set_xlabel('Game Date')
ax.set_ylabel('Standard Deviation')

# xaxis_date_format = mdates.DateFormatter('%y-%m')
# plt.gca().xaxis.set_major_formatter(xaxis_date_format)

plt.xticks(rotation=90)
# fig.tight_layout()
fig.show()








team_id = 10
team_name = teams[teams.index == team_id]['team_name'][team_id]
player_position = 'G'

fig = plt.figure(figsize = (20,10))
ax = sns.pointplot(data = rel_rolling_team_opp[(rel_rolling_team_opp['team_id'] == team_id)
                                               & (rel_rolling_team_opp['player_position'] == player_position)]\
                            [['game_date','team_off_ppg_stand']]\
                            .drop_duplicates(),
                   x = 'game_date',
                   y = 'team_off_ppg_stand',
                  ci = None)
ax.set_title('%s %s vs. League' %(team_name, player_position))
ax.set_xlabel('Game Date')
ax.set_ylabel('Standard Deviation')

# xaxis_date_format = mdates.DateFormatter('%y-%m')
# plt.gca().xaxis.set_major_formatter(xaxis_date_format)

plt.xticks(rotation=90)
# fig.tight_layout()
fig.show()











rel_rolling_team_opp[rel_rolling_team_opp['player_id'] == 175]





player_id = 37

fig = plt.figure(figsize = [30,10])
ax = sns.pointplot(data = rel_rolling_team_opp[rel_rolling_team_opp['player_id'] == player_id],
                 x = 'game_date',
                 y = 'player_pts_per36_stand',
                ci = None # Confidence Interval
                )
ax.set_title(players[players.index == player_id]['player_full_name'][player_id])
ax.set_xlabel('Game Date')
ax.set_ylabel('Player Points per 36min Standard Dev')

xaxis_date_format = mdates.DateFormatter('%y-%m')
plt.gca().xaxis.set_major_formatter(xaxis_date_format)

plt.xticks(rotation=90)
# fig.tight_layout()
fig.show()








players[players['player_last_name'] == 'Beal']


teams[teams.index == 24]








excel_export_path = '/'.join(['.','Data',
                              'NBA Points Stats_2021-2023.xlsx'])

rel_rolling_team_opp.to_excel(excel_export_path,
                              sheet_name = 'Points',
                              index = False)

















pts_rel = pts_dummied[['game_date','team_id','opponent_team_id',
                    'player_id','player_avg_min',
                    'player_pos_G','player_pos_G-F',
                    'player_pos_F','player_pos_F-C',
                    'player_pos_C','player_pos_UNK',
                    'min','pts',
                    'player_pts_per36_stand',
                    'team_off_ppg_stand','opp_def_ppg_stand']]


pts_corr = pts_rel\
            .corr()

mask = np.zeros_like(pts_corr,
                     dtype = bool)

mask[np.triu_indices_from(mask)] = True
pts_corr[mask] = np.nan

pts_corr.style\
        .background_gradient(cmap = 'coolwarm',
                            axis = None,
                            vmin = -1,
                            vmax = 1)\
        .highlight_null('#f1f1f1')\
        .format(precision = 2)








pts_corr = pts_rel\
            [(pts_rel['player_position'] == 'G')]\
            [['pts','min',
              'player_pts_per36_stand',
              'team_off_ppg_stand','opp_def_ppg_stand']]\
            .corr()

mask = np.zeros_like(pts_corr,
                     dtype = bool)

mask[np.triu_indices_from(mask)] = True
pts_corr[mask] = np.nan

pts_corr.style\
        .background_gradient(cmap = 'coolwarm',
                            axis = None,
                            vmin = -1,
                            vmax = 1)\
        .highlight_null('#f1f1f1')\
        .format(precision = 2)








pts_corr = pts_rel\
            [(pts_rel['player_position'] == 'G-F')]\
            [['pts','min',
              'player_pts_per36_stand',
              'team_off_ppg_stand','opp_def_ppg_stand']]\
            .corr()

mask = np.zeros_like(pts_corr,
                     dtype = bool)

mask[np.triu_indices_from(mask)] = True
pts_corr[mask] = np.nan

pts_corr.style\
        .background_gradient(cmap = 'coolwarm',
                            axis = None,
                            vmin = -1,
                            vmax = 1)\
        .highlight_null('#f1f1f1')\
        .format(precision = 2)











pts_corr = pts_rel\
            [(pts_rel['player_position'] == 'F')]\
            [['pts','min',
              'player_pts_per36_stand',
              'team_off_ppg_stand','opp_def_ppg_stand']]\
            .corr()

mask = np.zeros_like(pts_corr,
                     dtype = bool)

mask[np.triu_indices_from(mask)] = True
pts_corr[mask] = np.nan

pts_corr.style\
        .background_gradient(cmap = 'coolwarm',
                            axis = None,
                            vmin = -1,
                            vmax = 1)\
        .highlight_null('#f1f1f1')\
        .format(precision = 2)











pts_corr = pts_rel\
            [(pts_rel['player_position'] == 'F-C')]\
            [['pts','min',
              'player_pts_per36_stand',
              'team_off_ppg_stand','opp_def_ppg_stand']]\
            .corr()

mask = np.zeros_like(pts_corr,
                     dtype = bool)

mask[np.triu_indices_from(mask)] = True
pts_corr[mask] = np.nan

pts_corr.style\
        .background_gradient(cmap = 'coolwarm',
                            axis = None,
                            vmin = -1,
                            vmax = 1)\
        .highlight_null('#f1f1f1')\
        .format(precision = 2)











pts_corr = pts_rel\
            [(pts_rel['player_position'] == 'C')]\
            [['pts','min',
              'player_pts_per36_stand',
              'team_off_ppg_stand','opp_def_ppg_stand']]\
            .corr()

mask = np.zeros_like(pts_corr,
                     dtype = bool)

mask[np.triu_indices_from(mask)] = True
pts_corr[mask] = np.nan

pts_corr.style\
        .background_gradient(cmap = 'coolwarm',
                            axis = None,
                            vmin = -1,
                            vmax = 1)\
        .highlight_null('#f1f1f1')\
        .format(precision = 2)











pts_corr = pts_rel\
            [(pts_rel['player_position'] == 'UNK')]\
            [['pts','min',
              'player_pts_per36_stand',
              'team_off_ppg_stand','opp_def_ppg_stand']]\
            .corr()

mask = np.zeros_like(pts_corr,
                     dtype = bool)

mask[np.triu_indices_from(mask)] = True
pts_corr[mask] = np.nan

pts_corr.style\
        .background_gradient(cmap = 'coolwarm',
                            axis = None,
                            vmin = -1,
                            vmax = 1)\
        .highlight_null('#f9f9f9')\
        .format(precision = 2)























games[games['game_period'] > 4]
































games['game_period'].value_counts()

































