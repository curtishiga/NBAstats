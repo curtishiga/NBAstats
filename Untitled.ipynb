{
 "cells": [
  {
   "cell_type": "code",
   "execution_count": 1,
   "metadata": {},
   "outputs": [],
   "source": [
    "import pandas as pd\n",
    "import numpy as np\n",
    "from datetime import datetime\n",
    "import pytz\n",
    "import requests\n",
    "import warnings\n",
    "import json\n",
    "# import matplotlib.pyplot as plt\n",
    "#import seaborn as sns\n",
    "\n",
    "warnings.filterwarnings('ignore')\n",
    "pd.set_option('display.max_columns',None)"
   ]
  },
  {
   "cell_type": "markdown",
   "metadata": {},
   "source": [
    "# Read in data"
   ]
  },
  {
   "cell_type": "code",
   "execution_count": null,
   "metadata": {},
   "outputs": [],
   "source": [
    "# save data locally to avoid pulling from API\n",
    "data_2021 = pd.read_csv('./Data/api_extract_all_data_2021.csv',\n",
    "                       header = 0)\\\n",
    "                    .drop_duplicates()\n",
    "\n",
    "# save data locally to avoid pulling from API\n",
    "data_2022 = pd.read_csv('./Data/api_extract_all_data_2022.csv',\n",
    "                       header = 0)\\\n",
    "                    .drop_duplicates()\n",
    "\n",
    "# save data locally to avoid pulling from API\n",
    "data_2023 = pd.read_csv('./Data/api_extract_all_data_2023.csv',\n",
    "                       header = 0)\\\n",
    "                    .drop_duplicates()\n",
    "\n",
    "all_data = pd.concat([data_2021,\n",
    "                     data_2022,\n",
    "                     data_2023],\n",
    "                    ignore_index = True)"
   ]
  },
  {
   "cell_type": "code",
   "execution_count": null,
   "metadata": {},
   "outputs": [],
   "source": [
    "# save data locally to avoid pulling from API\n",
    "all_data = pd.read_csv('./Data/api_extract_all_data.csv',\n",
    "                       header = 0)\\\n",
    "                    .drop_duplicates()"
   ]
  },
  {
   "cell_type": "code",
   "execution_count": null,
   "metadata": {},
   "outputs": [],
   "source": []
  },
  {
   "cell_type": "markdown",
   "metadata": {},
   "source": [
    "# Check Data"
   ]
  },
  {
   "cell_type": "code",
   "execution_count": null,
   "metadata": {},
   "outputs": [],
   "source": [
    "# convert 'game_date' into datetime\n",
    "all_data['game_date'] = pd.to_datetime(all_data['game_date']).dt.tz_localize(None)"
   ]
  },
  {
   "cell_type": "code",
   "execution_count": null,
   "metadata": {},
   "outputs": [],
   "source": [
    "all_data.loc[((all_data['game_date'].dt.date >= datetime.strptime('2021-10-19','%Y-%m-%d').date())\n",
    "              & (all_data['game_date'].dt.date <= datetime.strptime('2022-04-10','%Y-%m-%d').date()))\n",
    "            | ((all_data['game_date'].dt.date >= datetime.strptime('2022-10-18','%Y-%m-%d').date())\n",
    "               & (all_data['game_date'].dt.date <= datetime.strptime('2023-04-09','%Y-%m-%d').date()))\n",
    "            | ((all_data['game_date'].dt.date >= datetime.strptime('2023-10-24','%Y-%m-%d').date())),\n",
    "            'game_preseason'] = 'N'"
   ]
  },
  {
   "cell_type": "code",
   "execution_count": null,
   "metadata": {},
   "outputs": [],
   "source": [
    "all_data['game_preseason'].fillna('Y',\n",
    "                                 inplace = True)"
   ]
  },
  {
   "cell_type": "code",
   "execution_count": null,
   "metadata": {},
   "outputs": [],
   "source": [
    "all_data.drop(all_data[all_data['game_preseason'] == 'Y'].index,\n",
    "             inplace = True)"
   ]
  },
  {
   "cell_type": "markdown",
   "metadata": {},
   "source": [
    "## Ensure all data has been gathered"
   ]
  },
  {
   "cell_type": "code",
   "execution_count": null,
   "metadata": {},
   "outputs": [],
   "source": [
    "# Drop duplicate rows\n",
    "## May have arisen due to pulling too many pages\n",
    "all_data.drop_duplicates(inplace = True)"
   ]
  },
  {
   "cell_type": "code",
   "execution_count": null,
   "metadata": {},
   "outputs": [],
   "source": [
    "all_data.sort_values('game_date',\n",
    "                    inplace = True)"
   ]
  },
  {
   "cell_type": "code",
   "execution_count": null,
   "metadata": {},
   "outputs": [],
   "source": [
    "games_per_team = all_data.groupby(['game_season','team_id'])[['game_id']].nunique()"
   ]
  },
  {
   "cell_type": "code",
   "execution_count": null,
   "metadata": {},
   "outputs": [],
   "source": [
    "games_per_team[(games_per_team['game_id'] != 82)\n",
    "              & (games_per_team.index.get_level_values(0) != 2023)]"
   ]
  },
  {
   "cell_type": "code",
   "execution_count": null,
   "metadata": {},
   "outputs": [],
   "source": [
    "all_data['game_id'] = all_data['game_id'].astype(int)\n",
    "all_data['team_id'] = all_data['team_id'].astype(int)"
   ]
  },
  {
   "cell_type": "code",
   "execution_count": null,
   "metadata": {},
   "outputs": [],
   "source": []
  },
  {
   "cell_type": "code",
   "execution_count": null,
   "metadata": {},
   "outputs": [],
   "source": [
    "# combine first and last name of players\n",
    "all_data['player_full_name'] = all_data['player_first_name'] + ' ' + all_data['player_last_name']"
   ]
  },
  {
   "cell_type": "markdown",
   "metadata": {},
   "source": [
    "## Player Positions\n",
    "### Investigate blank player positions"
   ]
  },
  {
   "cell_type": "code",
   "execution_count": null,
   "metadata": {},
   "outputs": [],
   "source": [
    "all_data[all_data['player_position'].isna()]['player_full_name'].unique()"
   ]
  },
  {
   "cell_type": "markdown",
   "metadata": {},
   "source": [
    "Do players with blank positions have positions in other games\n"
   ]
  },
  {
   "cell_type": "code",
   "execution_count": null,
   "metadata": {},
   "outputs": [],
   "source": [
    "blank_pos_player_map = all_data[(all_data['player_full_name'].isin(all_data[all_data['player_position'] == '']['player_full_name'].unique()))\n",
    "                                & (all_data['player_position'] != '')]\\\n",
    "                        [['player_full_name','player_position']]\\\n",
    "                        .drop_duplicates()\\\n",
    "                        .set_index('player_full_name')\\\n",
    "                        .to_dict()\\\n",
    "                        ['player_position']"
   ]
  },
  {
   "cell_type": "markdown",
   "metadata": {},
   "source": [
    "Only 3 players have position values. Use them to fill blank values"
   ]
  },
  {
   "cell_type": "code",
   "execution_count": null,
   "metadata": {},
   "outputs": [],
   "source": [
    "all_data['player_position'].replace('',np.nan,\n",
    "                                   inplace = True)"
   ]
  },
  {
   "cell_type": "code",
   "execution_count": null,
   "metadata": {},
   "outputs": [],
   "source": [
    "all_data['player_position'].fillna(all_data['player_full_name'].map(blank_pos_player_map),\n",
    "                                  inplace = True)"
   ]
  },
  {
   "cell_type": "markdown",
   "metadata": {},
   "source": [
    "Confirm mapping worked"
   ]
  },
  {
   "cell_type": "code",
   "execution_count": null,
   "metadata": {},
   "outputs": [],
   "source": [
    "all_data[all_data['player_full_name'].isin(list(blank_pos_player_map.keys()))][['player_full_name','player_position']].drop_duplicates()"
   ]
  },
  {
   "cell_type": "markdown",
   "metadata": {},
   "source": [
    "Which player remain without a position?"
   ]
  },
  {
   "cell_type": "code",
   "execution_count": null,
   "metadata": {},
   "outputs": [],
   "source": [
    "all_data[all_data['player_position'].isna()]['player_full_name'].unique()"
   ]
  },
  {
   "cell_type": "markdown",
   "metadata": {},
   "source": [
    "### Reversible Positions"
   ]
  },
  {
   "cell_type": "code",
   "execution_count": null,
   "metadata": {},
   "outputs": [],
   "source": [
    "all_data['player_position'].unique()"
   ]
  },
  {
   "cell_type": "markdown",
   "metadata": {},
   "source": [
    "Dual positions, like 'G-F', are reversible."
   ]
  },
  {
   "cell_type": "code",
   "execution_count": null,
   "metadata": {},
   "outputs": [],
   "source": [
    "all_data['player_position'].replace({'F-G':'G-F',\n",
    "                                    'C-F':'F-C',\n",
    "                                    np.nan:'UNK'},\n",
    "                                   inplace = True)"
   ]
  },
  {
   "cell_type": "code",
   "execution_count": null,
   "metadata": {},
   "outputs": [],
   "source": [
    "all_data['player_position'].unique()"
   ]
  },
  {
   "cell_type": "markdown",
   "metadata": {},
   "source": [
    "### Players with 2 positions"
   ]
  },
  {
   "cell_type": "code",
   "execution_count": null,
   "metadata": {},
   "outputs": [],
   "source": [
    "player_pos = all_data.groupby('player_full_name')[['player_position']].nunique()\n",
    "\n",
    "player_pos[player_pos['player_position'] !=  1]"
   ]
  },
  {
   "cell_type": "markdown",
   "metadata": {},
   "source": [
    "## Input Opponent fields\n",
    "\n",
    "Use 'game_home_team_id', 'game_visitor_team_id', and team_id fields to determine who the opponents per player was"
   ]
  },
  {
   "cell_type": "code",
   "execution_count": null,
   "metadata": {},
   "outputs": [],
   "source": [
    "team_by_id = all_data.groupby('team_id')\\\n",
    "                [['team_abbreviation','team_city',\n",
    "                  'team_conference','team_division']]\\\n",
    "                .first()"
   ]
  },
  {
   "cell_type": "code",
   "execution_count": null,
   "metadata": {},
   "outputs": [],
   "source": [
    "# Create 'opponent_team_id' field by summing 'game_home_team_id' and 'game_visitor_team_id' and subtracting the team_id\n",
    "all_data['opponent_team_id'] = all_data[['game_home_team_id','game_visitor_team_id']].sum(axis = 1) - all_data['team_id']"
   ]
  },
  {
   "cell_type": "code",
   "execution_count": null,
   "metadata": {},
   "outputs": [],
   "source": [
    "team_stats_by_game = all_data.groupby(['game_season',\n",
    "                                       'game_id',\n",
    "                                       'team_abbreviation',\n",
    "                                       'player_position'])\\\n",
    "                        [['fga','fgm','fta','ftm','fg3a','fg3m','dreb','oreb','reb','ast','stl','blk','turnover','pf','pts']]\\\n",
    "                        .sum()\\\n",
    "                        .reset_index()"
   ]
  },
  {
   "cell_type": "code",
   "execution_count": null,
   "metadata": {},
   "outputs": [],
   "source": [
    "team_stats_by_game[team_stats_by_game['game_id'] == 473409]"
   ]
  },
  {
   "cell_type": "code",
   "execution_count": null,
   "metadata": {},
   "outputs": [],
   "source": [
    "stats = all_data[['id', 'game_id','player_id',\n",
    "                  'team_id','opponent_team_id',\n",
    "                   'min', \n",
    "                  'fga','fgm','fg_pct', \n",
    "                  'fta', 'ftm', 'ft_pct',\n",
    "                  'fg3a', 'fg3m', 'fg3_pct',\n",
    "                  'oreb', 'dreb', 'reb',\n",
    "                  'pts','ast', 'stl', 'blk', \n",
    "                  'pf','turnover']]\n",
    "games = all_data[['game_id', 'game_date','game_season',\n",
    "          'game_status','game_period', 'game_time',\n",
    "          'game_home_team_id', 'game_home_team_score',\n",
    "          'game_visitor_team_id', 'game_visitor_team_score',\n",
    "          'game_preseason','game_postseason']]\n",
    "players = all_data[['player_id','player_team_id','player_position',\n",
    "                    'player_full_name','player_first_name','player_last_name',\n",
    "                    'player_height_feet', 'player_height_inches',\n",
    "                    'player_weight_pounds']]\n",
    "teams = all_data[['team_id',\n",
    "                  'team_full_name', 'team_name',\n",
    "                  'team_abbreviation', 'team_city',\n",
    "                  'team_conference', 'team_division']]"
   ]
  },
  {
   "cell_type": "code",
   "execution_count": null,
   "metadata": {},
   "outputs": [],
   "source": [
    "excel_path = '/'.join(['.','Data',\n",
    "                      'NBA Stats_2021-2023_01292024.xlsx'])\n",
    "\n",
    "with pd.ExcelWriter(excel_path) as writer:\n",
    "    stats.to_excel(writer,\n",
    "                  sheet_name = 'Stats',\n",
    "                  index = False)\n",
    "    games.to_excel(writer,\n",
    "                  sheet_name = 'Games',\n",
    "                  index = False)\n",
    "    players.to_excel(writer,\n",
    "                  sheet_name = 'Players',\n",
    "                  index = False)\n",
    "    teams.to_excel(writer,\n",
    "                  sheet_name = 'Teams',\n",
    "                  index = False)"
   ]
  },
  {
   "cell_type": "markdown",
   "metadata": {},
   "source": [
    "# Analysis\n",
    "\n",
    "Need:\n",
    "- player rolling averages\n",
    "- team defense by position\n",
    "- positional averages"
   ]
  },
  {
   "cell_type": "code",
   "execution_count": null,
   "metadata": {},
   "outputs": [],
   "source": [
    "data_2021 = all_data[all_data['game_season'] == 2021]\n",
    "data_2022 = all_data[all_data['game_season'] == 2022]\n",
    "data_2023 = all_data[all_data['game_season'] == 2023]"
   ]
  },
  {
   "cell_type": "markdown",
   "metadata": {},
   "source": [
    "## Player Rolling Averages"
   ]
  },
  {
   "cell_type": "code",
   "execution_count": null,
   "metadata": {},
   "outputs": [],
   "source": [
    "data_2021.sort_values('game_date',\n",
    "                     inplace = True)"
   ]
  },
  {
   "cell_type": "code",
   "execution_count": null,
   "metadata": {},
   "outputs": [],
   "source": [
    "data_2021['player_full_name'] = data_2021['player_first_name'] + ' ' + data_2021['player_last_name']"
   ]
  },
  {
   "cell_type": "code",
   "execution_count": null,
   "metadata": {},
   "outputs": [],
   "source": [
    "player_avg = data_2021[~data_2021['min'].isin([0,np.nan])]\\\n",
    "                .set_index('game_date')\\\n",
    "                .groupby(['player_full_name'])\\\n",
    "                [['pts']]\\\n",
    "                .rolling('300D')\\\n",
    "                .mean()"
   ]
  },
  {
   "cell_type": "code",
   "execution_count": null,
   "metadata": {},
   "outputs": [],
   "source": [
    "player_avg[player_avg.index.get_level_values(0) == 'Kyrie Irving'].tail(1)"
   ]
  },
  {
   "cell_type": "code",
   "execution_count": null,
   "metadata": {},
   "outputs": [],
   "source": [
    "rolling_avg_pts_by_pos = data_2021[~data_2021['min'].isin([0,np.nan])]\\\n",
    "                            .set_index('game_date')\\\n",
    "                            .groupby(['player_position'])\\\n",
    "                            [['pts']]\\\n",
    "                            .rolling('300D')\\\n",
    "                            .mean()\\\n",
    "                            .groupby(level = [0,1])\\\n",
    "                            .last()\\\n",
    "                            .reset_index()\n",
    "\n",
    "rolling_std_pts_by_pos = data_2021[~data_2021['min'].isin([0,np.nan])]\\\n",
    "                            .set_index('game_date')\\\n",
    "                            .groupby(['player_position'])\\\n",
    "                            [['pts']]\\\n",
    "                            .rolling('300D')\\\n",
    "                            .std()\\\n",
    "                            .groupby(level = [0,1])\\\n",
    "                            .last()\\\n",
    "                            .reset_index()"
   ]
  },
  {
   "cell_type": "code",
   "execution_count": null,
   "metadata": {},
   "outputs": [],
   "source": [
    "rolling_avg_pts_by_pos[(rolling_avg_pts_by_pos['player_position'] == 'F')\n",
    "                      #& (rolling_avg_pts_by_pos['game_date'] == '2021-10-19')\n",
    "                      ]"
   ]
  },
  {
   "cell_type": "code",
   "execution_count": null,
   "metadata": {},
   "outputs": [],
   "source": [
    "rolling_std_pts_by_pos[(rolling_std_pts_by_pos['player_position'] == 'F')\n",
    "                      #& (rolling_std_pts_by_pos['game_date'] == '2021-10-19')\n",
    "                      ]"
   ]
  },
  {
   "cell_type": "code",
   "execution_count": null,
   "metadata": {},
   "outputs": [],
   "source": [
    "_ = sns.histplot(data = data_2021[(~data_2021['min'].isin([0,np.nan]))\n",
    "                          & (data_2021['player_position'] == 'F')],\n",
    "                x = 'pts')\n",
    "\n",
    "plt.show()"
   ]
  },
  {
   "cell_type": "code",
   "execution_count": null,
   "metadata": {},
   "outputs": [],
   "source": []
  },
  {
   "cell_type": "code",
   "execution_count": null,
   "metadata": {},
   "outputs": [],
   "source": [
    "season_team_position_by_game = all_data.groupby(['game_season',\n",
    "                                                         'team_id',\n",
    "                                                         'player_position',\n",
    "                                                        'game_id'])\\\n",
    "                                    [['fga','fgm','fta','ftm','fg3a','fg3m',\n",
    "                                      'dreb','oreb','reb','ast','stl','blk',\n",
    "                                      'turnover','pf','pts']]\\\n",
    "                                    .sum()\\\n",
    "                                    .reset_index()"
   ]
  },
  {
   "cell_type": "code",
   "execution_count": null,
   "metadata": {},
   "outputs": [],
   "source": [
    "season_opp_position_by_game = all_data.groupby(['game_season',\n",
    "                                                         'opponent_team_id',\n",
    "                                                         'player_position',\n",
    "                                                        'game_id'])\\\n",
    "                                    [['fga','fgm','fta','ftm','fg3a','fg3m',\n",
    "                                      'dreb','oreb','reb','ast','stl','blk',\n",
    "                                      'turnover','pf','pts']]\\\n",
    "                                    .sum()\\\n",
    "                                    .reset_index()"
   ]
  },
  {
   "cell_type": "code",
   "execution_count": null,
   "metadata": {},
   "outputs": [],
   "source": []
  },
  {
   "cell_type": "code",
   "execution_count": null,
   "metadata": {},
   "outputs": [],
   "source": []
  },
  {
   "cell_type": "code",
   "execution_count": null,
   "metadata": {},
   "outputs": [],
   "source": [
    "# Get number of games each team faced a position\n",
    "season_opp_games_by_pos = season_opp_position_by_game.groupby(['game_season',\n",
    "                                                              'player_position',\n",
    "                                                              'opponent_team_id'])\\\n",
    "                            [['game_id']]\\\n",
    "                            .nunique()\n",
    "\n",
    "# Get avg stats by position per team\n",
    "season_opp_stats_by_pos = season_opp_position_by_game.groupby(['game_season',\n",
    "                                                               'player_position',\n",
    "                                                               'opponent_team_id'])\\\n",
    "                                    [['fga','fgm','fta','ftm','fg3a','fg3m',\n",
    "                                      'dreb','oreb','reb','ast','stl','blk',\n",
    "                                      'turnover','pf','pts']]\\\n",
    "                                    .agg(['mean','std'])\n",
    "\n",
    "season_opp_stats_by_pos.columns = ['_'.join(i) for i in season_opp_stats_by_pos.columns]\n",
    "\n",
    "# Combine games per position per team and avg stats per position per team\n",
    "season_opp_position_stats = pd.merge(season_opp_games_by_pos,\n",
    "                                         season_opp_stats_by_pos,\n",
    "                                         how = 'outer',\n",
    "                                         left_index = True,\n",
    "                                         right_index = True)\\\n",
    "                                .reset_index()"
   ]
  },
  {
   "cell_type": "code",
   "execution_count": null,
   "metadata": {},
   "outputs": [],
   "source": []
  },
  {
   "cell_type": "code",
   "execution_count": null,
   "metadata": {},
   "outputs": [],
   "source": [
    "# Represents opponent_team_id defensive ability by position\n",
    "season_opp_position_stats"
   ]
  },
  {
   "cell_type": "code",
   "execution_count": null,
   "metadata": {},
   "outputs": [],
   "source": []
  },
  {
   "cell_type": "code",
   "execution_count": null,
   "metadata": {},
   "outputs": [],
   "source": [
    "# Get number of games each team faced a position\n",
    "season_team_games_by_pos = season_team_position_by_game.groupby(['game_season',\n",
    "                                                              'player_position',\n",
    "                                                              'team_id'])\\\n",
    "                            [['game_id']]\\\n",
    "                            .nunique()\n",
    "\n",
    "# Get avg stats by position per team\n",
    "season_team_stats_by_pos = season_team_position_by_game.groupby(['game_season',\n",
    "                                                               'player_position',\n",
    "                                                               'team_id'])\\\n",
    "                                    [['fg3m','reb','ast','stl','blk',\n",
    "                                      'turnover','pf','pts']]\\\n",
    "                                    .agg(['mean','std'])\n",
    "\n",
    "season_team_stats_by_pos.columns = ['_'.join(i) for i in season_team_stats_by_pos.columns]\n",
    "\n",
    "# Combine games per position per team and avg stats per position per team\n",
    "season_team_position_stats = pd.merge(season_team_games_by_pos,\n",
    "                                         season_team_stats_by_pos,\n",
    "                                         how = 'outer',\n",
    "                                         left_index = True,\n",
    "                                         right_index = True)\\\n",
    "                                .reset_index()"
   ]
  },
  {
   "cell_type": "code",
   "execution_count": null,
   "metadata": {},
   "outputs": [],
   "source": [
    "season_league_games_by_position = season_team_position_by_game.groupby(['game_season',\n",
    "                                                                        'player_position'])\\\n",
    "                                    [['game_id']]\\\n",
    "                                    .nunique()\n",
    "\n",
    "season_league_counting_stats_by_position = season_team_position_by_game.groupby(['game_season',\n",
    "                                                                        'player_position'])\\\n",
    "                                    [['fg3m','reb','ast','stl','blk',\n",
    "                                      'turnover','pf','pts']]\\\n",
    "                                    .agg(['mean','std'])\n",
    "season_league_counting_stats_by_position.columns = ['_'.join(i) for i in season_league_counting_stats_by_position.columns]\n",
    "\n",
    "season_league_stats_by_position = pd.merge(season_league_games_by_position,\n",
    "                                          season_league_counting_stats_by_position,\n",
    "                                          how = 'outer',\n",
    "                                          left_index = True,\n",
    "                                          right_index = True)"
   ]
  },
  {
   "cell_type": "code",
   "execution_count": null,
   "metadata": {},
   "outputs": [],
   "source": [
    "season_team_stats_by_pos[(season_team_stats_by_pos.index.get_level_values(1) == 'G')\n",
    "                        & (season_team_stats_by_pos.index.get_level_values(0) == 2021)]['pts_mean'].mean()"
   ]
  },
  {
   "cell_type": "code",
   "execution_count": null,
   "metadata": {},
   "outputs": [],
   "source": [
    "season_league_stats_by_position"
   ]
  },
  {
   "cell_type": "code",
   "execution_count": null,
   "metadata": {},
   "outputs": [],
   "source": []
  },
  {
   "cell_type": "code",
   "execution_count": null,
   "metadata": {},
   "outputs": [],
   "source": [
    "# Represents opponent_team_id offensive ability by position\n",
    "season_team_position_stats[season_team_position_stats['team_id'] == 10]"
   ]
  },
  {
   "cell_type": "code",
   "execution_count": null,
   "metadata": {},
   "outputs": [],
   "source": []
  },
  {
   "cell_type": "code",
   "execution_count": null,
   "metadata": {},
   "outputs": [],
   "source": [
    "all_data.set_index('game_date')\\\n",
    "    .groupby(['game_season','player_position'])\\\n",
    "    [['fg3m','reb','ast','stl','blk','turnover','pf','pts']]\\\n",
    "    .rolling('1D')\\\n",
    "    .agg(['mean','std'])"
   ]
  },
  {
   "cell_type": "code",
   "execution_count": null,
   "metadata": {},
   "outputs": [],
   "source": []
  }
 ],
 "metadata": {
  "kernelspec": {
   "display_name": "Python 3 (ipykernel)",
   "language": "python",
   "name": "python3"
  },
  "language_info": {
   "codemirror_mode": {
    "name": "ipython",
    "version": 3
   },
   "file_extension": ".py",
   "mimetype": "text/x-python",
   "name": "python",
   "nbconvert_exporter": "python",
   "pygments_lexer": "ipython3",
   "version": "3.8.18"
  }
 },
 "nbformat": 4,
 "nbformat_minor": 4
}
