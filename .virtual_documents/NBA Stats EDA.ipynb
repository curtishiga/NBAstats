import pandas as pd
import numpy as np
from datetime import datetime
#import pytz
import scipy
import requests
import warnings
import json
import matplotlib.pyplot as plt
import matplotlib.dates as mdates
import seaborn as sns

warnings.filterwarnings('ignore')
pd.set_option('display.max_columns',None)





data_path = '/'.join(['.','Data',
                      'NBA Points Stats_2021-2023.xlsx'])

pts_data = pd.read_excel(data_path,
                         sheet_name = 'Points',
                         header = 0,
                         parse_dates = ['game_date'],
                        engine='openpyxl')


pts_data.head()


pts_rel = pts_data[['game_date','team_id','opponent_team_id',
                    'player_id','player_position','player_avg_min',
                    'min','pts',
                    'player_pts_per36_stand',
                    'team_off_ppg_stand','opp_def_ppg_stand']]


pts_corr = pts_rel\
            [['pts','min',
              'player_pts_per36_stand',
              'team_off_ppg_stand','opp_def_ppg_stand']]\
            .corr()

mask = np.zeros_like(pts_corr,
                     dtype = bool)

mask[np.triu_indices_from(mask)] = True
pts_corr[mask] = np.nan

pts_corr.style\
        .background_gradient(cmap = 'coolwarm',
                            axis = None,
                            vmin = -1,
                            vmax = 1)\
        .highlight_null('#f1f1f1')\
        .format(precision = 2)








pts_corr = pts_rel\
            [(pts_rel['player_position'] == 'G')]\
            [['pts','min',
              'player_pts_per36_stand',
              'team_off_ppg_stand','opp_def_ppg_stand']]\
            .corr()

mask = np.zeros_like(pts_corr,
                     dtype = bool)

mask[np.triu_indices_from(mask)] = True
pts_corr[mask] = np.nan

pts_corr.style\
        .background_gradient(cmap = 'coolwarm',
                            axis = None,
                            vmin = -1,
                            vmax = 1)\
        .highlight_null('#f1f1f1')\
        .format(precision = 2)








pts_corr = pts_rel\
            [(pts_rel['player_position'] == 'G-F')]\
            [['pts','min',
              'player_pts_per36_stand',
              'team_off_ppg_stand','opp_def_ppg_stand']]\
            .corr()

mask = np.zeros_like(pts_corr,
                     dtype = bool)

mask[np.triu_indices_from(mask)] = True
pts_corr[mask] = np.nan

pts_corr.style\
        .background_gradient(cmap = 'coolwarm',
                            axis = None,
                            vmin = -1,
                            vmax = 1)\
        .highlight_null('#f1f1f1')\
        .format(precision = 2)











pts_corr = pts_rel\
            [(pts_rel['player_position'] == 'F')]\
            [['pts','min',
              'player_pts_per36_stand',
              'team_off_ppg_stand','opp_def_ppg_stand']]\
            .corr()

mask = np.zeros_like(pts_corr,
                     dtype = bool)

mask[np.triu_indices_from(mask)] = True
pts_corr[mask] = np.nan

pts_corr.style\
        .background_gradient(cmap = 'coolwarm',
                            axis = None,
                            vmin = -1,
                            vmax = 1)\
        .highlight_null('#f1f1f1')\
        .format(precision = 2)











pts_corr = pts_rel\
            [(pts_rel['player_position'] == 'F-C')]\
            [['pts','min',
              'player_pts_per36_stand',
              'team_off_ppg_stand','opp_def_ppg_stand']]\
            .corr()

mask = np.zeros_like(pts_corr,
                     dtype = bool)

mask[np.triu_indices_from(mask)] = True
pts_corr[mask] = np.nan

pts_corr.style\
        .background_gradient(cmap = 'coolwarm',
                            axis = None,
                            vmin = -1,
                            vmax = 1)\
        .highlight_null('#f1f1f1')\
        .format(precision = 2)











pts_corr = pts_rel\
            [(pts_rel['player_position'] == 'C')]\
            [['pts','min',
              'player_pts_per36_stand',
              'team_off_ppg_stand','opp_def_ppg_stand']]\
            .corr()

mask = np.zeros_like(pts_corr,
                     dtype = bool)

mask[np.triu_indices_from(mask)] = True
pts_corr[mask] = np.nan

pts_corr.style\
        .background_gradient(cmap = 'coolwarm',
                            axis = None,
                            vmin = -1,
                            vmax = 1)\
        .highlight_null('#f1f1f1')\
        .format(precision = 2)











pts_corr = pts_rel\
            [(pts_rel['player_position'] == 'UNK')]\
            [['pts','min',
              'player_pts_per36_stand',
              'team_off_ppg_stand','opp_def_ppg_stand']]\
            .corr()

mask = np.zeros_like(pts_corr,
                     dtype = bool)

mask[np.triu_indices_from(mask)] = True
pts_corr[mask] = np.nan

pts_corr.style\
        .background_gradient(cmap = 'coolwarm',
                            axis = None,
                            vmin = -1,
                            vmax = 1)\
        .highlight_null('#f1f1f1')\
        .format(precision = 2)






























