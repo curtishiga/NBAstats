{
 "cells": [
  {
   "cell_type": "code",
   "execution_count": 1,
   "id": "3b9aaee6-9032-4b6e-bf3d-72f52c25d714",
   "metadata": {},
   "outputs": [],
   "source": [
    "import pandas as pd\n",
    "import numpy as np\n",
    "from datetime import datetime\n",
    "#import pytz\n",
    "import scipy\n",
    "import requests\n",
    "import warnings\n",
    "import json\n",
    "import matplotlib.pyplot as plt\n",
    "import matplotlib.dates as mdates\n",
    "import seaborn as sns\n",
    "\n",
    "warnings.filterwarnings('ignore')\n",
    "pd.set_option('display.max_columns',None)\n",
    "\n",
    "import extract_nba_rolling_stats"
   ]
  },
  {
   "cell_type": "markdown",
   "id": "bfd2a20a-cb41-4885-904d-6cc3d7fb75fa",
   "metadata": {},
   "source": [
    "# Parameters and Data"
   ]
  },
  {
   "cell_type": "code",
   "execution_count": null,
   "id": "b03357e8-6add-43fb-a5f3-f7a5898de7e1",
   "metadata": {},
   "outputs": [],
   "source": [
    "eda_rolling_period = 25\n",
    "eda_stat_cats = ['pts']\n",
    "\n",
    "eda_params = extract_nba_rolling_stats.UserParameters(rolling_period = eda_rolling_period,\n",
    "                                                    stat_cats = eda_stat_cats)"
   ]
  },
  {
   "cell_type": "code",
   "execution_count": null,
   "id": "3e71c13d-9bec-4a29-b746-59619591e09f",
   "metadata": {},
   "outputs": [],
   "source": [
    "extracted_data = extract_nba_rolling_stats\\\n",
    "                        .run_extract(roll_period = eda_rolling_period,\n",
    "                                     categories = eda_stat_cats)\\\n",
    "                        .extracted_data\n",
    "\n",
    "rolling_data = extract_nba_rolling_stats\\\n",
    "                .get_rolling_stats(original_data = extracted_data,\n",
    "                                   p = eda_params\n",
    "                                  )\n",
    "\n",
    "standardized_data = extract_nba_rolling_stats\\\n",
    "                        .standardize_data(rolling_data,\n",
    "                                          eda_params.stat_cats)"
   ]
  },
  {
   "cell_type": "code",
   "execution_count": null,
   "id": "9f6b2baa-d9d2-424d-9c46-fdf5cad1c140",
   "metadata": {},
   "outputs": [],
   "source": [
    "standardized_data"
   ]
  },
  {
   "cell_type": "code",
   "execution_count": null,
   "id": "fc82fc36-bd96-492d-af88-2add1120fe1c",
   "metadata": {},
   "outputs": [],
   "source": []
  },
  {
   "cell_type": "code",
   "execution_count": null,
   "id": "b5d5ab67-c123-4989-bdca-430282627bf5",
   "metadata": {},
   "outputs": [],
   "source": [
    "def pull_preprocess_data(rolling_period = 62,\n",
    "                         stat_cats = ['pts']):\n",
    "    user_params = extract_nba_rolling_stats\\\n",
    "                      .UserParameters(rolling_period = rolling_period,\n",
    "                                     stat_cats = stat_cats)\n",
    "\n",
    "    script_run_extract = extract_nba_rolling_stats\\\n",
    "                            .run_extract(roll_period = rolling_period,\n",
    "                                         categories = stat_cats)\n",
    "    \n",
    "    extracted_data = script_run_extract.extracted_data\n",
    "    \n",
    "    rolling_data = script_run_extract.rolling_shifted_data\n",
    "\n",
    "    standardized_data = script_run_extract.standardized_data\n",
    "\n",
    "    \n",
    "    for cat in stat_cats:\n",
    "        standardized_data[cat+'_normed'] = standardized_data[cat].apply(lambda x: (x**(1/2)).real)\n",
    "        \n",
    "        # Remove Outliers\n",
    "        third_quart = np.percentile(standardized_data[cat], 75, method='midpoint')\n",
    "        first_quart = np.percentile(standardized_data[cat], 25, method='midpoint')\n",
    "\n",
    "        interquartile_range = third_quart - first_quart\n",
    "        \n",
    "        upper = third_quart + (1.5*interquartile_range)\n",
    "\n",
    "        standardized_data.drop(standardized_data[standardized_data[cat] > upper].index,\n",
    "                 inplace = True)\n",
    "\n",
    "        # Categorize if average was met by player\n",
    "        standardized_data[cat+'_avg_met'] = (standardized_data['fpts'] >= standardized_data['player_fpts_mean']).apply(int)\n",
    "\n",
    "    # Dummify Data\n",
    "    data_dummied = pd.get_dummies(data = standardized_data.dropna(how = 'any'),\n",
    "                              columns= ['player_position'],\n",
    "                              dtype = int)\n",
    "    \n",
    "    return data_dummied"
   ]
  },
  {
   "cell_type": "code",
   "execution_count": null,
   "id": "82aa0325-2ac8-4d8e-97e0-324ee5ef8460",
   "metadata": {},
   "outputs": [],
   "source": []
  },
  {
   "cell_type": "code",
   "execution_count": null,
   "id": "18e3bc56-6beb-48c4-bb35-1693f6875131",
   "metadata": {
    "scrolled": true
   },
   "outputs": [],
   "source": [
    "for i in [15,30,60,82]:\n",
    "    data = pull_preprocess_data(rolling_period = i,\n",
    "                                stat_cats = ['fpts'])\n",
    "\n",
    "    excel_path = '/'.join(['.','Data',\n",
    "                            'modeling_data_%i rp_fpts.xlsx' %i])\n",
    "\n",
    "    with pd.ExcelWriter(excel_path) as writer:\n",
    "        data.to_excel(writer,\n",
    "                      index = False)"
   ]
  },
  {
   "cell_type": "markdown",
   "id": "df9586b7-28f7-4708-936f-dda2a6bfb859",
   "metadata": {},
   "source": [
    "# Pipeline"
   ]
  },
  {
   "cell_type": "markdown",
   "id": "b06dad82-4817-49a4-8247-301222dba900",
   "metadata": {},
   "source": [
    "## Model Metrics"
   ]
  },
  {
   "cell_type": "code",
   "execution_count": 2,
   "id": "23431b56-9f0b-4201-b5df-67b9ed1bf7cf",
   "metadata": {},
   "outputs": [],
   "source": [
    "from sklearn.metrics import mean_squared_error, r2_score"
   ]
  },
  {
   "cell_type": "markdown",
   "id": "3f0e6245-0676-450b-9782-0e4ac8ab27a7",
   "metadata": {},
   "source": [
    "## Random Forest Regressor"
   ]
  },
  {
   "cell_type": "code",
   "execution_count": 3,
   "id": "e0c63802-d19f-43e0-adcf-1598c10937c7",
   "metadata": {},
   "outputs": [],
   "source": [
    "from sklearn.decomposition import PCA\n",
    "from sklearn.ensemble import RandomForestRegressor\n",
    "from sklearn.model_selection import RandomizedSearchCV\n",
    "from sklearn.pipeline import Pipeline"
   ]
  },
  {
   "cell_type": "code",
   "execution_count": 4,
   "id": "4c299961-c541-4f0c-97a9-bc5d1d5585af",
   "metadata": {},
   "outputs": [],
   "source": [
    "ran_state = 130"
   ]
  },
  {
   "cell_type": "code",
   "execution_count": 5,
   "id": "ae80465f-38ad-48c6-8ed0-fffe9a500b6d",
   "metadata": {},
   "outputs": [],
   "source": [
    "rf_regress = RandomForestRegressor(random_state = ran_state)"
   ]
  },
  {
   "cell_type": "code",
   "execution_count": 6,
   "id": "233fad66-c22d-4e2c-800d-f9724e7030a5",
   "metadata": {},
   "outputs": [],
   "source": [
    "pipeline = Pipeline(steps = [#('pca',pca),\n",
    "                             ('rf',rf_regress)])"
   ]
  },
  {
   "cell_type": "code",
   "execution_count": null,
   "id": "1f9307d1-83aa-411b-9b65-95db3320c6bf",
   "metadata": {},
   "outputs": [],
   "source": []
  },
  {
   "cell_type": "code",
   "execution_count": 16,
   "id": "a98f9932-8042-416b-a8c7-5a99dbf683af",
   "metadata": {},
   "outputs": [],
   "source": [
    "def split_train_test(data):\n",
    "\n",
    "    unique_game_dates = data[data['game_date'] >= '2023-01-01']['game_date'].unique()\n",
    "\n",
    "    # Take 2023 and beyond to adjust for the rolling statistic\n",
    "    split_date = unique_game_dates[int(len(unique_game_dates) * 0.7)]\n",
    "    \n",
    "    train = data[data['game_date'] <= split_date]\n",
    "    test = data[data['game_date'] > split_date]\n",
    "        \n",
    "        # Independent and Dependent variables\n",
    "    ## Complete\n",
    "    # ((col == 'min')\n",
    "    #   | (('opponent_team_opp_' in col)\n",
    "    #      & ('_stand' in col))\n",
    "    #  )\n",
    "    # ((col == 'min')\n",
    "    #   | (('opponent_team_opp_' in col)\n",
    "    #      & ('_pg' in col))\n",
    "    #  )\n",
    "    ## Try\n",
    "    # ((('player_' in col)\n",
    "    #    & ('mean' in col)\n",
    "    #    & ('league' not in col))\n",
    "    #   | (('opponent_team_opp_' in col)\n",
    "    #      & ('_pg' in col))\n",
    "    #  )\n",
    "    X_cols = [col for col in data.columns if ((('_mean_stand' in col)\n",
    "                                               & ('league' not in col))\n",
    "                                              | (col == 'min_stand')\n",
    "                                              # | (('team_' in col)\n",
    "                                              #    & ('_pg_stand' in col)\n",
    "                                              #    & ('opp_' not in col))\n",
    "                                              | (('opponent_team_opp_pos_' in col)\n",
    "                                                 & ('_pg' in col)\n",
    "                                                & ('_stand' in col))\n",
    "                                             )\n",
    "             ]\n",
    "    y_cols = [col for col in data.columns if (('_normed' in col)\n",
    "                                              & ('_scaled' not in col))\n",
    "             ]\n",
    "    \n",
    "    # Training set\n",
    "    X_train = train[X_cols].dropna()\n",
    "    y_train = train.loc[X_train.index,\n",
    "                        y_cols]\n",
    "    \n",
    "    # Test set\n",
    "    X_test = test[X_cols].dropna()\n",
    "    y_test = test.loc[X_test.index,\n",
    "                    y_cols]\n",
    "    \n",
    "    return X_train, X_test, y_train, y_test"
   ]
  },
  {
   "cell_type": "markdown",
   "id": "1060a159-96d8-4d67-9088-c3b9daf24c38",
   "metadata": {},
   "source": [
    "## RandomizedSearchCV"
   ]
  },
  {
   "cell_type": "code",
   "execution_count": 17,
   "id": "11358cf8-e3d1-4515-a504-30738698d0dc",
   "metadata": {
    "scrolled": true
   },
   "outputs": [
    {
     "name": "stdout",
     "output_type": "stream",
     "text": [
      "Rolling period = 60\n",
      "Reading data...\n",
      "opponent_team_opp_pos_fpts_pg_stand, fpts_mean_stand, min_stand\n",
      "fpts_normed\n",
      "Performing RandomSearchCV...\n",
      "Fitting 3 folds for each of 9 candidates, totalling 27 fits\n",
      "[CV 1/3] END rf__max_depth=5, rf__min_samples_split=3, rf__n_estimators=100;, score=0.640 total time=  11.8s\n",
      "[CV 2/3] END rf__max_depth=5, rf__min_samples_split=3, rf__n_estimators=100;, score=0.735 total time=  15.4s\n",
      "[CV 3/3] END rf__max_depth=5, rf__min_samples_split=3, rf__n_estimators=100;, score=0.744 total time=  10.9s\n",
      "[CV 1/3] END rf__max_depth=5, rf__min_samples_split=3, rf__n_estimators=50;, score=0.640 total time=   5.2s\n",
      "[CV 2/3] END rf__max_depth=5, rf__min_samples_split=3, rf__n_estimators=50;, score=0.735 total time=   5.4s\n",
      "[CV 3/3] END rf__max_depth=5, rf__min_samples_split=3, rf__n_estimators=50;, score=0.744 total time=   6.2s\n",
      "[CV 1/3] END rf__max_depth=20, rf__min_samples_split=3, rf__n_estimators=50;, score=0.605 total time=  20.6s\n",
      "[CV 2/3] END rf__max_depth=20, rf__min_samples_split=3, rf__n_estimators=50;, score=0.711 total time=  20.5s\n",
      "[CV 3/3] END rf__max_depth=20, rf__min_samples_split=3, rf__n_estimators=50;, score=0.724 total time=  19.8s\n",
      "[CV 1/3] END rf__max_depth=5, rf__min_samples_split=2, rf__n_estimators=300;, score=0.640 total time=  38.4s\n",
      "[CV 2/3] END rf__max_depth=5, rf__min_samples_split=2, rf__n_estimators=300;, score=0.735 total time=  41.3s\n",
      "[CV 3/3] END rf__max_depth=5, rf__min_samples_split=2, rf__n_estimators=300;, score=0.744 total time=  31.6s\n",
      "[CV 1/3] END rf__max_depth=10, rf__min_samples_split=3, rf__n_estimators=50;, score=0.640 total time=  10.3s\n",
      "[CV 2/3] END rf__max_depth=10, rf__min_samples_split=3, rf__n_estimators=50;, score=0.734 total time=  10.1s\n",
      "[CV 3/3] END rf__max_depth=10, rf__min_samples_split=3, rf__n_estimators=50;, score=0.744 total time=  10.1s\n",
      "[CV 1/3] END rf__max_depth=20, rf__min_samples_split=2, rf__n_estimators=300;, score=0.608 total time= 2.0min\n",
      "[CV 2/3] END rf__max_depth=20, rf__min_samples_split=2, rf__n_estimators=300;, score=0.713 total time= 1.7min\n",
      "[CV 3/3] END rf__max_depth=20, rf__min_samples_split=2, rf__n_estimators=300;, score=0.725 total time= 1.5min\n",
      "[CV 1/3] END rf__max_depth=5, rf__min_samples_split=2, rf__n_estimators=100;, score=0.640 total time=   7.6s\n",
      "[CV 2/3] END rf__max_depth=5, rf__min_samples_split=2, rf__n_estimators=100;, score=0.735 total time=   8.4s\n",
      "[CV 3/3] END rf__max_depth=5, rf__min_samples_split=2, rf__n_estimators=100;, score=0.744 total time=   7.7s\n",
      "[CV 1/3] END rf__max_depth=5, rf__min_samples_split=3, rf__n_estimators=300;, score=0.640 total time=  24.5s\n",
      "[CV 2/3] END rf__max_depth=5, rf__min_samples_split=3, rf__n_estimators=300;, score=0.735 total time=  22.6s\n",
      "[CV 3/3] END rf__max_depth=5, rf__min_samples_split=3, rf__n_estimators=300;, score=0.744 total time=  22.2s\n",
      "[CV 1/3] END rf__max_depth=5, rf__min_samples_split=2, rf__n_estimators=50;, score=0.640 total time=   4.0s\n",
      "[CV 2/3] END rf__max_depth=5, rf__min_samples_split=2, rf__n_estimators=50;, score=0.735 total time=   3.7s\n",
      "[CV 3/3] END rf__max_depth=5, rf__min_samples_split=2, rf__n_estimators=50;, score=0.744 total time=   3.6s\n",
      "Rolling period = 15\n",
      "Reading data...\n",
      "opponent_team_opp_pos_fpts_pg_stand, fpts_mean_stand, min_stand\n",
      "fpts_normed\n",
      "Performing RandomSearchCV...\n",
      "Fitting 3 folds for each of 9 candidates, totalling 27 fits\n",
      "[CV 1/3] END rf__max_depth=5, rf__min_samples_split=3, rf__n_estimators=100;, score=0.639 total time=  11.5s\n",
      "[CV 2/3] END rf__max_depth=5, rf__min_samples_split=3, rf__n_estimators=100;, score=0.736 total time=  10.6s\n",
      "[CV 3/3] END rf__max_depth=5, rf__min_samples_split=3, rf__n_estimators=100;, score=0.744 total time=  11.4s\n",
      "[CV 1/3] END rf__max_depth=5, rf__min_samples_split=3, rf__n_estimators=50;, score=0.639 total time=   4.7s\n",
      "[CV 2/3] END rf__max_depth=5, rf__min_samples_split=3, rf__n_estimators=50;, score=0.736 total time=   4.8s\n",
      "[CV 3/3] END rf__max_depth=5, rf__min_samples_split=3, rf__n_estimators=50;, score=0.744 total time=   5.1s\n",
      "[CV 1/3] END rf__max_depth=20, rf__min_samples_split=3, rf__n_estimators=50;, score=0.606 total time=  19.2s\n",
      "[CV 2/3] END rf__max_depth=20, rf__min_samples_split=3, rf__n_estimators=50;, score=0.710 total time=  21.1s\n",
      "[CV 3/3] END rf__max_depth=20, rf__min_samples_split=3, rf__n_estimators=50;, score=0.722 total time=  20.7s\n",
      "[CV 1/3] END rf__max_depth=5, rf__min_samples_split=2, rf__n_estimators=300;, score=0.639 total time=  36.1s\n",
      "[CV 2/3] END rf__max_depth=5, rf__min_samples_split=2, rf__n_estimators=300;, score=0.736 total time=  29.9s\n",
      "[CV 3/3] END rf__max_depth=5, rf__min_samples_split=2, rf__n_estimators=300;, score=0.745 total time=  41.7s\n",
      "[CV 1/3] END rf__max_depth=10, rf__min_samples_split=3, rf__n_estimators=50;, score=0.639 total time=  11.1s\n",
      "[CV 2/3] END rf__max_depth=10, rf__min_samples_split=3, rf__n_estimators=50;, score=0.734 total time=  11.7s\n",
      "[CV 3/3] END rf__max_depth=10, rf__min_samples_split=3, rf__n_estimators=50;, score=0.743 total time=  11.2s\n",
      "[CV 1/3] END rf__max_depth=20, rf__min_samples_split=2, rf__n_estimators=300;, score=0.610 total time= 1.9min\n",
      "[CV 2/3] END rf__max_depth=20, rf__min_samples_split=2, rf__n_estimators=300;, score=0.713 total time= 1.7min\n",
      "[CV 3/3] END rf__max_depth=20, rf__min_samples_split=2, rf__n_estimators=300;, score=0.725 total time= 1.4min\n",
      "[CV 1/3] END rf__max_depth=5, rf__min_samples_split=2, rf__n_estimators=100;, score=0.639 total time=   7.4s\n",
      "[CV 2/3] END rf__max_depth=5, rf__min_samples_split=2, rf__n_estimators=100;, score=0.736 total time=   7.3s\n",
      "[CV 3/3] END rf__max_depth=5, rf__min_samples_split=2, rf__n_estimators=100;, score=0.744 total time=   7.8s\n",
      "[CV 1/3] END rf__max_depth=5, rf__min_samples_split=3, rf__n_estimators=300;, score=0.639 total time=  22.1s\n",
      "[CV 2/3] END rf__max_depth=5, rf__min_samples_split=3, rf__n_estimators=300;, score=0.736 total time=  22.4s\n",
      "[CV 3/3] END rf__max_depth=5, rf__min_samples_split=3, rf__n_estimators=300;, score=0.745 total time=  22.3s\n",
      "[CV 1/3] END rf__max_depth=5, rf__min_samples_split=2, rf__n_estimators=50;, score=0.639 total time=   3.6s\n",
      "[CV 2/3] END rf__max_depth=5, rf__min_samples_split=2, rf__n_estimators=50;, score=0.736 total time=   3.6s\n",
      "[CV 3/3] END rf__max_depth=5, rf__min_samples_split=2, rf__n_estimators=50;, score=0.744 total time=   3.6s\n",
      "Rolling period = 30\n",
      "Reading data...\n",
      "opponent_team_opp_pos_fpts_pg_stand, fpts_mean_stand, min_stand\n",
      "fpts_normed\n",
      "Performing RandomSearchCV...\n",
      "Fitting 3 folds for each of 9 candidates, totalling 27 fits\n",
      "[CV 1/3] END rf__max_depth=5, rf__min_samples_split=3, rf__n_estimators=100;, score=0.640 total time=   7.4s\n",
      "[CV 2/3] END rf__max_depth=5, rf__min_samples_split=3, rf__n_estimators=100;, score=0.735 total time=   7.5s\n",
      "[CV 3/3] END rf__max_depth=5, rf__min_samples_split=3, rf__n_estimators=100;, score=0.745 total time=   7.5s\n",
      "[CV 1/3] END rf__max_depth=5, rf__min_samples_split=3, rf__n_estimators=50;, score=0.640 total time=   3.6s\n",
      "[CV 2/3] END rf__max_depth=5, rf__min_samples_split=3, rf__n_estimators=50;, score=0.735 total time=   3.7s\n",
      "[CV 3/3] END rf__max_depth=5, rf__min_samples_split=3, rf__n_estimators=50;, score=0.745 total time=   3.7s\n",
      "[CV 1/3] END rf__max_depth=20, rf__min_samples_split=3, rf__n_estimators=50;, score=0.605 total time=  13.9s\n",
      "[CV 2/3] END rf__max_depth=20, rf__min_samples_split=3, rf__n_estimators=50;, score=0.709 total time=  14.0s\n",
      "[CV 3/3] END rf__max_depth=20, rf__min_samples_split=3, rf__n_estimators=50;, score=0.724 total time=  14.2s\n",
      "[CV 1/3] END rf__max_depth=5, rf__min_samples_split=2, rf__n_estimators=300;, score=0.640 total time=  25.9s\n",
      "[CV 2/3] END rf__max_depth=5, rf__min_samples_split=2, rf__n_estimators=300;, score=0.735 total time=  24.4s\n",
      "[CV 3/3] END rf__max_depth=5, rf__min_samples_split=2, rf__n_estimators=300;, score=0.745 total time=  22.5s\n",
      "[CV 1/3] END rf__max_depth=10, rf__min_samples_split=3, rf__n_estimators=50;, score=0.640 total time=   7.2s\n",
      "[CV 2/3] END rf__max_depth=10, rf__min_samples_split=3, rf__n_estimators=50;, score=0.733 total time=   7.2s\n",
      "[CV 3/3] END rf__max_depth=10, rf__min_samples_split=3, rf__n_estimators=50;, score=0.744 total time=   7.2s\n",
      "[CV 1/3] END rf__max_depth=20, rf__min_samples_split=2, rf__n_estimators=300;, score=0.608 total time= 1.4min\n",
      "[CV 2/3] END rf__max_depth=20, rf__min_samples_split=2, rf__n_estimators=300;, score=0.711 total time= 1.4min\n",
      "[CV 3/3] END rf__max_depth=20, rf__min_samples_split=2, rf__n_estimators=300;, score=0.725 total time= 1.5min\n",
      "[CV 1/3] END rf__max_depth=5, rf__min_samples_split=2, rf__n_estimators=100;, score=0.640 total time=   7.8s\n",
      "[CV 2/3] END rf__max_depth=5, rf__min_samples_split=2, rf__n_estimators=100;, score=0.735 total time=   7.7s\n",
      "[CV 3/3] END rf__max_depth=5, rf__min_samples_split=2, rf__n_estimators=100;, score=0.745 total time=   7.8s\n",
      "[CV 1/3] END rf__max_depth=5, rf__min_samples_split=3, rf__n_estimators=300;, score=0.640 total time=  22.7s\n",
      "[CV 2/3] END rf__max_depth=5, rf__min_samples_split=3, rf__n_estimators=300;, score=0.735 total time=  22.8s\n",
      "[CV 3/3] END rf__max_depth=5, rf__min_samples_split=3, rf__n_estimators=300;, score=0.745 total time=  22.6s\n",
      "[CV 1/3] END rf__max_depth=5, rf__min_samples_split=2, rf__n_estimators=50;, score=0.640 total time=   3.7s\n",
      "[CV 2/3] END rf__max_depth=5, rf__min_samples_split=2, rf__n_estimators=50;, score=0.735 total time=   3.7s\n",
      "[CV 3/3] END rf__max_depth=5, rf__min_samples_split=2, rf__n_estimators=50;, score=0.745 total time=   3.7s\n",
      "Rolling period = 82\n",
      "Reading data...\n",
      "opponent_team_opp_pos_fpts_pg_stand, fpts_mean_stand, min_stand\n",
      "fpts_normed\n",
      "Performing RandomSearchCV...\n",
      "Fitting 3 folds for each of 9 candidates, totalling 27 fits\n",
      "[CV 1/3] END rf__max_depth=5, rf__min_samples_split=3, rf__n_estimators=100;, score=0.640 total time=   7.2s\n",
      "[CV 2/3] END rf__max_depth=5, rf__min_samples_split=3, rf__n_estimators=100;, score=0.735 total time=   7.1s\n",
      "[CV 3/3] END rf__max_depth=5, rf__min_samples_split=3, rf__n_estimators=100;, score=0.743 total time=   7.1s\n",
      "[CV 1/3] END rf__max_depth=5, rf__min_samples_split=3, rf__n_estimators=50;, score=0.640 total time=   3.6s\n",
      "[CV 2/3] END rf__max_depth=5, rf__min_samples_split=3, rf__n_estimators=50;, score=0.735 total time=   3.5s\n",
      "[CV 3/3] END rf__max_depth=5, rf__min_samples_split=3, rf__n_estimators=50;, score=0.743 total time=   3.6s\n",
      "[CV 1/3] END rf__max_depth=20, rf__min_samples_split=3, rf__n_estimators=50;, score=0.602 total time=  13.5s\n",
      "[CV 2/3] END rf__max_depth=20, rf__min_samples_split=3, rf__n_estimators=50;, score=0.710 total time=  13.4s\n",
      "[CV 3/3] END rf__max_depth=20, rf__min_samples_split=3, rf__n_estimators=50;, score=0.722 total time=  13.8s\n",
      "[CV 1/3] END rf__max_depth=5, rf__min_samples_split=2, rf__n_estimators=300;, score=0.640 total time=  23.3s\n",
      "[CV 2/3] END rf__max_depth=5, rf__min_samples_split=2, rf__n_estimators=300;, score=0.735 total time=  23.0s\n",
      "[CV 3/3] END rf__max_depth=5, rf__min_samples_split=2, rf__n_estimators=300;, score=0.743 total time=  23.2s\n",
      "[CV 1/3] END rf__max_depth=10, rf__min_samples_split=3, rf__n_estimators=50;, score=0.639 total time=   7.6s\n",
      "[CV 2/3] END rf__max_depth=10, rf__min_samples_split=3, rf__n_estimators=50;, score=0.733 total time=   7.4s\n",
      "[CV 3/3] END rf__max_depth=10, rf__min_samples_split=3, rf__n_estimators=50;, score=0.743 total time=   7.6s\n",
      "[CV 1/3] END rf__max_depth=20, rf__min_samples_split=2, rf__n_estimators=300;, score=0.607 total time= 1.5min\n",
      "[CV 2/3] END rf__max_depth=20, rf__min_samples_split=2, rf__n_estimators=300;, score=0.712 total time= 1.5min\n",
      "[CV 3/3] END rf__max_depth=20, rf__min_samples_split=2, rf__n_estimators=300;, score=0.724 total time= 1.5min\n",
      "[CV 1/3] END rf__max_depth=5, rf__min_samples_split=2, rf__n_estimators=100;, score=0.640 total time=   7.5s\n",
      "[CV 2/3] END rf__max_depth=5, rf__min_samples_split=2, rf__n_estimators=100;, score=0.735 total time=   8.3s\n",
      "[CV 3/3] END rf__max_depth=5, rf__min_samples_split=2, rf__n_estimators=100;, score=0.743 total time=   7.6s\n",
      "[CV 1/3] END rf__max_depth=5, rf__min_samples_split=3, rf__n_estimators=300;, score=0.640 total time=  21.9s\n",
      "[CV 2/3] END rf__max_depth=5, rf__min_samples_split=3, rf__n_estimators=300;, score=0.735 total time=  22.1s\n",
      "[CV 3/3] END rf__max_depth=5, rf__min_samples_split=3, rf__n_estimators=300;, score=0.743 total time=  22.2s\n",
      "[CV 1/3] END rf__max_depth=5, rf__min_samples_split=2, rf__n_estimators=50;, score=0.640 total time=   3.6s\n",
      "[CV 2/3] END rf__max_depth=5, rf__min_samples_split=2, rf__n_estimators=50;, score=0.735 total time=   3.6s\n",
      "[CV 3/3] END rf__max_depth=5, rf__min_samples_split=2, rf__n_estimators=50;, score=0.743 total time=   3.6s\n",
      "Writing results to Excel...\n"
     ]
    }
   ],
   "source": [
    "rf_performances = pd.DataFrame()\n",
    "\n",
    "for p in [60,15,30,82]:\n",
    "    print('Rolling period = %i' %p)\n",
    "\n",
    "    # Read in data\n",
    "    print('Reading data...')\n",
    "    excel_path = '/'.join(['.','Data',\n",
    "                            'modeling_data_%i rp_fpts.xlsx' %p])\n",
    "\n",
    "    data = pd.read_excel(excel_path,\n",
    "                         header = 0)\n",
    "\n",
    "    # Train-test split\n",
    "    X_train, X_test, y_train, y_test = split_train_test(data)\n",
    "\n",
    "    print(*X_train.columns, sep = ', ')\n",
    "    print(*y_train.columns, sep = ', ')\n",
    "    \n",
    "    # Randomized Search CV\n",
    "    print('Performing RandomSearchCV...')\n",
    "    ran_num_estimators = [50,100,300]\n",
    "    ran_depth = [5,10,20]\n",
    "    ran_sample_split = [2,3]\n",
    "    \n",
    "    ran_rf_params = {'rf__n_estimators':ran_num_estimators,\n",
    "                     'rf__max_depth':ran_depth,\n",
    "                     'rf__min_samples_split':ran_sample_split}\n",
    "\n",
    "    rf_regress_ranCV = RandomizedSearchCV(pipeline,\n",
    "                                          ran_rf_params,\n",
    "                                          n_iter = 9,\n",
    "                                         cv = 3,\n",
    "                                         random_state = ran_state,\n",
    "                                         verbose = 3)\n",
    "\n",
    "    rf_regress_ranCV.fit(X_train,\n",
    "                         y_train)\n",
    "\n",
    "    ran_cv_performance = pd.DataFrame(rf_regress_ranCV.cv_results_).sort_values('rank_test_score')\n",
    "\n",
    "    ran_cv_performance['rolling_period'] = p\n",
    "\n",
    "    rf_performances = pd.concat([rf_performances,\n",
    "                                 ran_cv_performance])\n",
    "\n",
    "# Writer RandomSearchCV performance to excel\n",
    "print('Writing results to Excel...')\n",
    "ran_cv_performance_excel_path = '/'.join(['.','Data',\n",
    "                                        'Random Search CV Performance.xlsx'])\n",
    "\n",
    "with pd.ExcelWriter(ran_cv_performance_excel_path, mode = 'a') as writer:\n",
    "    rf_performances.to_excel(writer,\n",
    "                                sheet_name = '%i Rolling Period' %p,\n",
    "                                index = False)"
   ]
  },
  {
   "cell_type": "code",
   "execution_count": null,
   "id": "d75bb6a6-a3c5-49e7-91b3-3251e600b515",
   "metadata": {},
   "outputs": [],
   "source": []
  },
  {
   "cell_type": "code",
   "execution_count": 18,
   "id": "f9c21f07-5f09-4fcf-9f01-1c51e82587f4",
   "metadata": {},
   "outputs": [],
   "source": [
    "best_model = rf_regress_ranCV.best_estimator_"
   ]
  },
  {
   "cell_type": "code",
   "execution_count": 19,
   "id": "7f5a392b-dc56-4127-ae55-47ac06f7078f",
   "metadata": {},
   "outputs": [
    {
     "ename": "AttributeError",
     "evalue": "'Pipeline' object has no attribute 'feature_importances_'",
     "output_type": "error",
     "traceback": [
      "\u001b[1;31m---------------------------------------------------------------------------\u001b[0m",
      "\u001b[1;31mAttributeError\u001b[0m                            Traceback (most recent call last)",
      "Cell \u001b[1;32mIn[19], line 1\u001b[0m\n\u001b[1;32m----> 1\u001b[0m best_model_importances \u001b[38;5;241m=\u001b[39m \u001b[43mbest_model\u001b[49m\u001b[38;5;241;43m.\u001b[39;49m\u001b[43mfeature_importances_\u001b[49m\n",
      "\u001b[1;31mAttributeError\u001b[0m: 'Pipeline' object has no attribute 'feature_importances_'"
     ]
    }
   ],
   "source": [
    "best_model_importances = best_model.feature_importances_"
   ]
  },
  {
   "cell_type": "code",
   "execution_count": null,
   "id": "33e35d68-d07c-4e11-b165-3f56a588039e",
   "metadata": {},
   "outputs": [],
   "source": [
    "feature_names = [i for i in X_train.columns]\n",
    "\n",
    "forest_importances = pd.Series(best_model_importances,\n",
    "                               index=feature_names)"
   ]
  },
  {
   "cell_type": "code",
   "execution_count": null,
   "id": "5e7f5c64-3870-4873-b98a-88cdf25c6942",
   "metadata": {},
   "outputs": [],
   "source": [
    "fig, ax = plt.subplots(figsize = (10,10))\n",
    "forest_importances.plot.bar()\n",
    "ax.set_title(\"Feature importances using MDI\")\n",
    "ax.set_ylabel(\"Mean decrease in impurity\")\n",
    "fig.tight_layout()"
   ]
  },
  {
   "cell_type": "code",
   "execution_count": null,
   "id": "3973f3a9-859c-4c6d-8f53-bfd6d283ccbf",
   "metadata": {},
   "outputs": [],
   "source": []
  },
  {
   "cell_type": "code",
   "execution_count": null,
   "id": "7a693afe",
   "metadata": {},
   "outputs": [],
   "source": []
  },
  {
   "cell_type": "code",
   "execution_count": null,
   "id": "0f05b943",
   "metadata": {},
   "outputs": [],
   "source": []
  },
  {
   "cell_type": "code",
   "execution_count": null,
   "id": "7e2a0e7f-3ca2-4677-9db1-8d9370dc4e99",
   "metadata": {},
   "outputs": [],
   "source": []
  },
  {
   "cell_type": "markdown",
   "id": "6649aac7-c1d2-4a3d-b771-20f249b2b4c5",
   "metadata": {},
   "source": [
    "## GridSearchCV"
   ]
  },
  {
   "cell_type": "code",
   "execution_count": 21,
   "id": "67e726d0-a002-4869-a287-17a1ee587f52",
   "metadata": {},
   "outputs": [],
   "source": [
    "from sklearn.model_selection import GridSearchCV"
   ]
  },
  {
   "cell_type": "code",
   "execution_count": 22,
   "id": "63d3252b-e437-4edb-9947-5952e2566116",
   "metadata": {
    "scrolled": true
   },
   "outputs": [
    {
     "name": "stdout",
     "output_type": "stream",
     "text": [
      "Rolling period = 30\n",
      "Reading data...\n",
      "Performing GridSearchCV...\n",
      "Fitting 3 folds for each of 6 candidates, totalling 18 fits\n",
      "[CV 1/3] END max_depth=5, min_samples_split=2, n_estimators=100;, score=0.640 total time=   7.3s\n",
      "[CV 2/3] END max_depth=5, min_samples_split=2, n_estimators=100;, score=0.735 total time=   7.7s\n",
      "[CV 3/3] END max_depth=5, min_samples_split=2, n_estimators=100;, score=0.745 total time=   7.6s\n",
      "[CV 1/3] END max_depth=5, min_samples_split=2, n_estimators=200;, score=0.640 total time=  17.6s\n",
      "[CV 2/3] END max_depth=5, min_samples_split=2, n_estimators=200;, score=0.735 total time=  14.4s\n",
      "[CV 3/3] END max_depth=5, min_samples_split=2, n_estimators=200;, score=0.745 total time=  14.5s\n",
      "[CV 1/3] END max_depth=5, min_samples_split=2, n_estimators=300;, score=0.640 total time=  22.3s\n",
      "[CV 2/3] END max_depth=5, min_samples_split=2, n_estimators=300;, score=0.735 total time=  23.3s\n",
      "[CV 3/3] END max_depth=5, min_samples_split=2, n_estimators=300;, score=0.745 total time=  23.3s\n",
      "[CV 1/3] END max_depth=5, min_samples_split=3, n_estimators=100;, score=0.640 total time=   7.6s\n",
      "[CV 2/3] END max_depth=5, min_samples_split=3, n_estimators=100;, score=0.735 total time=   7.6s\n",
      "[CV 3/3] END max_depth=5, min_samples_split=3, n_estimators=100;, score=0.745 total time=   7.5s\n",
      "[CV 1/3] END max_depth=5, min_samples_split=3, n_estimators=200;, score=0.640 total time=  14.9s\n",
      "[CV 2/3] END max_depth=5, min_samples_split=3, n_estimators=200;, score=0.735 total time=  15.0s\n",
      "[CV 3/3] END max_depth=5, min_samples_split=3, n_estimators=200;, score=0.745 total time=  15.4s\n",
      "[CV 1/3] END max_depth=5, min_samples_split=3, n_estimators=300;, score=0.640 total time=  22.0s\n",
      "[CV 2/3] END max_depth=5, min_samples_split=3, n_estimators=300;, score=0.735 total time=  22.1s\n",
      "[CV 3/3] END max_depth=5, min_samples_split=3, n_estimators=300;, score=0.745 total time=  22.0s\n",
      "Rolling period = 15\n",
      "Reading data...\n",
      "Performing GridSearchCV...\n",
      "Fitting 3 folds for each of 6 candidates, totalling 18 fits\n",
      "[CV 1/3] END max_depth=5, min_samples_split=2, n_estimators=100;, score=0.639 total time=   7.7s\n",
      "[CV 2/3] END max_depth=5, min_samples_split=2, n_estimators=100;, score=0.736 total time=   7.7s\n",
      "[CV 3/3] END max_depth=5, min_samples_split=2, n_estimators=100;, score=0.744 total time=   7.7s\n",
      "[CV 1/3] END max_depth=5, min_samples_split=2, n_estimators=200;, score=0.639 total time=  15.5s\n",
      "[CV 2/3] END max_depth=5, min_samples_split=2, n_estimators=200;, score=0.736 total time=  15.5s\n",
      "[CV 3/3] END max_depth=5, min_samples_split=2, n_estimators=200;, score=0.744 total time=  18.3s\n",
      "[CV 1/3] END max_depth=5, min_samples_split=2, n_estimators=300;, score=0.639 total time=  28.2s\n",
      "[CV 2/3] END max_depth=5, min_samples_split=2, n_estimators=300;, score=0.736 total time=  27.7s\n",
      "[CV 3/3] END max_depth=5, min_samples_split=2, n_estimators=300;, score=0.745 total time=  22.1s\n",
      "[CV 1/3] END max_depth=5, min_samples_split=3, n_estimators=100;, score=0.639 total time=   7.2s\n",
      "[CV 2/3] END max_depth=5, min_samples_split=3, n_estimators=100;, score=0.736 total time=   7.3s\n",
      "[CV 3/3] END max_depth=5, min_samples_split=3, n_estimators=100;, score=0.744 total time=   7.1s\n",
      "[CV 1/3] END max_depth=5, min_samples_split=3, n_estimators=200;, score=0.639 total time=  14.5s\n",
      "[CV 2/3] END max_depth=5, min_samples_split=3, n_estimators=200;, score=0.736 total time=  14.9s\n",
      "[CV 3/3] END max_depth=5, min_samples_split=3, n_estimators=200;, score=0.744 total time=  15.5s\n",
      "[CV 1/3] END max_depth=5, min_samples_split=3, n_estimators=300;, score=0.639 total time=  23.2s\n",
      "[CV 2/3] END max_depth=5, min_samples_split=3, n_estimators=300;, score=0.736 total time=  22.8s\n",
      "[CV 3/3] END max_depth=5, min_samples_split=3, n_estimators=300;, score=0.745 total time=  22.7s\n",
      "Rolling period = 20\n",
      "Reading data...\n",
      "Performing GridSearchCV...\n",
      "Fitting 3 folds for each of 6 candidates, totalling 18 fits\n",
      "[CV 1/3] END max_depth=5, min_samples_split=2, n_estimators=100;, score=0.638 total time=   4.6s\n",
      "[CV 2/3] END max_depth=5, min_samples_split=2, n_estimators=100;, score=0.736 total time=   4.7s\n",
      "[CV 3/3] END max_depth=5, min_samples_split=2, n_estimators=100;, score=0.745 total time=   4.6s\n",
      "[CV 1/3] END max_depth=5, min_samples_split=2, n_estimators=200;, score=0.638 total time=   9.4s\n",
      "[CV 2/3] END max_depth=5, min_samples_split=2, n_estimators=200;, score=0.736 total time=   9.3s\n",
      "[CV 3/3] END max_depth=5, min_samples_split=2, n_estimators=200;, score=0.745 total time=   9.3s\n",
      "[CV 1/3] END max_depth=5, min_samples_split=2, n_estimators=300;, score=0.638 total time=  14.7s\n",
      "[CV 2/3] END max_depth=5, min_samples_split=2, n_estimators=300;, score=0.736 total time=  14.2s\n",
      "[CV 3/3] END max_depth=5, min_samples_split=2, n_estimators=300;, score=0.745 total time=  14.6s\n",
      "[CV 1/3] END max_depth=5, min_samples_split=3, n_estimators=100;, score=0.638 total time=   5.0s\n",
      "[CV 2/3] END max_depth=5, min_samples_split=3, n_estimators=100;, score=0.736 total time=   4.9s\n",
      "[CV 3/3] END max_depth=5, min_samples_split=3, n_estimators=100;, score=0.745 total time=   4.9s\n",
      "[CV 1/3] END max_depth=5, min_samples_split=3, n_estimators=200;, score=0.638 total time=  10.0s\n",
      "[CV 2/3] END max_depth=5, min_samples_split=3, n_estimators=200;, score=0.736 total time=   9.8s\n",
      "[CV 3/3] END max_depth=5, min_samples_split=3, n_estimators=200;, score=0.745 total time=   9.7s\n",
      "[CV 1/3] END max_depth=5, min_samples_split=3, n_estimators=300;, score=0.638 total time=  15.2s\n",
      "[CV 2/3] END max_depth=5, min_samples_split=3, n_estimators=300;, score=0.736 total time=  15.2s\n",
      "[CV 3/3] END max_depth=5, min_samples_split=3, n_estimators=300;, score=0.745 total time=  14.4s\n",
      "Writing results to Excel...\n"
     ]
    }
   ],
   "source": [
    "gs_performances = pd.DataFrame()\n",
    "\n",
    "for p in [30,15,20]:\n",
    "    print('Rolling period = %i' %p)\n",
    "\n",
    "    # Read in data\n",
    "    print('Reading data...')\n",
    "    excel_path = '/'.join(['.','Data',\n",
    "                            'modeling_data_%i rp_fpts.xlsx' %p])\n",
    "\n",
    "    data = pd.read_excel(excel_path,\n",
    "                         header = 0)\n",
    "\n",
    "    # Train-test split\n",
    "    X_train, X_test, y_train, y_test = split_train_test(data)\n",
    "\n",
    "    # Randomized Search CV\n",
    "    print('Performing GridSearchCV...')\n",
    "    gs_num_estimators = [100,200,300]\n",
    "    gs_depth = [5]\n",
    "    gs_sample_split = [2,3]\n",
    "    \n",
    "    gs_rf_params = {'n_estimators':gs_num_estimators,\n",
    "                 'max_depth':gs_depth,\n",
    "                 'min_samples_split':gs_sample_split}\n",
    "\n",
    "    rf_regress_gsCV = GridSearchCV(rf_regress,\n",
    "                                          gs_rf_params,\n",
    "                                         cv = 3,\n",
    "                                         verbose = 3)\n",
    "\n",
    "    rf_regress_gsCV.fit(X_train,\n",
    "                         y_train)\n",
    "\n",
    "    gs_cv_performance = pd.DataFrame(rf_regress_gsCV.cv_results_).sort_values('rank_test_score')\n",
    "\n",
    "    gs_cv_performance['rolling_period'] = p\n",
    "\n",
    "    gs_performances = pd.concat([gs_performances,\n",
    "                                 gs_cv_performance])\n",
    "\n",
    "# Writer RandomSearchCV performance to excel\n",
    "print('Writing results to Excel...')\n",
    "gs_cv_performance_excel_path = '/'.join(['.','Data',\n",
    "                                        'GridSearch CV Performance.xlsx'])\n",
    "\n",
    "with pd.ExcelWriter(gs_cv_performance_excel_path, mode = 'a') as writer:\n",
    "    gs_performances.to_excel(writer,\n",
    "                                sheet_name = 'GridSearchCV Perf',\n",
    "                                index = False)"
   ]
  },
  {
   "cell_type": "code",
   "execution_count": null,
   "id": "19c7fabe-c2f2-4f0a-882d-0d6b4b72daec",
   "metadata": {},
   "outputs": [],
   "source": []
  },
  {
   "cell_type": "code",
   "execution_count": null,
   "id": "19b210d3-5987-4f56-9378-e45aad25a691",
   "metadata": {},
   "outputs": [],
   "source": []
  },
  {
   "cell_type": "markdown",
   "id": "3f0f849a-982a-40e7-a25f-2e51cef429f3",
   "metadata": {},
   "source": [
    "## Final Params"
   ]
  },
  {
   "cell_type": "code",
   "execution_count": 23,
   "id": "1e1028bc-729d-4902-8a55-9fb6c3569692",
   "metadata": {},
   "outputs": [],
   "source": [
    "# For rolling_period = 62\n",
    "final_max_depth = 5\n",
    "final_min_samples_split = 2\n",
    "final_n_estimators = 200"
   ]
  },
  {
   "cell_type": "code",
   "execution_count": 24,
   "id": "8b36ab05-8e6a-428d-aa63-c1244722e115",
   "metadata": {},
   "outputs": [],
   "source": [
    "final_rf_regress = RandomForestRegressor(max_depth = final_max_depth,\n",
    "                                         min_samples_split = final_min_samples_split,\n",
    "                                         n_estimators = final_n_estimators,\n",
    "                                         random_state = ran_state)"
   ]
  },
  {
   "cell_type": "code",
   "execution_count": 25,
   "id": "ed826abd-5ba6-440f-8127-18bc3f012f10",
   "metadata": {},
   "outputs": [],
   "source": [
    "final_rolling_period = 30\n",
    "\n",
    "excel_path = '/'.join(['.','Data',\n",
    "                        'modeling_data_%i rp_fpts.xlsx' %final_rolling_period])\n",
    "\n",
    "final_data = pd.read_excel(excel_path,\n",
    "                     header = 0)"
   ]
  },
  {
   "cell_type": "code",
   "execution_count": 26,
   "id": "dfecd7eb-4777-4a61-818d-aed799e1e4da",
   "metadata": {},
   "outputs": [],
   "source": [
    "X_train, X_test, y_train, y_test = split_train_test(final_data)"
   ]
  },
  {
   "cell_type": "code",
   "execution_count": 27,
   "id": "560cca53-116f-48be-848f-05cc6edc0d24",
   "metadata": {},
   "outputs": [
    {
     "data": {
      "text/html": [
       "<style>#sk-container-id-2 {color: black;}#sk-container-id-2 pre{padding: 0;}#sk-container-id-2 div.sk-toggleable {background-color: white;}#sk-container-id-2 label.sk-toggleable__label {cursor: pointer;display: block;width: 100%;margin-bottom: 0;padding: 0.3em;box-sizing: border-box;text-align: center;}#sk-container-id-2 label.sk-toggleable__label-arrow:before {content: \"▸\";float: left;margin-right: 0.25em;color: #696969;}#sk-container-id-2 label.sk-toggleable__label-arrow:hover:before {color: black;}#sk-container-id-2 div.sk-estimator:hover label.sk-toggleable__label-arrow:before {color: black;}#sk-container-id-2 div.sk-toggleable__content {max-height: 0;max-width: 0;overflow: hidden;text-align: left;background-color: #f0f8ff;}#sk-container-id-2 div.sk-toggleable__content pre {margin: 0.2em;color: black;border-radius: 0.25em;background-color: #f0f8ff;}#sk-container-id-2 input.sk-toggleable__control:checked~div.sk-toggleable__content {max-height: 200px;max-width: 100%;overflow: auto;}#sk-container-id-2 input.sk-toggleable__control:checked~label.sk-toggleable__label-arrow:before {content: \"▾\";}#sk-container-id-2 div.sk-estimator input.sk-toggleable__control:checked~label.sk-toggleable__label {background-color: #d4ebff;}#sk-container-id-2 div.sk-label input.sk-toggleable__control:checked~label.sk-toggleable__label {background-color: #d4ebff;}#sk-container-id-2 input.sk-hidden--visually {border: 0;clip: rect(1px 1px 1px 1px);clip: rect(1px, 1px, 1px, 1px);height: 1px;margin: -1px;overflow: hidden;padding: 0;position: absolute;width: 1px;}#sk-container-id-2 div.sk-estimator {font-family: monospace;background-color: #f0f8ff;border: 1px dotted black;border-radius: 0.25em;box-sizing: border-box;margin-bottom: 0.5em;}#sk-container-id-2 div.sk-estimator:hover {background-color: #d4ebff;}#sk-container-id-2 div.sk-parallel-item::after {content: \"\";width: 100%;border-bottom: 1px solid gray;flex-grow: 1;}#sk-container-id-2 div.sk-label:hover label.sk-toggleable__label {background-color: #d4ebff;}#sk-container-id-2 div.sk-serial::before {content: \"\";position: absolute;border-left: 1px solid gray;box-sizing: border-box;top: 0;bottom: 0;left: 50%;z-index: 0;}#sk-container-id-2 div.sk-serial {display: flex;flex-direction: column;align-items: center;background-color: white;padding-right: 0.2em;padding-left: 0.2em;position: relative;}#sk-container-id-2 div.sk-item {position: relative;z-index: 1;}#sk-container-id-2 div.sk-parallel {display: flex;align-items: stretch;justify-content: center;background-color: white;position: relative;}#sk-container-id-2 div.sk-item::before, #sk-container-id-2 div.sk-parallel-item::before {content: \"\";position: absolute;border-left: 1px solid gray;box-sizing: border-box;top: 0;bottom: 0;left: 50%;z-index: -1;}#sk-container-id-2 div.sk-parallel-item {display: flex;flex-direction: column;z-index: 1;position: relative;background-color: white;}#sk-container-id-2 div.sk-parallel-item:first-child::after {align-self: flex-end;width: 50%;}#sk-container-id-2 div.sk-parallel-item:last-child::after {align-self: flex-start;width: 50%;}#sk-container-id-2 div.sk-parallel-item:only-child::after {width: 0;}#sk-container-id-2 div.sk-dashed-wrapped {border: 1px dashed gray;margin: 0 0.4em 0.5em 0.4em;box-sizing: border-box;padding-bottom: 0.4em;background-color: white;}#sk-container-id-2 div.sk-label label {font-family: monospace;font-weight: bold;display: inline-block;line-height: 1.2em;}#sk-container-id-2 div.sk-label-container {text-align: center;}#sk-container-id-2 div.sk-container {/* jupyter's `normalize.less` sets `[hidden] { display: none; }` but bootstrap.min.css set `[hidden] { display: none !important; }` so we also need the `!important` here to be able to override the default hidden behavior on the sphinx rendered scikit-learn.org. See: https://github.com/scikit-learn/scikit-learn/issues/21755 */display: inline-block !important;position: relative;}#sk-container-id-2 div.sk-text-repr-fallback {display: none;}</style><div id=\"sk-container-id-2\" class=\"sk-top-container\"><div class=\"sk-text-repr-fallback\"><pre>RandomForestRegressor(max_depth=5, n_estimators=200, random_state=130)</pre><b>In a Jupyter environment, please rerun this cell to show the HTML representation or trust the notebook. <br />On GitHub, the HTML representation is unable to render, please try loading this page with nbviewer.org.</b></div><div class=\"sk-container\" hidden><div class=\"sk-item\"><div class=\"sk-estimator sk-toggleable\"><input class=\"sk-toggleable__control sk-hidden--visually\" id=\"sk-estimator-id-2\" type=\"checkbox\" checked><label for=\"sk-estimator-id-2\" class=\"sk-toggleable__label sk-toggleable__label-arrow\">RandomForestRegressor</label><div class=\"sk-toggleable__content\"><pre>RandomForestRegressor(max_depth=5, n_estimators=200, random_state=130)</pre></div></div></div></div></div>"
      ],
      "text/plain": [
       "RandomForestRegressor(max_depth=5, n_estimators=200, random_state=130)"
      ]
     },
     "execution_count": 27,
     "metadata": {},
     "output_type": "execute_result"
    }
   ],
   "source": [
    "final_rf_regress.fit(X_train,\n",
    "                     y_train)"
   ]
  },
  {
   "cell_type": "markdown",
   "id": "5257200c-3804-4781-a760-8b8077077e42",
   "metadata": {},
   "source": [
    "### Export Model"
   ]
  },
  {
   "cell_type": "code",
   "execution_count": 28,
   "id": "c994d11f-3515-48c6-9008-36068059489e",
   "metadata": {},
   "outputs": [],
   "source": [
    "# Save trained model\n",
    "import pickle\n",
    "\n",
    "model_file_name = './Models/rf_regress_model_fpts.pkl'"
   ]
  },
  {
   "cell_type": "code",
   "execution_count": 29,
   "id": "f438cbed-617d-4e4f-81eb-2e733081ceb2",
   "metadata": {},
   "outputs": [],
   "source": [
    "with open(model_file_name, 'wb') as file:\n",
    "    pickle.dump(final_rf_regress,\n",
    "                file)"
   ]
  },
  {
   "cell_type": "markdown",
   "id": "ff3805d9-adf3-47d8-91de-60a4ff9c7b68",
   "metadata": {},
   "source": [
    "## Model Evaluation"
   ]
  },
  {
   "cell_type": "code",
   "execution_count": null,
   "id": "70d65570-8cb0-435c-be2b-1134abf39e84",
   "metadata": {},
   "outputs": [],
   "source": [
    "# Save trained model\n",
    "import pickle\n",
    "\n",
    "model_file_name = './Models/rf_regress_model_fpts.pkl'\n",
    "\n",
    "with open(model_file_name, 'rb') as file:\n",
    "    final_rf_regress = pickle.load(file)"
   ]
  },
  {
   "cell_type": "code",
   "execution_count": null,
   "id": "893be547-0a2d-4c58-a54c-103e9da5ea76",
   "metadata": {},
   "outputs": [],
   "source": [
    "y_pred_rf = pd.DataFrame(final_rf_regress.predict(X_test),\n",
    "                      columns = ['fpts_normed'])"
   ]
  },
  {
   "cell_type": "code",
   "execution_count": null,
   "id": "3c6d0d73-6a51-41c7-b6c2-8c37b7ec1c65",
   "metadata": {},
   "outputs": [],
   "source": [
    "y_test['fpts'] = y_test['fpts_normed'].apply(lambda x: x**2)\n",
    "y_pred_rf['fpts'] = y_pred_rf['fpts_normed'].apply(lambda x: x**2)"
   ]
  },
  {
   "cell_type": "code",
   "execution_count": null,
   "id": "39eeafc1-109e-4d6e-9ec1-47ea208d4858",
   "metadata": {},
   "outputs": [],
   "source": []
  },
  {
   "cell_type": "code",
   "execution_count": null,
   "id": "de5de06b-80d5-4594-a2ec-b37ceb7a06a3",
   "metadata": {},
   "outputs": [],
   "source": [
    "mse = mean_squared_error(y_test[['fpts']],\n",
    "                         y_pred_rf[['fpts']],\n",
    "                        squared = False)\n",
    "\n",
    "r_squared = r2_score(y_test[['fpts']],\n",
    "                     y_pred_rf[['fpts']])\n",
    "\n",
    "print('Root Mean Squared Error = %f' %mse)\n",
    "print('R Squared = %f' %r_squared)\n",
    "\n",
    "# Residual plot\n",
    "residuals_rf = y_test['fpts'].values - y_pred_rf['fpts'].values\n",
    "print('Sum of residuals = %f' %sum(residuals_rf))"
   ]
  },
  {
   "cell_type": "code",
   "execution_count": null,
   "id": "bccd9f8d-1cab-4da2-b1af-d09b682be0ea",
   "metadata": {},
   "outputs": [],
   "source": []
  },
  {
   "cell_type": "code",
   "execution_count": null,
   "id": "981ff310-c072-4020-a10f-3498d8b9a6d2",
   "metadata": {},
   "outputs": [],
   "source": [
    "fig, ax = plt.subplots(figsize = (10,10))\n",
    "sns.residplot(x = y_test['fpts'],\n",
    "             y = y_pred_rf['fpts'])"
   ]
  },
  {
   "cell_type": "code",
   "execution_count": null,
   "id": "b36a9fb8-07be-425c-b69c-78f337ec1042",
   "metadata": {},
   "outputs": [],
   "source": []
  },
  {
   "cell_type": "code",
   "execution_count": null,
   "id": "4db6a1a5-b382-41ef-8627-8788898d142b",
   "metadata": {},
   "outputs": [],
   "source": []
  },
  {
   "cell_type": "code",
   "execution_count": null,
   "id": "d47305b0-5079-4520-b32b-952a5ff31b95",
   "metadata": {},
   "outputs": [],
   "source": [
    "final_data_X_test = final_data[final_data.index.isin(X_test.index)]"
   ]
  },
  {
   "cell_type": "code",
   "execution_count": null,
   "id": "60f3f341-1c95-4a3d-943a-ec971b47df16",
   "metadata": {},
   "outputs": [],
   "source": [
    "y_pred_rf.columns = ['_'.join([i,'pred']) for i in y_pred_rf.columns]"
   ]
  },
  {
   "cell_type": "code",
   "execution_count": null,
   "id": "924c55ff-d39f-43cb-b5bb-085cda72c523",
   "metadata": {},
   "outputs": [],
   "source": [
    "y_test.columns = ['_'.join([i,'test']) for i in y_test.columns]"
   ]
  },
  {
   "cell_type": "code",
   "execution_count": null,
   "id": "01f14a83-5238-4539-bcfd-5154d532ed5a",
   "metadata": {},
   "outputs": [],
   "source": []
  },
  {
   "cell_type": "code",
   "execution_count": null,
   "id": "2ac6d64d-0bbe-4f98-8365-671e6d4a5841",
   "metadata": {},
   "outputs": [],
   "source": [
    "y_pred_rf.index = final_data_X_test.index"
   ]
  },
  {
   "cell_type": "code",
   "execution_count": null,
   "id": "c6d70499-fea5-434c-bb0a-bce73de3b0c3",
   "metadata": {},
   "outputs": [],
   "source": []
  },
  {
   "cell_type": "code",
   "execution_count": null,
   "id": "bf9838e7-2ac2-403a-9623-4c0f4f8a2cb3",
   "metadata": {},
   "outputs": [],
   "source": [
    "final_data_Xy_test = pd.concat([final_data_X_test,\n",
    "                                y_test,\n",
    "                                y_pred_rf],\n",
    "                               axis = 1)"
   ]
  },
  {
   "cell_type": "code",
   "execution_count": null,
   "id": "37296367-0c89-4717-b62b-ee6b9779b31f",
   "metadata": {},
   "outputs": [],
   "source": []
  },
  {
   "cell_type": "code",
   "execution_count": null,
   "id": "a25a010f-6872-45ba-ab74-8489060658cc",
   "metadata": {},
   "outputs": [],
   "source": [
    "final_data_Xy_test.drop([i for i in final_data_Xy_test.columns if 'player_position' in i],\n",
    "                        axis = 1)"
   ]
  },
  {
   "cell_type": "code",
   "execution_count": null,
   "id": "58664633-629a-4549-8964-4994eb66d2bd",
   "metadata": {},
   "outputs": [],
   "source": [
    "final_data_Xy_test['fpts_residuals'] = final_data_Xy_test['fpts_test'] - final_data_Xy_test['fpts_pred']"
   ]
  },
  {
   "cell_type": "code",
   "execution_count": null,
   "id": "ba02ac4f-1860-4b1d-a57c-d1da7aa6fedc",
   "metadata": {},
   "outputs": [],
   "source": []
  },
  {
   "cell_type": "code",
   "execution_count": null,
   "id": "01fa1fbf-41b1-4280-8401-91c995e2195b",
   "metadata": {},
   "outputs": [],
   "source": [
    "fig, ax = plt.subplots(figsize = (10,10))\n",
    "sns.distplot(final_data_Xy_test['fpts_residuals'])\n",
    "print(((final_data_Xy_test['fpts_residuals'])).skew())"
   ]
  },
  {
   "cell_type": "code",
   "execution_count": null,
   "id": "6ea58c0d-ea77-4648-a330-85e5a8e57b5b",
   "metadata": {},
   "outputs": [],
   "source": [
    "# skew of residuals\n",
    "## All Stand Pos-less\n",
    "### 0.33158\n",
    "\n",
    "## No Team Stand Pos-less\n",
    "### 0.33215"
   ]
  },
  {
   "cell_type": "code",
   "execution_count": null,
   "id": "3fffef29-06e0-4e45-83be-6ac61b818554",
   "metadata": {},
   "outputs": [],
   "source": []
  },
  {
   "cell_type": "code",
   "execution_count": null,
   "id": "293833e7-d1ee-44b2-b0db-ee9c49eeb8f4",
   "metadata": {},
   "outputs": [],
   "source": []
  },
  {
   "cell_type": "code",
   "execution_count": null,
   "id": "779a40a9-c76d-4a42-99a9-dc4b2a9d593a",
   "metadata": {},
   "outputs": [],
   "source": []
  },
  {
   "cell_type": "code",
   "execution_count": null,
   "id": "849360b8-4beb-4a9b-a029-10a8e8ca812e",
   "metadata": {},
   "outputs": [],
   "source": []
  },
  {
   "cell_type": "code",
   "execution_count": null,
   "id": "0530030d-3451-4aae-8984-84c51ee62726",
   "metadata": {},
   "outputs": [],
   "source": []
  },
  {
   "cell_type": "code",
   "execution_count": null,
   "id": "72337c08-fb9e-474a-b186-b320f703c333",
   "metadata": {},
   "outputs": [],
   "source": []
  }
 ],
 "metadata": {
  "kernelspec": {
   "display_name": "Python 3 (ipykernel)",
   "language": "python",
   "name": "python3"
  },
  "language_info": {
   "codemirror_mode": {
    "name": "ipython",
    "version": 3
   },
   "file_extension": ".py",
   "mimetype": "text/x-python",
   "name": "python",
   "nbconvert_exporter": "python",
   "pygments_lexer": "ipython3",
   "version": "3.8.18"
  }
 },
 "nbformat": 4,
 "nbformat_minor": 5
}
